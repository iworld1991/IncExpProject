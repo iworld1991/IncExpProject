{
 "cells": [
  {
   "cell_type": "markdown",
   "metadata": {},
   "source": [
    "### Perceived Income Risks \n"
   ]
  },
  {
   "cell_type": "markdown",
   "metadata": {},
   "source": [
    "\\begin{equation}\n",
    "\\begin{split}\n",
    "y_t = P_t + \\epsilon_t \\\\\n",
    "P_t = P_{t-1} + \\theta_t \n",
    "\\end{split}\n",
    "\\end{equation}\n",
    "\n",
    "Income growth is \n",
    "\n",
    "\\begin{equation}\n",
    "\\begin{split}\n",
    "\\Delta y_{t+1} = y_{t+1} - y_{t} \\\\\n",
    " = P_{t+1} + \\epsilon_{t+1} - P_{t} - \\epsilon_{t} \\\\\n",
    " = \\theta_{t+1} + \\Delta \\epsilon_{t+1}\n",
    "\\end{split}\n",
    "\\end{equation}\n",
    "\n",
    "Assuming the agent knows perfectly the income process, then standing at time $t$, the conditional variance of income growth for next period is \n",
    "\n",
    "\\begin{equation}\n",
    "Var^*_{t}(\\Delta y_{t+1}) = \\sigma^2_\\theta + \\sigma^2_\\epsilon\n",
    "\\end{equation}\n",
    "\n",
    "Notice this is different from the econometrician's problem since the agent sees the realization of $\\epsilon_t$. For econometrician, is $\\sigma^2_\\theta + 2\\sigma^2_\\epsilon$.\n",
    "\n",
    "The serial covariance of income growth across two periods are \n",
    "\\begin{equation}\n",
    "Cov^*_{t}( \\Delta y_t, \\Delta y_{t+1} ) = \\\\\n",
    " = Cov^*_{t}(\\theta_t + \\epsilon_t - \\epsilon_{t-1}, \\theta_{t+1} + \\epsilon_{t+1} - \\epsilon_{t}) \\\\\n",
    " = 0\n",
    "\\end{equation}\n",
    "\n",
    "Again, this is different from the econometrician's problem because $\\epsilon_t$ is known by the agent in the model. For econometrician, it is $-\\sigma^2_\\epsilon$."
   ]
  },
  {
   "cell_type": "markdown",
   "metadata": {},
   "source": [
    "## Road Map\n",
    "\n",
    "- Since we directly observe the perceived risk by each individual;\n",
    "- We can also compute the serial covariance from the data....(need to check)\n",
    "- Then we can use this restrictions to uncover the perceived permanent and transitory income risks.\n",
    "- Then we can compare the perceived permanent and transitory income risks with the ones that has been estimated only using realized earnings. "
   ]
  },
  {
   "cell_type": "markdown",
   "metadata": {},
   "source": [
    "## A Little Complication due the Structure of SCE\n",
    "\n",
    "- The earning growth asked is from $m$ to $m+12$. \n",
    "- The survey is asked each month. "
   ]
  },
  {
   "cell_type": "markdown",
   "metadata": {},
   "source": [
    "### Simple Example with Half-year Surveys of Annual Earning Growth\n",
    "\n",
    "Earning in year $t$ is a summation of half-year earning. \n",
    "\n",
    "\\begin{equation}\n",
    "y_t = y_{t'}+ y_{t''} \n",
    "\\end{equation}\n",
    "\n",
    "\\begin{equation}\n",
    "\\begin{split}\n",
    "\\Delta y_{t+1} = y_{(t+1)'}+ y_{(t+1)''} - y_{t' } - y_{t''}  \\\\\n",
    " = p_{(t+1)'} + \\epsilon_{(t+1)'} + p_{(t+1)''} + \\epsilon_{(t+1)''} - p_{(t)'} - \\epsilon_{(t)'} - p_{(t)''} - \\epsilon_{(t)'' } \\\\\n",
    " = \\theta_{(t)''} + \\theta_{(t+1)'} + \\theta_{(t+1)''} + \\theta_{(t+1)'} + \\epsilon_{(t+1)'} + \\epsilon_{(t+1)''} - \\epsilon_{(t)'} - \\epsilon_{(t)''} \\\\\n",
    " =  \\theta_{(t)''} + 2\\theta_{(t+1)'} + \\theta_{(t+1)''} + \\epsilon_{(t+1)'} + \\epsilon_{(t+1)''} - \\epsilon_{(t)'} - \\epsilon_{(t)''} \n",
    "\\end{split}\n",
    "\\end{equation}\n",
    "\n",
    "Then \n",
    "\n",
    "\\begin{equation}\n",
    "Var^*_{t''}(\\Delta y_{t+1}) = 2 \\sigma^2_\\theta + 2 \\sigma^2_\\epsilon\n",
    "\\end{equation}\n",
    "\n",
    "\n",
    "\\begin{equation}\n",
    "Var^*_{(t+1)'}(\\Delta y_t) =  \\sigma^2_\\theta + \\sigma^2_\\epsilon\n",
    "\\end{equation}\n",
    "\n",
    "From end of $t''$ (end of year $t$) to the end of $(t+1)''$ (middle of the year $t+1$), the realization of $\\theta_{(t+1)'}$ and $\\epsilon_{(t+1)'}$ reduces the variance. \n",
    "\n",
    "\\begin{equation}\n",
    "Cov^*_{t''}(\\Delta y_t, \\Delta y_{t+1}) = 0\n",
    "\\end{equation}\n",
    "\n",
    "Standing at any point of the time, for the rational agent, the $\\Delta y_t$ is realizated already. So it should have zero covariance with income growth in future. \n",
    "\n",
    "This is again, different from the econometrician's problem. "
   ]
  }
 ],
 "metadata": {
  "kernelspec": {
   "display_name": "Python 3",
   "language": "python",
   "name": "python3"
  },
  "language_info": {
   "codemirror_mode": {
    "name": "ipython",
    "version": 3
   },
   "file_extension": ".py",
   "mimetype": "text/x-python",
   "name": "python",
   "nbconvert_exporter": "python",
   "pygments_lexer": "ipython3",
   "version": "3.7.3"
  }
 },
 "nbformat": 4,
 "nbformat_minor": 2
}
