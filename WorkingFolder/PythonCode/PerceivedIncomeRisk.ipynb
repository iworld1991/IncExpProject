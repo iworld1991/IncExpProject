{
 "cells": [
  {
   "cell_type": "markdown",
   "metadata": {},
   "source": [
    "# Perceived Income Risks  \n",
    " - a research proposal\n",
    " - Tao Wang\n",
    " - Oct 14, 2019\n"
   ]
  },
  {
   "cell_type": "code",
   "execution_count": null,
   "metadata": {},
   "outputs": [],
   "source": [
    "#python3 -m pip install cite2c\n",
    "#python3 -m cite2c.install"
   ]
  },
  {
   "cell_type": "markdown",
   "metadata": {},
   "source": [
    "## 1. The research question\n",
    "\n",
    "\n",
    "### 1.1. Question\n",
    "\n",
    "- Econometricians have realied only on realized income/earning series to estimate the variance of income shocks of different degrees of persistence. <cite data-cite=\"7250895/FHA8RDSF\"></cite> But now, since the density forecasts of individual earning growth (perceived income risks) has been directly solicited, we can do the following:\n",
    "  - Using the additional moments to identify the income risks\n",
    "    - This is an extention of <cite data-cite=\"7250895/A8ZPCUWH\"></cite> from the first moment to the second moments of income risks.  \n",
    "  - Compare it with the risks that are only identified from the realized series, one way to characterize the deviations of perceived income process from the full-information rational expectation benchmark\n",
    "     - For instance, if agents overestimate their permanent income risks? \n",
    "     - If agents overestimate the persistence of the income process? <cite data-cite=\"7250895/7HVQJWCP\"></cite>\n",
    "     - To what extent, the cross-sectional inequality resulting from the income risks assumed by econometricians are perceived by the agents themselves.\n",
    "        - If agents know more than econometricians about their individual earnings, the perceived risks may be lower than econometrician's estimates?\n",
    "        - Or actually, agents, due to inattention or other reasons, tend to think the overall risk is higher?\n",
    "     - One step back, if the perceived income process is really log normal. Or it has skewness? This can be jointly tested using higher moments of the density forecasts.  \n",
    "     - Finally, not just the process of earning itself, but also its covariance with macro-environment, risky asset returns, etc. \n",
    "        - For instance, if perceived income risks are counter-cyclical, it has important labor supply and portfolio implications. <cite data-cite=\"7250895/QAM2226R\"></cite>\n",
    "\n",
    "- The advantage of doing this\n",
    "  - Econometricians have no full access to what agents truely know in their information set. With expectations and perceived income risks help solve this problem.\n",
    "     - Insurance or information problem in consumption literature: what is interpreted as excessive sensitivity may be simply because agents do not have access to the recently realized shocks.  <cite data-cite=\"7250895/E4A52B9Y\"></cite>. <cite data-cite=\"7250895/UZEIW4NQ\"></cite> \n",
    "  - To the extent that agents make decisions based on their perceptions instead of what is considered as the true objective law of the motion, understanding the perceived income risks profile and its correlation structure with other macro variables are the keys to explain their behavior patterns. \n",
    "     \n",
    "### 1.2. Relevant Literature and Potential Contribution \n",
    "     \n",
    "### 1.3. A broader motivation\n",
    "\n",
    "  - The approach that I am proposing here is a natural development from the existing literature of expectation formation. One of the common practices in this literature is to compare the measured expectations from surveys with the law of the systems independently identified by econometricians and interpret all deviations of the former to the latter as the evidence for irrationality. It is true that this has proved to be fruitful and refreshing compared to the earlier macroeconomic tradition that solely relies on the stringent assumption of rationality. But such practices implicitly assume the process discovered by econometricians is the \"true\" one. It does not recognize at all the use of large-sized surveys of expectations in discovering the law of the system besides making a case about how expectations are not rational. Therefore, a rather obvious reconciliation building upon the existing literature is to utilize jointly the realized data and expectations to understand the \"true\" process, while allowing for the partial rationality of the modelers and agents in the model. \n",
    "   - The advantage of doing this is \n",
    "      - One does not need to make a stringent assumption about either agents' full rationality or econometricians' correctness of model specification.\n",
    "      - Utilize the information from expectations to understand the true law of the system.\n",
    "   - Once we take this step, it is natural to incorporate specific mechanisms of expectation formation into a full-fledged structural model that contains optimizing decisions and general equilibrium forces.   "
   ]
  },
  {
   "cell_type": "markdown",
   "metadata": {},
   "source": [
    "## 2. Data and Density Estimation \n",
    "\n",
    "\n",
    "### 2.1. Data \n",
    "\n",
    "  - The New York Fed Survey of Consumer Expectation (SCE).\n",
    " \n",
    "  \n",
    "### 2.2. [Density Estimation](DoDensityEst.ipynb)\n",
    "\n",
    "\n",
    "  - Following Manski(2009), the histograms are fit accordingly for three cases. \n",
    "    - case 1. 3+ intervales with positive probabilities, to be fitted with a generalized beta distribution\n",
    "    - case 2. exactly 2 adjacent intervals with positive probabilities, to be fitted with a triangle distribution \n",
    "    - case 3. one interval only, to be fitted with a uniform distribution\n",
    "      - Merit of use generalized beta distribution, flexibility.  \n",
    "  \n",
    "  - Use estimates of mean and variance provided by NYFed as well as my own estimates of higher moments, skewness and kurtosis.\n",
    "  \n",
    "  - Some cross validation and bobustness checks \n",
    "    - different algorithms \n",
    "    - repeated estimation\n",
    "    \n",
    "  - Winsorization \n",
    "  \n",
    "  \n",
    "### 3.3. Other data processing issues\n",
    "\n",
    "   - conversion from nominal to real.\n",
    "      expected real earning growth = expected nominal earning growth - inflation \n",
    "      var(expected earning growth) = var(expected nominal earning growth) - var(inflation) \n",
    "   - perceived income risks and other unemployment risk. \n",
    "      - this posted a lower bound for the risk as the question only askes about the earning growth for the same job. \n",
    "      - nead to adjust by the unemployment risks"
   ]
  },
  {
   "attachments": {
    "hist_Q24_iqr.jpg": {
     "image/jpeg": "[encoded data removed]"
    },
    "hist_Q24_mean.jpg": {
     "image/jpeg": "[encoded data removed]"
    },
    "hist_Q24_var.jpg": {
     "image/jpeg": "[encoded data removed]"
    }
   },
   "cell_type": "markdown",
   "metadata": {},
   "source": [
    "## 3. Subjective income risks and macro environment\n",
    "\n",
    "\n",
    "### 3.1. Cross-sectional distribution of income moments\n",
    "\n",
    "  - Proportion of distributions. Skewness.\n",
    "  - Distribution of mean/iqr/var/skewness\n",
    "  \n",
    "  ![hist_Q24_mean.jpg](attachment:hist_Q24_mean.jpg) \n",
    "  ![hist_Q24_var.jpg](attachment:hist_Q24_var.jpg)\n",
    "  ![hist_Q24_iqr.jpg](attachment:hist_Q24_iqr.jpg)\n",
    "     \n",
    "### 3.3. [Correlation with asset returns](MacroRiskProfile.ipynb)\n",
    "  \n",
    "  - Seasonal adjustment to the monthly series of different moments. \n",
    "  - Choice of summary stats, median and mean; \n",
    "  - Correlation with stock market returns;\n",
    "     - Cite papers on counter-cylical risks and skewness \n",
    "\n",
    "\n",
    "### 3.4. [Individual characteristics and perceived income risks](MicroRiskProfile.ipynb)\n",
    "  - income group \n",
    "  - perceived probability of unemployment\n",
    "  - perceived probability of stock market rise\n",
    "  - demographic information "
   ]
  },
  {
   "cell_type": "markdown",
   "metadata": {},
   "source": [
    "## 4. Decomposing perceived income risks \n",
    "\n",
    "### 4.1. An illustration of the idea in an permanent-transitory income process\n",
    "\n",
    "\n",
    "The income process of individual $i$ is the following \n",
    "\n",
    "\\begin{equation}\n",
    "\\begin{split}\n",
    "y_{i,t} = P_{i,t} + \\epsilon_{i,t} \\\\\n",
    "P_{i,t} = P_{i,t-1} + \\theta_{i,t} \\\\\n",
    "\\theta_{i,t} \\sim N(0,\\sigma_{\\theta,t}) \\\\\n",
    "\\epsilon_{i,t} \\sim N(0,\\sigma_{\\epsilon,t})\n",
    "\\end{split}\n",
    "\\end{equation}\n",
    "\n",
    "Notice transitory and permanent risks are time-varying. For now, we do not break down the individual into different cohorts, i.e. $\\sigma_{\\theta,t}$ and $\\sigma_{\\epsilon,t}$ are not cohort specific. But we can do this exercise for any defined cohort.  \n",
    "\n",
    "Income growth is \n",
    "\n",
    "\\begin{equation}\n",
    "\\begin{split}\n",
    "\\Delta y_{i,t+1} = y_{i,t+1} - y_{i,t} \\\\\n",
    " = P_{i,t+1} + \\epsilon_{i,t+1} - P_{i,t} - \\epsilon_{i,t} \\\\\n",
    " = \\theta_{i,t+1} + \\Delta \\epsilon_{i,t+1}\n",
    "\\end{split}\n",
    "\\end{equation}\n",
    "\n",
    "Assuming the agent knows perfectly the income process, then standing at time $t$, the conditional variance of income growth for next period is \n",
    "\n",
    "\\begin{equation}\n",
    "Var^*_{i,t}(\\Delta y_{i,t+1}) = \\tilde \\sigma^2_{\\theta,t+1} + \\tilde \\sigma^2_{\\epsilon,t+1} \\quad \\forall i\n",
    "\\end{equation}\n",
    " \n",
    "where we use $\\tilde{}$ supscript to denote the perceived risks. Because of rational expectation, the agent learns about the realization of $\\sigma_{\\epsilon,t}$, therefore it does not show up in her uncertainty. \n",
    "\n",
    "In the same time, the cross-cetional variance of the expected income growth at time $t$ about income growth reflects the different views of the risks.\n",
    "\n",
    "\\begin{equation}\n",
    "\\overline {Var}^*_{t}(E_{i}(\\Delta y_{i,t+1})) = \\tilde \\sigma^2_{\\theta,t+1} +\\tilde \\sigma^2_{\\epsilon,t}+ \\tilde \\sigma^2_{\\epsilon,t+1}\n",
    "\\end{equation}\n",
    "\n",
    "\n",
    "The autocovariance of expected income growth in consecutive two periods is as follows.\n",
    "\n",
    "\n",
    "\\begin{equation}\n",
    "\\overline {Cov}^*_{t+1|t}(E_{i,t}(\\Delta y_{i,t+1}),E_{i,t+1}(\\Delta y_{i,t+2}) ) = - \\tilde \\sigma^2_{\\epsilon,t+1}\n",
    "\\end{equation}\n",
    "\n",
    "The three moments exactly identify the perceived income risks in each period. One way to think about these risks is that they are revealed by people's forecasts.   \n",
    "\n",
    "These moments restrictions exactly mirrors the problem faced by econometricians who have only access to the realized earnings in a panel structure. \n",
    "\n",
    "What is available to econometricians is the realized cross-sectional variance of income growth (no subscript $i$) shown below. It is different from uncertainty faced with individuals. \n",
    "\n",
    "\\begin{equation}\n",
    "Var (\\Delta y_{i,t+1}) =  \\sigma^2_{\\theta,t+1} +\\sigma^2_{\\epsilon,t}+ \\sigma^2_{\\epsilon,t+1}\n",
    "\\end{equation}\n",
    "\n",
    "Taking the differences of the population's analogue of the first equation and the second above recover variance of transitory risks $\\sigma_{\\epsilon,t}$. Recursively using the panel structure, we could recover all the transitory and permanent income risks.\n",
    "\n",
    "Besides, econometricians also use the following moments.\n",
    "\n",
    "\\begin{equation}\n",
    "Cov (\\Delta y_{i,t}, \\Delta y_{i,t+1}) =  -\\sigma^2_{\\epsilon,t}\n",
    "\\end{equation}\n",
    "\n",
    "This exercise is based on the assumption that individuals across the population or one defined cohort share the same income process. And also it is rational expectation in the sense that on average individuals get the income process right. \n",
    "\n",
    "Once we recover permanent and transitory volatilities from above exercise, we can compare them with estimates from only realized income serieses.   \n",
    "\n",
    "### 4.1.1. Other moments from rational expectation\n",
    "\n",
    "Besises, econometricians have utilized another moment restrictions: auto correlation of income growth across two periods are \n",
    "\\begin{equation}\n",
    "Cov^*_{t}( \\Delta y_t, \\Delta y_{t+1} ) = \\\\\n",
    " = Cov^*_{t}(\\theta_t + \\epsilon_t - \\epsilon_{t-1}, \\theta_{t+1} + \\epsilon_{t+1} - \\epsilon_{t}) \\\\\n",
    " = 0 \n",
    "\\end{equation}\n",
    "\n",
    "This is, again, different to an econometrician, for whom the covariance is $-\\sigma^2_{\\epsilon,t}$. The rational agent in the model learns about $\\sigma_{\\epsilon,t}$.  \n",
    "\n",
    "The serial covariance of expeced income growth across two periods are \n",
    "\\begin{equation}\n",
    "Cov^*( E_{t-1}(\\Delta y_t), E_t(\\Delta y_{t+1}) ) = \\\\\n",
    "= Cov^*(E_{t-1}(\\theta_t +\\epsilon_t - \\epsilon_{t-1}), E_{t}(\\theta_{t+1} + \\epsilon_{t+1} - \\epsilon_t)) \\\\\n",
    "= 0\n",
    "\\end{equation}"
   ]
  },
  {
   "cell_type": "markdown",
   "metadata": {},
   "source": [
    "## 4.2. Time aggregation problem \n",
    "\n",
    "- The earning growth asked is from $m$ to $m+12$. \n",
    "- The survey is asked each month. "
   ]
  },
  {
   "cell_type": "markdown",
   "metadata": {},
   "source": [
    "### 4.2.1. A Simple Example with Half-year Surveys of One-year-ahead Earning Growth\n",
    "\n",
    "Earning in year $t$ is a summation of half-year earning. \n",
    "\n",
    "\\begin{equation}\n",
    "y_t = y_{t_2}+ y_{t_2} \n",
    "\\end{equation}\n",
    "\n",
    "The YoY growth of income is below\n",
    "\n",
    "\\begin{equation}\n",
    "\\begin{split}\n",
    "\\Delta y_{t_2+1} = y_{(t+1)_1}+ y_{(t+1)_2} - y_{t_1 } - y_{t_2}  \\\\\n",
    " = p_{(t+1)_1} + \\epsilon_{(t+1)_2} + p_{(t+1)_2} + \\epsilon_{(t+1)_2} - p_{t_1} - \\epsilon_{t_1} - p_{t_1} - \\epsilon_{(t)_2 } \\\\\n",
    " = \\theta_{(t)_2} + \\theta_{(t+1)_1} + \\theta_{(t+1)_2} + \\theta_{(t+1)_1} + \\epsilon_{(t+1)_1} + \\epsilon_{(t+1)_2} - \\epsilon_{t_1} - \\epsilon_{t_2} \\\\\n",
    " =  \\theta_{t_2} + 2\\theta_{(t+1)_1} + \\theta_{(t+1)_2} + \\epsilon_{(t+1)_1} + \\epsilon_{(t+1)_2} - \\epsilon_{t_1} - \\epsilon_{t_2} \n",
    "\\end{split}\n",
    "\\end{equation}\n",
    "\n",
    "The middle-year-on-middle-year income growth is\n",
    "\n",
    "\n",
    "\\begin{equation}\n",
    "\\begin{split}\n",
    "\\Delta y_{(t+1)_1+1} = y_{(t+1)_2}+ y_{(t+2)_1} - y_{(t+1)_1} - y_{t_2}  \\\\\n",
    " = p_{(t+1)_2} + \\epsilon_{(t+1)_2} + p_{(t+2)_1} + \\epsilon_{(t+2)_1} - p_{(t+1)_1} - \\epsilon_{(t+1)_1} - p_{t_2} - \\epsilon_{t_2 } \\\\\n",
    " = \\theta_{(t+1)_2} + \\theta_{(t+1)_1} + \\theta_{(t+1)_2} + \\theta_{(t+2)_1} + \\epsilon_{(t+1)_2} + \\epsilon_{(t+2)_1} - \\epsilon_{(t+1)_1} - \\epsilon_{t_2 } \\\\\n",
    " = 2\\theta_{(t+1)_2} + \\theta_{(t+1)_1} + \\theta_{(t+2)_1} + \\epsilon_{(t+1)_2} + \\epsilon_{(t+2)_1} - \\epsilon_{(t+1)_1} - \\epsilon_{t_2 }\n",
    "\\end{split}\n",
    "\\end{equation}\n",
    "\n",
    "\n",
    "Then for each individual $i$ at $t''$ and $(t+1)'$ are respectively: \n",
    "\n",
    "\\begin{equation}\n",
    "Var^*_{i,t_2}(\\Delta y_{i,t_2+1}) =  2\\sigma^2_{\\theta,(t+1)_1} + \\sigma^2_{\\theta,(t+1)_2} + \\sigma^2_{\\epsilon,(t+1)_1} + \\sigma^2_{\\epsilon,(t+1)_2}\n",
    "\\end{equation}\n",
    "\n",
    "\n",
    "\\begin{equation}\n",
    "Var^*_{i,(t+1)_1}(\\Delta y_{i,(t+1)_1+1}) =  2\\sigma^2_{\\theta,(t+1)_2} + \\sigma^2_{\\theta,(t+2)_1} + \\sigma^2_{\\epsilon,(t+1)_2} + \\sigma^2_{\\epsilon,(t+2)_1}\n",
    "\\end{equation}\n",
    "\n",
    "From end of $t_2$ (end of year $t$) to the end of $(t+1)_1$ (middle of the year $t+1$), the realization of $\\theta_{(t+1)_1}$ and $\\epsilon_{(t+1)_1}$ reduces the variance. \n",
    "\n",
    "\n",
    "Besides, the econometricians have access to following two cross-sectional moments.\n",
    "\n",
    "\\begin{equation}\n",
    "Var (\\Delta y_{i,t_2+1}) =  \\sigma^2_{\\theta,t_2} + 2\\sigma^2_{\\theta,(t+1)_1} + \\sigma^2_{\\theta,(t+1)_2} + \\sigma^2_{\\epsilon,(t+1)_1} + \\sigma^2_{\\epsilon,(t+1)_2} + \\sigma^2_{\\epsilon,t_1} + \\sigma^2_{\\epsilon,t_2} \n",
    "\\end{equation}\n",
    "\n",
    "\n",
    "\\begin{equation}\n",
    "Var (\\Delta y_{i,(t+1)_1+1}) =  2\\sigma^2_{\\theta,(t+1)_2} + \\sigma^2_{\\theta,(t+1)_1} + \\sigma^2_{\\theta,(t+2)_1} + \\sigma^2_{\\epsilon,(t+1)_2} + \\sigma^2_{\\epsilon,(t+2)_1} + \\sigma^2_{\\epsilon,(t+1)_1} + \\sigma^2_{\\epsilon,t_2}\n",
    "\\end{equation}\n",
    "\n",
    "\\begin{equation}\n",
    "\\begin{split}\n",
    "Cov ( \\Delta y_{i,(t-1)_2+1},\\Delta y_{i,t_1+1}) = Cov(\\theta_{(t-1)_2} + 2\\theta_{t_1} + \\theta_{t_2} + \\epsilon_{t_1} + \\epsilon_{t_2} - \\epsilon_{(t-1)_1} - \\epsilon_{(t-1)_2} , \\\\\n",
    "2\\theta_{t_2} + \\theta_{t_1} + \\theta_{(t+1)_1} + \\epsilon_{t_2} + \\epsilon_{(t+1)_1} - \\epsilon_{t_1} - \\epsilon_{(t-1)_2 } ) \\\\\n",
    "= 2\\sigma^2_{\\theta,t_1} + 2\\sigma^2_{\\theta,t_2} - \\sigma^2_{\\epsilon,t_1} + \\sigma^2_{\\epsilon,t_2} + \\sigma^2_{\\epsilon,(t-1)_2}\n",
    "\\end{split}\n",
    "\\end{equation}\n",
    "\n",
    "\\begin{equation}\n",
    "\\begin{split}\n",
    "Cov ( \\Delta y_{i,(t-1)_2+1},\\Delta y_{i,t_2+1}) = Cov(\\theta_{(t-1)_2} + 2\\theta_{t_1} + \\theta_{t_2} + \\epsilon_{t_1} + \\epsilon_{t_2} - \\epsilon_{(t-1)_1} - \\epsilon_{(t-1)_2} , \\\\\n",
    "\\theta_{t_2} + 2\\theta_{(t+1)_1} + \\theta_{(t+1)_2} + \\epsilon_{(t+1)_1} + \\epsilon_{(t+1)_2} - \\epsilon_{t_1} - \\epsilon_{t_2} ) \\\\\n",
    "= \\sigma^2_{\\theta,t_2}-(\\sigma^2_{\\epsilon,(t+1)_1} + \\sigma^2_{\\epsilon,t_2})\n",
    "\\end{split}\n",
    "\\end{equation}\n",
    "\n",
    "\\begin{equation}\n",
    "\\begin{split}\n",
    "Cov ( \\Delta y_{i,t_2+1},\\Delta y_{i,(t+1)_2}) = \\sigma^2_{\\theta,(t+1)_2}-(\\sigma^2_{\\epsilon,(t+2)_1} + \\sigma^2_{\\epsilon,(t+1)_2})\n",
    "\\end{split}\n",
    "\\end{equation}\n",
    "\n",
    "\n",
    "The rational expectation assumption also gives following moment restrictions\n",
    "\n",
    "\\begin{equation}\n",
    "Cov^*_{t_2}(\\Delta y_t, \\Delta y_{t+1}) = 0\n",
    "\\end{equation}\n",
    "\n",
    "Standing at any point of the time, for the rational agent, the $\\Delta y_t$ is realizated already. So it should have zero covariance with income growth in future. \n",
    "\n",
    "This is again, different from the econometrician's problem. \n",
    "\n",
    "\n",
    "### 3.3. Alternative income process "
   ]
  },
  {
   "cell_type": "markdown",
   "metadata": {},
   "source": [
    "## 5. Model \n",
    "\n",
    "### 5.1. New ingredients of the life-cycle model \n",
    "\n",
    "### 5.2. Anticipated insights "
   ]
  },
  {
   "cell_type": "markdown",
   "metadata": {},
   "source": [
    "\n",
    "## 6. Summary \n",
    "\n"
   ]
  },
  {
   "cell_type": "markdown",
   "metadata": {},
   "source": [
    "## Reference \n",
    "\n",
    "<div class=\"cite2c-biblio\"></div>"
   ]
  }
 ],
 "metadata": {
  "cite2c": {
   "citations": {
    "7250895/7HVQJWCP": {
     "abstract": "Using micro level data, we document a systematic, income-related component in household income forecast errors. We show that these errors can be formalized by a modest deviation from rational expectations, where agents overestimate the persistence of their income process. We then investigate the implications of these distortions on consumption and savings behavior and ﬁnd two eﬀects. First, these distortions allow an otherwise fully optimization-based quantitative model to match the joint distribution of liquid assets and income. Second, the bias alters the distribution of marginal propensities to consume which makes government stimulus policies less eﬀective.",
     "author": [
      {
       "family": "Rozsypal",
       "given": "Filip"
      },
      {
       "family": "Schlafmann",
       "given": "Kathrin"
      }
     ],
     "id": "7250895/7HVQJWCP",
     "language": "en",
     "page": "80",
     "page-first": "80",
     "title": "Overpersistence Bias in Individual Income Expectations and its Aggregate Implications",
     "type": "article-journal"
    },
    "7250895/A8ZPCUWH": {
     "URL": "https://libertystreeteconomics.newyorkfed.org/2017/11/understanding-permanent-and-temporary-income-shocks.html",
     "accessed": {
      "day": 27,
      "month": 9,
      "year": 2019
     },
     "id": "7250895/A8ZPCUWH",
     "title": "Understanding Permanent and Temporary Income Shocks - Liberty Street Economics",
     "type": "webpage"
    },
    "7250895/E4A52B9Y": {
     "URL": "https://www.mitpressjournals.org/doi/10.1162/00346530152480117",
     "accessed": {
      "day": 14,
      "month": 10,
      "year": 2019
     },
     "id": "7250895/E4A52B9Y",
     "title": "Superior Information, Income Shocks, and the Permanent Income Hypothesis | The Review of Economics and Statistics | MIT Press Journals",
     "type": "webpage"
    },
    "7250895/FHA8RDSF": {
     "DOI": "10.1257/aer.98.5.1887",
     "URL": "https://www.aeaweb.org/articles?id=10.1257/aer.98.5.1887",
     "abstract": "This paper examines the link between income and consumption inequality. We\ncreate panel data on consumption for the Panel Study of Income Dynamics using\nan imputation procedure based on food demand estimates from the Consumer\nExpenditure Survey. We document a disjuncture between income and consumption\ninequality over the 1980s and show that it can be explained by changes in\nthe persistence of income shocks. We find some partial insurance of permanent\nshocks, especially for the college educated and those near retirement. We\nfind full insurance of transitory shocks except among poor households. Taxes,\ntransfers, and family labor supply play an important role in insuring permanent\nshocks. (JEL D12, D31, D91, E21)",
     "accessed": {
      "day": 14,
      "month": 10,
      "year": 2019
     },
     "author": [
      {
       "family": "Blundell",
       "given": "Richard"
      },
      {
       "family": "Pistaferri",
       "given": "Luigi"
      },
      {
       "family": "Preston",
       "given": "Ian"
      }
     ],
     "container-title": "American Economic Review",
     "id": "7250895/FHA8RDSF",
     "issue": "5",
     "issued": {
      "month": 12,
      "year": 2008
     },
     "language": "en",
     "page": "1887-1921",
     "page-first": "1887",
     "title": "Consumption Inequality and Partial Insurance",
     "type": "article-journal",
     "volume": "98"
    },
    "7250895/QAM2226R": {
     "URL": "https://papers.ssrn.com/abstract=2778892",
     "abstract": "I structurally estimate a life-cycle model of portfolio choices that incorporates the relationship between stock market returns and the skewness of idiosyncratic income shocks. The cyclicality of skewness can explain (i) low stock market participation among young households with modest financial wealth and (ii) why the equity share of participants slightly increases until retirement. With an estimated relative risk aversion of 5 and yearly participation cost of $290, the model matches the evolution of wealth, of participation and of the conditional equity share over the life-cycle. Nonetheless, I find that cyclical skewness increases the equity premium by at most 0.5%.",
     "accessed": {
      "day": 14,
      "month": 10,
      "year": 2019
     },
     "author": [
      {
       "family": "Catherine",
       "given": "Sylvain"
      }
     ],
     "event-place": "Rochester, NY",
     "genre": "SSRN Scholarly Paper",
     "id": "7250895/QAM2226R",
     "issued": {
      "day": 27,
      "month": 1,
      "year": 2019
     },
     "language": "en",
     "number": "ID 2778892",
     "publisher": "Social Science Research Network",
     "publisher-place": "Rochester, NY",
     "title": "Countercyclical Labor Income Risk and Portfolio Choices over the Life-Cycle",
     "type": "report"
    },
    "7250895/UAS7XD2F": {
     "URL": "https://www.sciencedirect.com/science/article/pii/S1094202508000306",
     "accessed": {
      "day": 14,
      "month": 10,
      "year": 2019
     },
     "id": "7250895/UAS7XD2F",
     "title": "An empirical investigation of labor income processes - ScienceDirect",
     "type": "article"
    },
    "7250895/UZEIW4NQ": {
     "URL": "https://pubs.aeaweb.org/doi/pdfplus/10.1257/aer.99.2.387",
     "accessed": {
      "day": 27,
      "month": 9,
      "year": 2019
     },
     "id": "7250895/UZEIW4NQ",
     "title": "Kaufmann and Pistaferri - 2009 - Disentangling Insurance and Information in Interte.pdf",
     "type": "article"
    },
    "7250895/VELUJALE": {
     "URL": "https://www.sciencedirect.com/science/article/pii/S1094202508000306",
     "accessed": {
      "day": 14,
      "month": 10,
      "year": 2019
     },
     "id": "7250895/VELUJALE",
     "title": "An empirical investigation of labor income processes - ScienceDirect",
     "type": "webpage"
    }
   }
  },
  "kernelspec": {
   "display_name": "Python 3",
   "language": "python",
   "name": "python3"
  },
  "language_info": {
   "codemirror_mode": {
    "name": "ipython",
    "version": 3
   },
   "file_extension": ".py",
   "mimetype": "text/x-python",
   "name": "python",
   "nbconvert_exporter": "python",
   "pygments_lexer": "ipython3",
   "version": "3.7.3"
  }
 },
 "nbformat": 4,
 "nbformat_minor": 2
}
