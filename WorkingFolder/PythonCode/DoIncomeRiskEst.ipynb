{
 "cells": [
  {
   "cell_type": "markdown",
   "metadata": {},
   "source": [
    "### Estimation of Perceived Income Risks using SCE monthly data \n",
    "\n",
    "- The procedure decomposes perceived income growth to perceived risks "
   ]
  },
  {
   "cell_type": "code",
   "execution_count": 2,
   "metadata": {},
   "outputs": [],
   "source": [
    "import pandas as pd\n",
    "import numpy as np\n",
    "import numpy.ma as ma\n",
    "\n",
    "## plot\n",
    "import matplotlib.pyplot as plt\n",
    "import seaborn as sb \n",
    "\n",
    "## estimation\n",
    "from IncomeProcess import IMAProcess as ima"
   ]
  },
  {
   "cell_type": "code",
   "execution_count": 3,
   "metadata": {},
   "outputs": [],
   "source": [
    "pd.options.display.float_format = '{:,.2f}'.format"
   ]
  },
  {
   "cell_type": "markdown",
   "metadata": {},
   "source": [
    "### Process SCE panel to get the data moments \n"
   ]
  },
  {
   "cell_type": "code",
   "execution_count": 4,
   "metadata": {
    "code_folding": []
   },
   "outputs": [],
   "source": [
    "# monthly income growth \n",
    "IndSCE_raw = pd.read_stata('../SurveyData/SCE/IncExpSCEProbIndM.dta') \n",
    "IndSCE_columns = IndSCE_raw.columns\n",
    "IndSCE_sub = IndSCE_raw[['date','userid','Q24_mean','Q24_var']]"
   ]
  },
  {
   "cell_type": "code",
   "execution_count": 5,
   "metadata": {
    "code_folding": []
   },
   "outputs": [],
   "source": [
    "#print(list(IndSCE_columns))"
   ]
  },
  {
   "cell_type": "code",
   "execution_count": 6,
   "metadata": {
    "code_folding": []
   },
   "outputs": [],
   "source": [
    "## multi index for a panel \n",
    "\n",
    "IndSCE_sub_panel = IndSCE_sub.pivot_table(values = ['Q24_mean','Q24_var'],\n",
    "                                    index = ['date'],\n",
    "                                    columns = ['userid'])\n",
    "IndSCE_sub_panel.index = pd.to_datetime(IndSCE_sub_panel.index)"
   ]
  },
  {
   "cell_type": "code",
   "execution_count": 7,
   "metadata": {},
   "outputs": [
    {
     "data": {
      "text/html": [
       "<div>\n",
       "<style scoped>\n",
       "    .dataframe tbody tr th:only-of-type {\n",
       "        vertical-align: middle;\n",
       "    }\n",
       "\n",
       "    .dataframe tbody tr th {\n",
       "        vertical-align: top;\n",
       "    }\n",
       "\n",
       "    .dataframe thead tr th {\n",
       "        text-align: left;\n",
       "    }\n",
       "\n",
       "    .dataframe thead tr:last-of-type th {\n",
       "        text-align: right;\n",
       "    }\n",
       "</style>\n",
       "<table border=\"1\" class=\"dataframe\">\n",
       "  <thead>\n",
       "    <tr>\n",
       "      <th></th>\n",
       "      <th colspan=\"10\" halign=\"left\">Q24_mean</th>\n",
       "      <th>...</th>\n",
       "      <th colspan=\"10\" halign=\"left\">Q24_var</th>\n",
       "    </tr>\n",
       "    <tr>\n",
       "      <th>userid</th>\n",
       "      <th>70000234</th>\n",
       "      <th>70000239</th>\n",
       "      <th>70000312</th>\n",
       "      <th>70000337</th>\n",
       "      <th>70000339</th>\n",
       "      <th>70000341</th>\n",
       "      <th>70003183</th>\n",
       "      <th>70003231</th>\n",
       "      <th>70003242</th>\n",
       "      <th>70003252</th>\n",
       "      <th>...</th>\n",
       "      <th>70107547</th>\n",
       "      <th>70107559</th>\n",
       "      <th>70107581</th>\n",
       "      <th>70107591</th>\n",
       "      <th>70107599</th>\n",
       "      <th>70107604</th>\n",
       "      <th>70107633</th>\n",
       "      <th>70107638</th>\n",
       "      <th>70107650</th>\n",
       "      <th>70107651</th>\n",
       "    </tr>\n",
       "    <tr>\n",
       "      <th>date</th>\n",
       "      <th></th>\n",
       "      <th></th>\n",
       "      <th></th>\n",
       "      <th></th>\n",
       "      <th></th>\n",
       "      <th></th>\n",
       "      <th></th>\n",
       "      <th></th>\n",
       "      <th></th>\n",
       "      <th></th>\n",
       "      <th></th>\n",
       "      <th></th>\n",
       "      <th></th>\n",
       "      <th></th>\n",
       "      <th></th>\n",
       "      <th></th>\n",
       "      <th></th>\n",
       "      <th></th>\n",
       "      <th></th>\n",
       "      <th></th>\n",
       "      <th></th>\n",
       "    </tr>\n",
       "  </thead>\n",
       "  <tbody>\n",
       "    <tr>\n",
       "      <th>2013-06-01</th>\n",
       "      <td>0.93</td>\n",
       "      <td>3.46</td>\n",
       "      <td>5.84</td>\n",
       "      <td>-0.11</td>\n",
       "      <td>0.00</td>\n",
       "      <td>10.00</td>\n",
       "      <td>2.59</td>\n",
       "      <td>nan</td>\n",
       "      <td>0.80</td>\n",
       "      <td>3.00</td>\n",
       "      <td>...</td>\n",
       "      <td>nan</td>\n",
       "      <td>nan</td>\n",
       "      <td>nan</td>\n",
       "      <td>nan</td>\n",
       "      <td>nan</td>\n",
       "      <td>nan</td>\n",
       "      <td>nan</td>\n",
       "      <td>nan</td>\n",
       "      <td>nan</td>\n",
       "      <td>nan</td>\n",
       "    </tr>\n",
       "    <tr>\n",
       "      <th>2013-07-01</th>\n",
       "      <td>nan</td>\n",
       "      <td>nan</td>\n",
       "      <td>4.91</td>\n",
       "      <td>1.00</td>\n",
       "      <td>nan</td>\n",
       "      <td>10.00</td>\n",
       "      <td>0.88</td>\n",
       "      <td>7.08</td>\n",
       "      <td>nan</td>\n",
       "      <td>2.19</td>\n",
       "      <td>...</td>\n",
       "      <td>nan</td>\n",
       "      <td>nan</td>\n",
       "      <td>nan</td>\n",
       "      <td>nan</td>\n",
       "      <td>nan</td>\n",
       "      <td>nan</td>\n",
       "      <td>nan</td>\n",
       "      <td>nan</td>\n",
       "      <td>nan</td>\n",
       "      <td>nan</td>\n",
       "    </tr>\n",
       "    <tr>\n",
       "      <th>2013-08-01</th>\n",
       "      <td>nan</td>\n",
       "      <td>1.00</td>\n",
       "      <td>7.06</td>\n",
       "      <td>0.00</td>\n",
       "      <td>nan</td>\n",
       "      <td>6.00</td>\n",
       "      <td>nan</td>\n",
       "      <td>nan</td>\n",
       "      <td>nan</td>\n",
       "      <td>nan</td>\n",
       "      <td>...</td>\n",
       "      <td>nan</td>\n",
       "      <td>nan</td>\n",
       "      <td>nan</td>\n",
       "      <td>nan</td>\n",
       "      <td>nan</td>\n",
       "      <td>nan</td>\n",
       "      <td>nan</td>\n",
       "      <td>nan</td>\n",
       "      <td>nan</td>\n",
       "      <td>nan</td>\n",
       "    </tr>\n",
       "    <tr>\n",
       "      <th>2013-09-01</th>\n",
       "      <td>nan</td>\n",
       "      <td>1.19</td>\n",
       "      <td>6.07</td>\n",
       "      <td>0.00</td>\n",
       "      <td>nan</td>\n",
       "      <td>1.00</td>\n",
       "      <td>nan</td>\n",
       "      <td>nan</td>\n",
       "      <td>nan</td>\n",
       "      <td>4.00</td>\n",
       "      <td>...</td>\n",
       "      <td>nan</td>\n",
       "      <td>nan</td>\n",
       "      <td>nan</td>\n",
       "      <td>nan</td>\n",
       "      <td>nan</td>\n",
       "      <td>nan</td>\n",
       "      <td>nan</td>\n",
       "      <td>nan</td>\n",
       "      <td>nan</td>\n",
       "      <td>nan</td>\n",
       "    </tr>\n",
       "    <tr>\n",
       "      <th>2013-10-01</th>\n",
       "      <td>nan</td>\n",
       "      <td>nan</td>\n",
       "      <td>nan</td>\n",
       "      <td>0.00</td>\n",
       "      <td>nan</td>\n",
       "      <td>4.00</td>\n",
       "      <td>nan</td>\n",
       "      <td>nan</td>\n",
       "      <td>nan</td>\n",
       "      <td>nan</td>\n",
       "      <td>...</td>\n",
       "      <td>nan</td>\n",
       "      <td>nan</td>\n",
       "      <td>nan</td>\n",
       "      <td>nan</td>\n",
       "      <td>nan</td>\n",
       "      <td>nan</td>\n",
       "      <td>nan</td>\n",
       "      <td>nan</td>\n",
       "      <td>nan</td>\n",
       "      <td>nan</td>\n",
       "    </tr>\n",
       "  </tbody>\n",
       "</table>\n",
       "<p>5 rows × 18557 columns</p>\n",
       "</div>"
      ],
      "text/plain": [
       "           Q24_mean                                                        \\\n",
       "userid     70000234 70000239 70000312 70000337 70000339 70000341 70003183   \n",
       "date                                                                        \n",
       "2013-06-01     0.93     3.46     5.84    -0.11     0.00    10.00     2.59   \n",
       "2013-07-01      nan      nan     4.91     1.00      nan    10.00     0.88   \n",
       "2013-08-01      nan     1.00     7.06     0.00      nan     6.00      nan   \n",
       "2013-09-01      nan     1.19     6.07     0.00      nan     1.00      nan   \n",
       "2013-10-01      nan      nan      nan     0.00      nan     4.00      nan   \n",
       "\n",
       "                                       ...  Q24_var                    \\\n",
       "userid     70003231 70003242 70003252  ... 70107547 70107559 70107581   \n",
       "date                                   ...                              \n",
       "2013-06-01      nan     0.80     3.00  ...      nan      nan      nan   \n",
       "2013-07-01     7.08      nan     2.19  ...      nan      nan      nan   \n",
       "2013-08-01      nan      nan      nan  ...      nan      nan      nan   \n",
       "2013-09-01      nan      nan     4.00  ...      nan      nan      nan   \n",
       "2013-10-01      nan      nan      nan  ...      nan      nan      nan   \n",
       "\n",
       "                                                                           \n",
       "userid     70107591 70107599 70107604 70107633 70107638 70107650 70107651  \n",
       "date                                                                       \n",
       "2013-06-01      nan      nan      nan      nan      nan      nan      nan  \n",
       "2013-07-01      nan      nan      nan      nan      nan      nan      nan  \n",
       "2013-08-01      nan      nan      nan      nan      nan      nan      nan  \n",
       "2013-09-01      nan      nan      nan      nan      nan      nan      nan  \n",
       "2013-10-01      nan      nan      nan      nan      nan      nan      nan  \n",
       "\n",
       "[5 rows x 18557 columns]"
      ]
     },
     "execution_count": 7,
     "metadata": {},
     "output_type": "execute_result"
    }
   ],
   "source": [
    "IndSCE_sub_panel.head()"
   ]
  },
  {
   "cell_type": "code",
   "execution_count": 8,
   "metadata": {
    "code_folding": []
   },
   "outputs": [],
   "source": [
    "# get the expected growth and risks seperately \n",
    "IndSCE_mean = IndSCE_sub_panel['Q24_mean']\n",
    "IndSCE_var = IndSCE_sub_panel['Q24_var']"
   ]
  },
  {
   "cell_type": "code",
   "execution_count": 9,
   "metadata": {},
   "outputs": [],
   "source": [
    "Inc_diff_mat = np.asmatrix(np.array(IndSCE_mean)).T\n",
    "Inc_diff_var_mat = np.asmatrix(np.array(IndSCE_var)).T"
   ]
  },
  {
   "cell_type": "code",
   "execution_count": 10,
   "metadata": {},
   "outputs": [
    {
     "name": "stdout",
     "output_type": "stream",
     "text": [
      "The number of month in the sample is 72\n",
      "The shape of diff matrix is (9284, 72)\n",
      "The shape of forward diff var matrix is (9273, 72)\n"
     ]
    }
   ],
   "source": [
    "print('The number of month in the sample is ' + str(Inc_diff_mat.shape[1]))\n",
    "print('The shape of diff matrix is ' + str(Inc_diff_mat.shape))\n",
    "print('The shape of forward diff var matrix is ' + str(Inc_diff_var_mat.shape))"
   ]
  },
  {
   "cell_type": "code",
   "execution_count": 11,
   "metadata": {
    "code_folding": []
   },
   "outputs": [],
   "source": [
    "## calculate data moments \n",
    "diff_cov = ma.cov(ma.masked_invalid(Inc_diff_mat), rowvar = False) \n",
    "## ma.cov computes the auto covariance matrix ignoring nan\n",
    "diff_var_var = np.nanmean(Inc_diff_var_mat,axis = 0).flatten()\n",
    "\n",
    "## volatility \n",
    "vols_mean = np.nanmean(Inc_diff_var_mat)\n",
    "vols_cov = ma.cov(ma.masked_invalid(Inc_diff_var_mat), rowvar = False)\n"
   ]
  },
  {
   "cell_type": "code",
   "execution_count": 12,
   "metadata": {},
   "outputs": [],
   "source": [
    "## plot autocovariance of expected income growth \n",
    "#sb.heatmap(diff_cov)"
   ]
  },
  {
   "cell_type": "code",
   "execution_count": 13,
   "metadata": {
    "code_folding": [
     0
    ]
   },
   "outputs": [],
   "source": [
    "## Invoke estimation \n",
    "\n",
    "t_period = Inc_diff_mat.shape[1]\n",
    "\n",
    "ima_est = ima(t = t_period,\n",
    "              ma_coeffs = np.array([1])\n",
    "             )\n",
    "ima_est.n_agg = 12\n",
    "\n",
    "vols_atv = np.empty(12)\n",
    "for k in range(12):\n",
    "    vols_atv[k] = np.mean([vols_cov[i,i+k] for i in range(t_period) if i< (t_period-k)])\n",
    "\n",
    "data_moms_dct = {'Mean':np.zeros([t_period,t_period]),\n",
    "                'Var':diff_cov}\n",
    "\n",
    "data_vols_moms_dct = {'Mean':vols_mean,\n",
    "                      'Var':vols_cov,\n",
    "                     'ATV':vols_atv}"
   ]
  },
  {
   "cell_type": "code",
   "execution_count": 14,
   "metadata": {},
   "outputs": [
    {
     "data": {
      "text/plain": [
       "[<matplotlib.lines.Line2D at 0x1a2b502710>]"
      ]
     },
     "execution_count": 14,
     "metadata": {},
     "output_type": "execute_result"
    },
    {
     "data": {
      "image/png": "[encoded data removed]",
      "text/plain": [
       "<Figure size 432x288 with 1 Axes>"
      ]
     },
     "metadata": {
      "needs_background": "light"
     },
     "output_type": "display_data"
    }
   ],
   "source": [
    "## autocovariance of different lags\n",
    "\n",
    "plt.plot(data_vols_moms_dct['ATV'])"
   ]
  },
  {
   "cell_type": "markdown",
   "metadata": {},
   "source": [
    "## Estimate stochastic volatility \n"
   ]
  },
  {
   "cell_type": "code",
   "execution_count": 15,
   "metadata": {},
   "outputs": [
    {
     "name": "stderr",
     "output_type": "stream",
     "text": [
      "/Users/Myworld/Dropbox/IncExpProject/WorkingFolder/PythonCode/IncomeProcess.py:468: RuntimeWarning: overflow encountered in exp\n",
      "  sigmas_theta[i,j+1] = np.sqrt(np.exp(rho*np.log(sigmas_theta[i,j]**2) + mu_draws[i,j+1]))\n",
      "/Users/Myworld/Dropbox/IncExpProject/WorkingFolder/PythonCode/IncomeProcess.py:468: RuntimeWarning: divide by zero encountered in log\n",
      "  sigmas_theta[i,j+1] = np.sqrt(np.exp(rho*np.log(sigmas_theta[i,j]**2) + mu_draws[i,j+1]))\n",
      "/Users/Myworld/Dropbox/IncExpProject/WorkingFolder/PythonCode/IncomeProcess.py:492: RuntimeWarning: invalid value encountered in double_scalars\n",
      "  vols_theta_this = sum([(n_agg-k-1)**2*self.hstep_sigma_theta(sigmas_theta_sim[i,j],k) for k in range(n_agg)])\n"
     ]
    },
    {
     "name": "stdout",
     "output_type": "stream",
     "text": [
      "Optimization terminated successfully.\n",
      "         Current function value: 167.651388\n",
      "         Iterations: 68\n",
      "         Function evaluations: 132\n"
     ]
    },
    {
     "data": {
      "text/plain": [
       "array([-0.79853255,  0.0356289 ,  0.02641705])"
      ]
     },
     "execution_count": 15,
     "metadata": {},
     "output_type": "execute_result"
    }
   ],
   "source": [
    "ima_est.GetDataMomentsVolsAgg(data_vols_moms_dct)\n",
    "ima_est.EstimateSVolsParaAgg()"
   ]
  },
  {
   "cell_type": "code",
   "execution_count": 16,
   "metadata": {},
   "outputs": [],
   "source": [
    "ima_est.rho,ima_est.gamma, ima_est.sigma_eps = ima_est.para_svols_est_agg\n",
    "ima_est.t = t_period\n",
    "vols_sim = ima_est.SimulateSVols()\n",
    "vols_agg_sim = ima_est.SimulateSVolsAgg()\n",
    "vols_agg_sim_mom = ima_est.SimulateSVolsAggMoms()"
   ]
  },
  {
   "cell_type": "code",
   "execution_count": 17,
   "metadata": {},
   "outputs": [
    {
     "data": {
      "text/plain": [
       "<matplotlib.legend.Legend at 0x1a26d0c400>"
      ]
     },
     "execution_count": 17,
     "metadata": {},
     "output_type": "execute_result"
    },
    {
     "data": {
      "image/png": "[encoded data removed]",
      "text/plain": [
       "<Figure size 432x288 with 1 Axes>"
      ]
     },
     "metadata": {
      "needs_background": "light"
     },
     "output_type": "display_data"
    }
   ],
   "source": [
    "plt.title('SMM estimation of stochastic volatility')\n",
    "plt.plot(vols_agg_sim_mom['ATV'],\n",
    "         label = 'autocovariance estimated')\n",
    "plt.plot(data_vols_moms_dct['ATV'].T,\n",
    "         label = 'autocovariance from data')\n",
    "plt.legend(loc = 1)"
   ]
  },
  {
   "cell_type": "code",
   "execution_count": 18,
   "metadata": {},
   "outputs": [
    {
     "name": "stdout",
     "output_type": "stream",
     "text": [
      "average volatility from estimate is 94.26462553711919\n",
      "average volatility from data is 5.500423407873594\n"
     ]
    }
   ],
   "source": [
    "print('average volatility from estimate is ' + str(vols_agg_sim_mom['Mean']))\n",
    "print('average volatility from data is ' + str(data_vols_moms_dct['Mean']))"
   ]
  },
  {
   "cell_type": "markdown",
   "metadata": {},
   "source": [
    "## Using first moments "
   ]
  },
  {
   "cell_type": "code",
   "execution_count": 30,
   "metadata": {},
   "outputs": [
    {
     "name": "stdout",
     "output_type": "stream",
     "text": [
      "Warning: Desired error not necessarily achieved due to precision loss.\n",
      "         Current function value: 75.005838\n",
      "         Iterations: 1\n",
      "         Function evaluations: 124\n",
      "         Gradient evaluations: 28\n"
     ]
    }
   ],
   "source": [
    "ima_est.GetDataMomentsAgg(data_moms_dct)\n",
    "agg_est = ima_est.EstimateParaAgg(method='Nelder-Mead')"
   ]
  },
  {
   "cell_type": "code",
   "execution_count": 32,
   "metadata": {},
   "outputs": [
    {
     "data": {
      "text/plain": [
       "<matplotlib.legend.Legend at 0x1a1cf673c8>"
      ]
     },
     "execution_count": 32,
     "metadata": {},
     "output_type": "execute_result"
    },
    {
     "data": {
      "image/png": "[encoded data removed]",
      "text/plain": [
       "<Figure size 432x288 with 1 Axes>"
      ]
     },
     "metadata": {
      "needs_background": "light"
     },
     "output_type": "display_data"
    }
   ],
   "source": [
    "## plot the estimation \n",
    "\n",
    "plt.plot(ima_est.para_est_agg[1][0]**2,'b-',label=r'$\\widehat\\sigma^2_{\\theta}$')\n",
    "plt.plot(ima_est.para_est_agg[1][1]**2,'r*-',label=r'$\\widehat\\sigma^2_{\\epsilon}$')\n",
    "plt.title('Estimated Monthly Income Risks from SCE')\n",
    "plt.legend(loc=0)"
   ]
  },
  {
   "cell_type": "code",
   "execution_count": null,
   "metadata": {},
   "outputs": [],
   "source": []
  }
 ],
 "metadata": {
  "kernelspec": {
   "display_name": "Python 3",
   "language": "python",
   "name": "python3"
  },
  "language_info": {
   "codemirror_mode": {
    "name": "ipython",
    "version": 3
   },
   "file_extension": ".py",
   "mimetype": "text/x-python",
   "name": "python",
   "nbconvert_exporter": "python",
   "pygments_lexer": "ipython3",
   "version": "3.7.3"
  }
 },
 "nbformat": 4,
 "nbformat_minor": 2
}
