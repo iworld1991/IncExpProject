{
 "cells": [
  {
   "cell_type": "markdown",
   "metadata": {},
   "source": [
    "### Estimation of Perceived Income Risks using SCE monthly data \n",
    "\n",
    "- The procedure decomposes perceived income growth to perceived risks "
   ]
  },
  {
   "cell_type": "code",
   "execution_count": 1,
   "metadata": {},
   "outputs": [],
   "source": [
    "import pandas as pd\n",
    "import numpy as np\n",
    "import numpy.ma as ma\n",
    "\n",
    "## plot\n",
    "import matplotlib.pyplot as plt\n",
    "import seaborn as sb \n",
    "\n",
    "## estimation\n",
    "from IncomeProcess import IMAProcess as ima"
   ]
  },
  {
   "cell_type": "code",
   "execution_count": 2,
   "metadata": {},
   "outputs": [],
   "source": [
    "pd.options.display.float_format = '{:,.2f}'.format"
   ]
  },
  {
   "cell_type": "markdown",
   "metadata": {},
   "source": [
    "### Process SCE panel to get the data moments \n"
   ]
  },
  {
   "cell_type": "code",
   "execution_count": 3,
   "metadata": {
    "code_folding": [
     0
    ]
   },
   "outputs": [],
   "source": [
    "# monthly income growth \n",
    "IndSCE_raw = pd.read_stata('../SurveyData/SCE/IncExpSCEProbIndM.dta') \n",
    "IndSCE_columns = IndSCE_raw.columns\n",
    "IndSCE_sub = IndSCE_raw[['date','userid','Q24_mean','Q24_var']]"
   ]
  },
  {
   "cell_type": "code",
   "execution_count": 4,
   "metadata": {
    "code_folding": []
   },
   "outputs": [],
   "source": [
    "#print(list(IndSCE_columns))"
   ]
  },
  {
   "cell_type": "code",
   "execution_count": 5,
   "metadata": {
    "code_folding": []
   },
   "outputs": [],
   "source": [
    "## multi index for a panel \n",
    "\n",
    "IndSCE_sub_panel = IndSCE_sub.pivot_table(values = ['Q24_mean','Q24_var'],\n",
    "                                    index = ['date'],\n",
    "                                    columns = ['userid'])\n",
    "IndSCE_sub_panel.index = pd.to_datetime(IndSCE_sub_panel.index)"
   ]
  },
  {
   "cell_type": "code",
   "execution_count": 6,
   "metadata": {},
   "outputs": [
    {
     "data": {
      "text/html": [
       "<div>\n",
       "<style scoped>\n",
       "    .dataframe tbody tr th:only-of-type {\n",
       "        vertical-align: middle;\n",
       "    }\n",
       "\n",
       "    .dataframe tbody tr th {\n",
       "        vertical-align: top;\n",
       "    }\n",
       "\n",
       "    .dataframe thead tr th {\n",
       "        text-align: left;\n",
       "    }\n",
       "\n",
       "    .dataframe thead tr:last-of-type th {\n",
       "        text-align: right;\n",
       "    }\n",
       "</style>\n",
       "<table border=\"1\" class=\"dataframe\">\n",
       "  <thead>\n",
       "    <tr>\n",
       "      <th></th>\n",
       "      <th colspan=\"10\" halign=\"left\">Q24_mean</th>\n",
       "      <th>...</th>\n",
       "      <th colspan=\"10\" halign=\"left\">Q24_var</th>\n",
       "    </tr>\n",
       "    <tr>\n",
       "      <th>userid</th>\n",
       "      <th>70000234</th>\n",
       "      <th>70000239</th>\n",
       "      <th>70000312</th>\n",
       "      <th>70000337</th>\n",
       "      <th>70000339</th>\n",
       "      <th>70000341</th>\n",
       "      <th>70003183</th>\n",
       "      <th>70003231</th>\n",
       "      <th>70003242</th>\n",
       "      <th>70003252</th>\n",
       "      <th>...</th>\n",
       "      <th>70096617</th>\n",
       "      <th>70096618</th>\n",
       "      <th>70096640</th>\n",
       "      <th>70096646</th>\n",
       "      <th>70096670</th>\n",
       "      <th>70096672</th>\n",
       "      <th>70096699</th>\n",
       "      <th>70096762</th>\n",
       "      <th>70096793</th>\n",
       "      <th>70096817</th>\n",
       "    </tr>\n",
       "    <tr>\n",
       "      <th>date</th>\n",
       "      <th></th>\n",
       "      <th></th>\n",
       "      <th></th>\n",
       "      <th></th>\n",
       "      <th></th>\n",
       "      <th></th>\n",
       "      <th></th>\n",
       "      <th></th>\n",
       "      <th></th>\n",
       "      <th></th>\n",
       "      <th></th>\n",
       "      <th></th>\n",
       "      <th></th>\n",
       "      <th></th>\n",
       "      <th></th>\n",
       "      <th></th>\n",
       "      <th></th>\n",
       "      <th></th>\n",
       "      <th></th>\n",
       "      <th></th>\n",
       "      <th></th>\n",
       "    </tr>\n",
       "  </thead>\n",
       "  <tbody>\n",
       "    <tr>\n",
       "      <th>2013-06-01</th>\n",
       "      <td>0.93</td>\n",
       "      <td>3.46</td>\n",
       "      <td>5.84</td>\n",
       "      <td>-0.11</td>\n",
       "      <td>0.00</td>\n",
       "      <td>10.00</td>\n",
       "      <td>2.59</td>\n",
       "      <td>nan</td>\n",
       "      <td>0.80</td>\n",
       "      <td>3.00</td>\n",
       "      <td>...</td>\n",
       "      <td>nan</td>\n",
       "      <td>nan</td>\n",
       "      <td>nan</td>\n",
       "      <td>nan</td>\n",
       "      <td>nan</td>\n",
       "      <td>nan</td>\n",
       "      <td>nan</td>\n",
       "      <td>nan</td>\n",
       "      <td>nan</td>\n",
       "      <td>nan</td>\n",
       "    </tr>\n",
       "    <tr>\n",
       "      <th>2013-07-01</th>\n",
       "      <td>nan</td>\n",
       "      <td>nan</td>\n",
       "      <td>4.91</td>\n",
       "      <td>1.00</td>\n",
       "      <td>nan</td>\n",
       "      <td>10.00</td>\n",
       "      <td>0.88</td>\n",
       "      <td>7.08</td>\n",
       "      <td>nan</td>\n",
       "      <td>2.19</td>\n",
       "      <td>...</td>\n",
       "      <td>nan</td>\n",
       "      <td>nan</td>\n",
       "      <td>nan</td>\n",
       "      <td>nan</td>\n",
       "      <td>nan</td>\n",
       "      <td>nan</td>\n",
       "      <td>nan</td>\n",
       "      <td>nan</td>\n",
       "      <td>nan</td>\n",
       "      <td>nan</td>\n",
       "    </tr>\n",
       "    <tr>\n",
       "      <th>2013-08-01</th>\n",
       "      <td>nan</td>\n",
       "      <td>1.00</td>\n",
       "      <td>7.06</td>\n",
       "      <td>0.00</td>\n",
       "      <td>nan</td>\n",
       "      <td>6.00</td>\n",
       "      <td>nan</td>\n",
       "      <td>nan</td>\n",
       "      <td>nan</td>\n",
       "      <td>nan</td>\n",
       "      <td>...</td>\n",
       "      <td>nan</td>\n",
       "      <td>nan</td>\n",
       "      <td>nan</td>\n",
       "      <td>nan</td>\n",
       "      <td>nan</td>\n",
       "      <td>nan</td>\n",
       "      <td>nan</td>\n",
       "      <td>nan</td>\n",
       "      <td>nan</td>\n",
       "      <td>nan</td>\n",
       "    </tr>\n",
       "    <tr>\n",
       "      <th>2013-09-01</th>\n",
       "      <td>nan</td>\n",
       "      <td>1.19</td>\n",
       "      <td>6.07</td>\n",
       "      <td>0.00</td>\n",
       "      <td>nan</td>\n",
       "      <td>1.00</td>\n",
       "      <td>nan</td>\n",
       "      <td>nan</td>\n",
       "      <td>nan</td>\n",
       "      <td>4.00</td>\n",
       "      <td>...</td>\n",
       "      <td>nan</td>\n",
       "      <td>nan</td>\n",
       "      <td>nan</td>\n",
       "      <td>nan</td>\n",
       "      <td>nan</td>\n",
       "      <td>nan</td>\n",
       "      <td>nan</td>\n",
       "      <td>nan</td>\n",
       "      <td>nan</td>\n",
       "      <td>nan</td>\n",
       "    </tr>\n",
       "    <tr>\n",
       "      <th>2013-10-01</th>\n",
       "      <td>nan</td>\n",
       "      <td>nan</td>\n",
       "      <td>nan</td>\n",
       "      <td>0.00</td>\n",
       "      <td>nan</td>\n",
       "      <td>4.00</td>\n",
       "      <td>nan</td>\n",
       "      <td>nan</td>\n",
       "      <td>nan</td>\n",
       "      <td>nan</td>\n",
       "      <td>...</td>\n",
       "      <td>nan</td>\n",
       "      <td>nan</td>\n",
       "      <td>nan</td>\n",
       "      <td>nan</td>\n",
       "      <td>nan</td>\n",
       "      <td>nan</td>\n",
       "      <td>nan</td>\n",
       "      <td>nan</td>\n",
       "      <td>nan</td>\n",
       "      <td>nan</td>\n",
       "    </tr>\n",
       "  </tbody>\n",
       "</table>\n",
       "<p>5 rows × 16221 columns</p>\n",
       "</div>"
      ],
      "text/plain": [
       "           Q24_mean                                                        \\\n",
       "userid     70000234 70000239 70000312 70000337 70000339 70000341 70003183   \n",
       "date                                                                        \n",
       "2013-06-01     0.93     3.46     5.84    -0.11     0.00    10.00     2.59   \n",
       "2013-07-01      nan      nan     4.91     1.00      nan    10.00     0.88   \n",
       "2013-08-01      nan     1.00     7.06     0.00      nan     6.00      nan   \n",
       "2013-09-01      nan     1.19     6.07     0.00      nan     1.00      nan   \n",
       "2013-10-01      nan      nan      nan     0.00      nan     4.00      nan   \n",
       "\n",
       "                                       ...  Q24_var                    \\\n",
       "userid     70003231 70003242 70003252  ... 70096617 70096618 70096640   \n",
       "date                                   ...                              \n",
       "2013-06-01      nan     0.80     3.00  ...      nan      nan      nan   \n",
       "2013-07-01     7.08      nan     2.19  ...      nan      nan      nan   \n",
       "2013-08-01      nan      nan      nan  ...      nan      nan      nan   \n",
       "2013-09-01      nan      nan     4.00  ...      nan      nan      nan   \n",
       "2013-10-01      nan      nan      nan  ...      nan      nan      nan   \n",
       "\n",
       "                                                                           \n",
       "userid     70096646 70096670 70096672 70096699 70096762 70096793 70096817  \n",
       "date                                                                       \n",
       "2013-06-01      nan      nan      nan      nan      nan      nan      nan  \n",
       "2013-07-01      nan      nan      nan      nan      nan      nan      nan  \n",
       "2013-08-01      nan      nan      nan      nan      nan      nan      nan  \n",
       "2013-09-01      nan      nan      nan      nan      nan      nan      nan  \n",
       "2013-10-01      nan      nan      nan      nan      nan      nan      nan  \n",
       "\n",
       "[5 rows x 16221 columns]"
      ]
     },
     "execution_count": 6,
     "metadata": {},
     "output_type": "execute_result"
    }
   ],
   "source": [
    "IndSCE_sub_panel.head()"
   ]
  },
  {
   "cell_type": "code",
   "execution_count": 7,
   "metadata": {
    "code_folding": []
   },
   "outputs": [],
   "source": [
    "# get the expected growth and risks seperately \n",
    "IndSCE_mean = IndSCE_sub_panel['Q24_mean']\n",
    "IndSCE_var = IndSCE_sub_panel['Q24_var']"
   ]
  },
  {
   "cell_type": "code",
   "execution_count": 8,
   "metadata": {},
   "outputs": [],
   "source": [
    "Inc_diff_mat = np.asmatrix(np.array(IndSCE_mean)).T\n",
    "Inc_diff_var_mat = np.asmatrix(np.array(IndSCE_var)).T"
   ]
  },
  {
   "cell_type": "code",
   "execution_count": 9,
   "metadata": {},
   "outputs": [
    {
     "name": "stdout",
     "output_type": "stream",
     "text": [
      "The number of month in the sample is 60\n",
      "The shape of diff matrix is (8112, 60)\n",
      "The shape of forward diff var matrix is (8109, 60)\n"
     ]
    }
   ],
   "source": [
    "print('The number of month in the sample is ' + str(Inc_diff_mat.shape[1]))\n",
    "print('The shape of diff matrix is ' + str(Inc_diff_mat.shape))\n",
    "print('The shape of forward diff var matrix is ' + str(Inc_diff_var_mat.shape))"
   ]
  },
  {
   "cell_type": "code",
   "execution_count": 10,
   "metadata": {
    "code_folding": []
   },
   "outputs": [],
   "source": [
    "## calculate data moments \n",
    "diff_cov = ma.cov(ma.masked_invalid(Inc_diff_mat), rowvar = False) \n",
    "## ma.cov computes the auto covariance matrix ignoring nan\n",
    "diff_var_var = np.nanmean(Inc_diff_var_mat,axis=0).flatten()"
   ]
  },
  {
   "cell_type": "code",
   "execution_count": 11,
   "metadata": {},
   "outputs": [
    {
     "data": {
      "text/plain": [
       "<matplotlib.axes._subplots.AxesSubplot at 0x1a1a9dee10>"
      ]
     },
     "execution_count": 11,
     "metadata": {},
     "output_type": "execute_result"
    },
    {
     "data": {
      "image/png": "[encoded data removed]",
      "text/plain": [
       "<Figure size 432x288 with 2 Axes>"
      ]
     },
     "metadata": {
      "needs_background": "light"
     },
     "output_type": "display_data"
    }
   ],
   "source": [
    "## plot autocovariance of expected income growth \n",
    "sb.heatmap(diff_cov)"
   ]
  },
  {
   "cell_type": "code",
   "execution_count": 28,
   "metadata": {
    "code_folding": [
     0
    ]
   },
   "outputs": [],
   "source": [
    "## Invoke estimation \n",
    "\n",
    "t_period = Inc_diff_mat.shape[1]\n",
    "\n",
    "ima_est = ima(t = t_period - 10,\n",
    "              ma_coeffs = np.array([1])\n",
    "             )\n",
    "data_moms_dct ={'Mean':np.zeros([t_period,t_period]),\n",
    "                'Var':diff_cov}"
   ]
  },
  {
   "cell_type": "code",
   "execution_count": 30,
   "metadata": {},
   "outputs": [
    {
     "name": "stdout",
     "output_type": "stream",
     "text": [
      "Warning: Desired error not necessarily achieved due to precision loss.\n",
      "         Current function value: 75.005838\n",
      "         Iterations: 1\n",
      "         Function evaluations: 124\n",
      "         Gradient evaluations: 28\n"
     ]
    }
   ],
   "source": [
    "ima_est.GetDataMomentsAgg(data_moms_dct)\n",
    "agg_est = ima_est.EstimateParaAgg(method='CG')"
   ]
  },
  {
   "cell_type": "code",
   "execution_count": 32,
   "metadata": {},
   "outputs": [
    {
     "data": {
      "text/plain": [
       "<matplotlib.legend.Legend at 0x1a1cf673c8>"
      ]
     },
     "execution_count": 32,
     "metadata": {},
     "output_type": "execute_result"
    },
    {
     "data": {
      "image/png": "[encoded data removed]",
      "text/plain": [
       "<Figure size 432x288 with 1 Axes>"
      ]
     },
     "metadata": {
      "needs_background": "light"
     },
     "output_type": "display_data"
    }
   ],
   "source": [
    "## plot the estimation \n",
    "\n",
    "plt.plot(ima_est.para_est_agg[1][0]**2,'b-',label=r'$\\widehat\\sigma^2_{\\theta}$')\n",
    "plt.plot(ima_est.para_est_agg[1][1]**2,'r*-',label=r'$\\widehat\\sigma^2_{\\epsilon}$')\n",
    "plt.title('Estimated Monthly Income Risks from SCE')\n",
    "plt.legend(loc=0)"
   ]
  },
  {
   "cell_type": "code",
   "execution_count": null,
   "metadata": {},
   "outputs": [],
   "source": []
  }
 ],
 "metadata": {
  "kernelspec": {
   "display_name": "Python 3",
   "language": "python",
   "name": "python3"
  },
  "language_info": {
   "codemirror_mode": {
    "name": "ipython",
    "version": 3
   },
   "file_extension": ".py",
   "mimetype": "text/x-python",
   "name": "python",
   "nbconvert_exporter": "python",
   "pygments_lexer": "ipython3",
   "version": "3.7.3"
  }
 },
 "nbformat": 4,
 "nbformat_minor": 2
}
