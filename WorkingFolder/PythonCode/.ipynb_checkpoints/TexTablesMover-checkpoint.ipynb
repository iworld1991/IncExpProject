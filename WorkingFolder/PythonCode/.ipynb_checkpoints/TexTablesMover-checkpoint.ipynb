{
 "cells": [
  {
   "cell_type": "code",
   "execution_count": 1,
   "metadata": {},
   "outputs": [],
   "source": [
    "## this python script read over all latex tables from the folder and insert it in a latex file"
   ]
  },
  {
   "cell_type": "code",
   "execution_count": 52,
   "metadata": {},
   "outputs": [],
   "source": [
    "import os"
   ]
  },
  {
   "cell_type": "code",
   "execution_count": 53,
   "metadata": {},
   "outputs": [],
   "source": [
    "def insertbefore(oldtex, key, tex_to_add):\n",
    "    \"\"\" \n",
    "    Inserts 'tex_to_add' into 'oldtex' right before 'key'. \n",
    "    \"\"\"\n",
    "    i = oldtex.find(key)\n",
    "    return oldtex[:i] + '   '  + tex_to_add +'       ' + oldtex[i:]"
   ]
  },
  {
   "cell_type": "code",
   "execution_count": 54,
   "metadata": {},
   "outputs": [],
   "source": [
    "## look over files first\n",
    "\n",
    "cwd = os.getcwd()\n",
    "ltxtb_where = os.path.join(cwd,'../Tables/latex/')\n",
    "ltx_name = 'PerceivedIncomeRisk.tex'\n",
    "ltx_file = os.path.join(cwd,ltx_name)"
   ]
  },
  {
   "cell_type": "code",
   "execution_count": 55,
   "metadata": {},
   "outputs": [
    {
     "name": "stdout",
     "output_type": "stream",
     "text": [
      "5249\n",
      "1045\n"
     ]
    }
   ],
   "source": [
    "## get all latex codes for talbes \n",
    "ltxtbs = ''   # strings \n",
    "\n",
    "for file in os.listdir(ltxtb_where):\n",
    "    if file.endswith(\".tex\"):\n",
    "        file_path = os.path.join(ltxtb_where, file)\n",
    "        f = open(file_path, 'r')\n",
    "        ltxtb = f.read()\n",
    "        print(len(ltxtb))\n",
    "        ltxtbs = ltxtbs + ltxtb"
   ]
  },
  {
   "cell_type": "code",
   "execution_count": 56,
   "metadata": {},
   "outputs": [],
   "source": [
    "## write it in the master latex file \n",
    "\n",
    "key = '% Add a bibliography block'\n",
    "\n",
    "with open(ltx_file,'r') as f:\n",
    "    old_tex = str(f.read())\n",
    "    #print(old_tex)\n",
    "    f.close()\n",
    "    \n",
    "new_tex = insertbefore(old_tex,\n",
    "                       key,\n",
    "                       ltxtbs)\n",
    "#print(new_tex)"
   ]
  },
  {
   "cell_type": "code",
   "execution_count": 57,
   "metadata": {},
   "outputs": [],
   "source": [
    "with open(ltx_file,'w') as f:\n",
    "    f.write(new_tex)\n",
    "    f.close()"
   ]
  },
  {
   "cell_type": "code",
   "execution_count": null,
   "metadata": {},
   "outputs": [],
   "source": []
  }
 ],
 "metadata": {
  "jupytext": {
   "formats": "ipynb,py:light"
  },
  "kernelspec": {
   "display_name": "Python 3",
   "language": "python",
   "name": "python3"
  },
  "language_info": {
   "codemirror_mode": {
    "name": "ipython",
    "version": 3
   },
   "file_extension": ".py",
   "mimetype": "text/x-python",
   "name": "python",
   "nbconvert_exporter": "python",
   "pygments_lexer": "ipython3",
   "version": "3.7.3"
  }
 },
 "nbformat": 4,
 "nbformat_minor": 2
}
