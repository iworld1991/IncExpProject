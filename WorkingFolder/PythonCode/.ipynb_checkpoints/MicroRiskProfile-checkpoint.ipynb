{
 "cells": [
  {
   "cell_type": "markdown",
   "metadata": {},
   "source": [
    "### How do the perceived income moments correlate with other individual variables \n",
    "\n",
    "- this notebook inspects and runs regressions to look the covariants of individual perceived income moments\n",
    "  - individual demogrpahics, level of income\n",
    "  - probability of unemployment, other job-related expectations \n",
    "- it examiens both nominal and real income growth \n"
   ]
  },
  {
   "cell_type": "markdown",
   "metadata": {},
   "source": [
    "###  1. Loading and cleaning data"
   ]
  },
  {
   "cell_type": "code",
   "execution_count": 1,
   "metadata": {},
   "outputs": [],
   "source": [
    "import numpy as np\n",
    "import pandas as pd\n",
    "import seaborn as sns\n",
    "import matplotlib.pyplot as plt\n",
    "%matplotlib inline\n",
    "import statsmodels.api as sm \n",
    "from statsmodels.iolib.summary2 import summary_col"
   ]
  },
  {
   "cell_type": "code",
   "execution_count": 2,
   "metadata": {},
   "outputs": [],
   "source": [
    "pd.options.display.float_format = '{:,.2f}'.format"
   ]
  },
  {
   "cell_type": "code",
   "execution_count": 3,
   "metadata": {},
   "outputs": [],
   "source": [
    "dataset = pd.read_stata('../SurveyData/SCE/IncExpSCEProbIndM.dta')   "
   ]
  },
  {
   "cell_type": "code",
   "execution_count": 4,
   "metadata": {},
   "outputs": [
    {
     "data": {
      "text/plain": [
       "Index(['date', 'year', 'month', 'userid', 'tenure', 'weight', 'Q1', 'Q2', 'Q3',\n",
       "       'Q4new',\n",
       "       ...\n",
       "       'Q24_meanp50', 'Q24_varp75', 'Q24_varp25', 'Q24_varp50', 'Q24_rmean',\n",
       "       'Q24_rvar', 'Q24_sd', 'Q24_disg', 'Q24_rsd', 'Q24_rdisg'],\n",
       "      dtype='object', length=145)"
      ]
     },
     "execution_count": 4,
     "metadata": {},
     "output_type": "execute_result"
    }
   ],
   "source": [
    "dataset.columns"
   ]
  },
  {
   "cell_type": "code",
   "execution_count": 5,
   "metadata": {
    "code_folding": [
     0
    ]
   },
   "outputs": [],
   "source": [
    "## variable list by catogrories \n",
    "\n",
    "moms_nom = ['Q24_mean',\n",
    "            'Q24_var']\n",
    "\n",
    "moms_real = ['Q24_rmean',\n",
    "             'Q24_rvar']\n",
    "\n",
    "vars_demog = ['D6']   ## level of income, 11 groups \n",
    "\n",
    "vars_demog_sub = ['Q32',  ## age \n",
    "                  'Q33',  ## gender \n",
    "                  'Q36',  ## education (1-8 low to high, 9 other)\n",
    "                  'Q37']  ## these variables are only available for a sub sample \n",
    "\n",
    "vars_empexp = ['Q13new']  ## probability of unemployment \n",
    "\n",
    "vars_macroexp = ['Q6new']  ## stock market going up \n"
   ]
  },
  {
   "cell_type": "code",
   "execution_count": 6,
   "metadata": {},
   "outputs": [],
   "source": [
    "## subselect variables \n",
    "\n",
    "vars_all_reg = moms_nom + moms_real + vars_demog + vars_empexp + vars_macroexp\n",
    "vars_all_reg_long = moms_nom + moms_real + vars_demog + vars_demog_sub + vars_empexp + vars_macroexp\n",
    "\n",
    "## select dataset \n",
    "\n",
    "SCEM = dataset[vars_all_reg]\n",
    "SCEM.describe(include='all')\n",
    "\n",
    "SCEM_long = dataset[vars_all_reg_long]"
   ]
  },
  {
   "cell_type": "code",
   "execution_count": 7,
   "metadata": {
    "code_folding": [
     1,
     5,
     23
    ]
   },
   "outputs": [],
   "source": [
    "## subselect variables \n",
    "vars_tiny_sub =['Q24_var',\n",
    "                'Q24_mean',\n",
    "                'Q13new',  ## prob (UE)  \n",
    "                'D6']  ## income level \n",
    "vars_short_sub =  ['Q24_var',\n",
    "                   'Q24_mean',\n",
    "                   'Q1',\n",
    "                   'Q2',\n",
    "                   'Q3',\n",
    "                   'Q4new',\n",
    "                   'Q5new',\n",
    "                   'Q6new',\n",
    "                   'Q9_mean',\n",
    "                   'Q13new',\n",
    "                   'Q32',\n",
    "                   'Q33',\n",
    "                   'Q34',\n",
    "                   'Q36',\n",
    "                   'Q37',\n",
    "                   'C1_mean',\n",
    "                   'C1_var',\n",
    "                   'D6']\n",
    "vars_long_sub = ['Q24_var',\n",
    "                 'Q24_mean',\n",
    "                 'Q1',\n",
    "                 'Q2',\n",
    "                 'Q3',\n",
    "                 'Q4new',\n",
    "                 'Q5new',\n",
    "                 'Q6new',\n",
    "                 'Q9_mean',\n",
    "                 'Q13new',\n",
    "                 'Q32',\n",
    "                 'Q33',\n",
    "                 'Q34',\n",
    "                 'Q36',\n",
    "                 'Q37',\n",
    "                 'Q38',\n",
    "                 'Q41',\n",
    "                 'Q42',\n",
    "                 'Q43',\n",
    "                 'Q43a',\n",
    "                 'Q44',\n",
    "                 'Q45b',\n",
    "                 'C1_mean',\n",
    "                 'C1_var',\n",
    "                 'D6']"
   ]
  },
  {
   "cell_type": "markdown",
   "metadata": {},
   "source": [
    "### 2. Correlation pattern "
   ]
  },
  {
   "cell_type": "code",
   "execution_count": 8,
   "metadata": {},
   "outputs": [],
   "source": [
    "SCEM = SCEM.rename(columns = {'D6':'HHinc',\n",
    "                             'Q13new':'UEprob',\n",
    "                             'Q6new':'Stkprob'})\n",
    "SCEM_long =  SCEM_long.rename(columns = {'D6':'HHinc',\n",
    "                             'Q13new':'UEprob',\n",
    "                             'Q6new':'Stkprob'})"
   ]
  },
  {
   "cell_type": "code",
   "execution_count": 9,
   "metadata": {},
   "outputs": [],
   "source": [
    "#pp = sns.pairplot(SCEM)"
   ]
  },
  {
   "cell_type": "code",
   "execution_count": 10,
   "metadata": {},
   "outputs": [
    {
     "data": {
      "text/plain": [
       "<matplotlib.axes._subplots.AxesSubplot at 0x1c1b1dacf8>"
      ]
     },
     "execution_count": 10,
     "metadata": {},
     "output_type": "execute_result"
    },
    {
     "data": {
      "image/png": "[encoded data removed]",
      "text/plain": [
       "<Figure size 432x288 with 2 Axes>"
      ]
     },
     "metadata": {
      "needs_background": "light"
     },
     "output_type": "display_data"
    }
   ],
   "source": [
    "sns.heatmap(SCEM.corr(), \n",
    "            annot=True)"
   ]
  },
  {
   "cell_type": "markdown",
   "metadata": {},
   "source": [
    "###  3. Regressions\n",
    "\n",
    "I regress the individual earning growth expectations and uncertainty on household income level, perceived probability of unemployment next year and the perceived chance of stock market rise.\n",
    "\n",
    "\\begin{eqnarray}\n",
    "\\textrm{IncMom}_{i,t} = \\alpha + \\beta_0 \\textrm{HH_{i,t}} + \\beta_1 \\textrm{Exp}_{i,t} + \\epsilon_{i,t}\n",
    "\\end{eqnarray}\n",
    "\n",
    "Findings from the regression \n",
    "\n",
    "- Higher household income earner has higher expected earning growth, lower perceived income risks, in both real and nominal terms;\n",
    "- Higher perceived probability of unemployment is associated with lower expected income growth, higher income risks in both nominal and real terms\n",
    "- Higher perceived chance of stock market increase is associated with higher expected income growth in both real and moninal terms. It is positively correlated with nominal earning risks but negatively correlated with real earning risks.  "
   ]
  },
  {
   "cell_type": "code",
   "execution_count": 65,
   "metadata": {
    "code_folding": [
     0,
     9,
     20
    ]
   },
   "outputs": [
    {
     "name": "stdout",
     "output_type": "stream",
     "text": [
      "           perceived income risks\n",
      "=============================================\n",
      "        nominal   nominal   real      real   \n",
      "         growth   variance  growth   variance\n",
      "---------------------------------------------\n",
      "const   2.35***  3.36***   -3.20*** 24.93*** \n",
      "        (0.04)   (0.13)    (0.09)   (0.45)   \n",
      "HHinc   0.04***  -0.09***  0.24***  -1.52*** \n",
      "        (0.01)   (0.02)    (0.01)   (0.05)   \n",
      "UEprob  -0.01*** 0.01***   -0.02*** 0.04***  \n",
      "        (0.00)   (0.00)    (0.00)   (0.01)   \n",
      "Stkprob 0.01***  0.01***   0.02***  -0.05*** \n",
      "        (0.00)   (0.00)    (0.00)   (0.01)   \n",
      "N       32861    32861     32861    32861    \n",
      "R2      0.02     0.00      0.04     0.03     \n",
      "=============================================\n",
      "Standard errors in parentheses.\n",
      "* p<.1, ** p<.05, ***p<.01\n"
     ]
    },
    {
     "name": "stderr",
     "output_type": "stream",
     "text": [
      "/Users/Myworld/anaconda3/lib/python3.7/site-packages/numpy/core/fromnumeric.py:2389: FutureWarning: Method .ptp is deprecated and will be removed in a future version. Use numpy.ptp instead.\n",
      "  return ptp(axis=axis, out=out, **kwargs)\n"
     ]
    }
   ],
   "source": [
    "## regressions \n",
    "\n",
    "dep_list =  moms_nom + moms_real \n",
    "indep_list = ['HHinc','UEprob','Stkprob']\n",
    "\n",
    "SCEM = SCEM.dropna(how='any')\n",
    "\n",
    "rs_list = {}\n",
    "\n",
    "for i,mom in enumerate(dep_list):\n",
    "    X = SCEM[indep_list]\n",
    "    X = sm.add_constant(X)\n",
    "    Y = SCEM[mom]\n",
    "    model = sm.OLS(Y,X)\n",
    "    rs_list[i] = model.fit()\n",
    "    #print(rs_list[i].summary())\n",
    "    \n",
    "## combine different specifications \n",
    "\n",
    "rs_names = [rs_list[i] for i in range(len(rs_list))]\n",
    "dfoutput = summary_col(rs_names,\n",
    "                       float_format='%0.2f',\n",
    "                       model_names=['nominal \\n growth',\n",
    "                                   'nominal \\n variance',\n",
    "                                   'real \\n growth',\n",
    "                                   'real \\n variance'],\n",
    "                       stars = True,\n",
    "                       info_dict={'N':lambda x: \"{0:d}\".format(int(x.nobs)),\n",
    "                                  'R2':lambda x: \"{:.2f}\".format(x.rsquared)})\n",
    "dfoutput.title = 'perceived income risks'\n",
    "print(dfoutput)"
   ]
  },
  {
   "cell_type": "code",
   "execution_count": 78,
   "metadata": {
    "code_folding": [
     0
    ]
   },
   "outputs": [],
   "source": [
    "## output tables \n",
    "\n",
    "beginningtex = \"\"\"\\\\documentclass{report}\n",
    "\\\\usepackage{booktabs}\n",
    "\\\\begin{document}\n",
    "\\\\begin{table}\"\"\"\n",
    "\n",
    "endtex = \"\\end{table}\\end{document}\"\n",
    "\n",
    "## write to latex \n",
    "\n",
    "f = open('../Tables/regression/reg1.tex', 'w')\n",
    "f.write(beginningtex)\n",
    "tb_ltx = dfoutput.tables[0].to_latex()\n",
    "f.write(tb_ltx)\n",
    "f.write(endtex)\n",
    "f.close()"
   ]
  },
  {
   "cell_type": "code",
   "execution_count": 66,
   "metadata": {
    "code_folding": []
   },
   "outputs": [
    {
     "name": "stdout",
     "output_type": "stream",
     "text": [
      "                            OLS Regression Results                            \n",
      "==============================================================================\n",
      "Dep. Variable:               Q24_mean   R-squared:                       0.047\n",
      "Model:                            OLS   Adj. R-squared:                  0.042\n",
      "Method:                 Least Squares   F-statistic:                     9.290\n",
      "Date:                Thu, 21 Nov 2019   Prob (F-statistic):           5.29e-06\n",
      "Time:                        20:14:00   Log-Likelihood:                -1234.8\n",
      "No. Observations:                 563   AIC:                             2478.\n",
      "Df Residuals:                     559   BIC:                             2495.\n",
      "Df Model:                           3                                         \n",
      "Covariance Type:            nonrobust                                         \n",
      "==============================================================================\n",
      "                 coef    std err          t      P>|t|      [0.025      0.975]\n",
      "------------------------------------------------------------------------------\n",
      "const          1.8261      0.368      4.968      0.000       1.104       2.548\n",
      "HHinc          0.0299      0.043      0.696      0.487      -0.054       0.114\n",
      "UEprob        -0.0150      0.005     -3.029      0.003      -0.025      -0.005\n",
      "Stkprob        0.0182      0.004      4.273      0.000       0.010       0.027\n",
      "==============================================================================\n",
      "Omnibus:                      131.389   Durbin-Watson:                   2.020\n",
      "Prob(Omnibus):                  0.000   Jarque-Bera (JB):              254.423\n",
      "Skew:                           1.313   Prob(JB):                     5.66e-56\n",
      "Kurtosis:                       4.988   Cond. No.                         206.\n",
      "==============================================================================\n",
      "\n",
      "Warnings:\n",
      "[1] Standard Errors assume that the covariance matrix of the errors is correctly specified.\n",
      "                            OLS Regression Results                            \n",
      "==============================================================================\n",
      "Dep. Variable:                Q24_var   R-squared:                       0.001\n",
      "Model:                            OLS   Adj. R-squared:                 -0.005\n",
      "Method:                 Least Squares   F-statistic:                   0.09826\n",
      "Date:                Thu, 21 Nov 2019   Prob (F-statistic):              0.961\n",
      "Time:                        20:14:00   Log-Likelihood:                -1854.2\n",
      "No. Observations:                 563   AIC:                             3716.\n",
      "Df Residuals:                     559   BIC:                             3734.\n",
      "Df Model:                           3                                         \n",
      "Covariance Type:            nonrobust                                         \n",
      "==============================================================================\n",
      "                 coef    std err          t      P>|t|      [0.025      0.975]\n",
      "------------------------------------------------------------------------------\n",
      "const          3.0124      1.104      2.728      0.007       0.843       5.182\n",
      "HHinc         -0.0038      0.129     -0.030      0.976      -0.257       0.250\n",
      "UEprob        -0.0037      0.015     -0.249      0.803      -0.033       0.025\n",
      "Stkprob        0.0064      0.013      0.499      0.618      -0.019       0.031\n",
      "==============================================================================\n",
      "Omnibus:                      498.289   Durbin-Watson:                   2.034\n",
      "Prob(Omnibus):                  0.000   Jarque-Bera (JB):            10156.010\n",
      "Skew:                           4.015   Prob(JB):                         0.00\n",
      "Kurtosis:                      22.195   Cond. No.                         206.\n",
      "==============================================================================\n",
      "\n",
      "Warnings:\n",
      "[1] Standard Errors assume that the covariance matrix of the errors is correctly specified.\n",
      "                            OLS Regression Results                            \n",
      "==============================================================================\n",
      "Dep. Variable:              Q24_rmean   R-squared:                       0.050\n",
      "Model:                            OLS   Adj. R-squared:                  0.045\n",
      "Method:                 Least Squares   F-statistic:                     9.844\n",
      "Date:                Thu, 21 Nov 2019   Prob (F-statistic):           2.46e-06\n",
      "Time:                        20:14:00   Log-Likelihood:                -1597.6\n",
      "No. Observations:                 563   AIC:                             3203.\n",
      "Df Residuals:                     559   BIC:                             3221.\n",
      "Df Model:                           3                                         \n",
      "Covariance Type:            nonrobust                                         \n",
      "==============================================================================\n",
      "                 coef    std err          t      P>|t|      [0.025      0.975]\n",
      "------------------------------------------------------------------------------\n",
      "const         -3.2524      0.700     -4.645      0.000      -4.628      -1.877\n",
      "HHinc          0.1955      0.082      2.388      0.017       0.035       0.356\n",
      "UEprob        -0.0297      0.009     -3.152      0.002      -0.048      -0.011\n",
      "Stkprob        0.0268      0.008      3.309      0.001       0.011       0.043\n",
      "==============================================================================\n",
      "Omnibus:                      280.436   Durbin-Watson:                   2.086\n",
      "Prob(Omnibus):                  0.000   Jarque-Bera (JB):             2546.138\n",
      "Skew:                          -1.993   Prob(JB):                         0.00\n",
      "Kurtosis:                      12.626   Cond. No.                         206.\n",
      "==============================================================================\n",
      "\n",
      "Warnings:\n",
      "[1] Standard Errors assume that the covariance matrix of the errors is correctly specified.\n",
      "                            OLS Regression Results                            \n",
      "==============================================================================\n",
      "Dep. Variable:               Q24_rvar   R-squared:                       0.020\n",
      "Model:                            OLS   Adj. R-squared:                  0.015\n",
      "Method:                 Least Squares   F-statistic:                     3.779\n",
      "Date:                Thu, 21 Nov 2019   Prob (F-statistic):             0.0105\n",
      "Time:                        20:14:00   Log-Likelihood:                -2677.4\n",
      "No. Observations:                 563   AIC:                             5363.\n",
      "Df Residuals:                     559   BIC:                             5380.\n",
      "Df Model:                           3                                         \n",
      "Covariance Type:            nonrobust                                         \n",
      "==============================================================================\n",
      "                 coef    std err          t      P>|t|      [0.025      0.975]\n",
      "------------------------------------------------------------------------------\n",
      "const         25.4012      4.765      5.330      0.000      16.041      34.762\n",
      "HHinc         -1.4334      0.557     -2.573      0.010      -2.528      -0.339\n",
      "UEprob         0.0318      0.064      0.497      0.620      -0.094       0.158\n",
      "Stkprob       -0.0910      0.055     -1.650      0.099      -0.199       0.017\n",
      "==============================================================================\n",
      "Omnibus:                      893.381   Durbin-Watson:                   2.018\n",
      "Prob(Omnibus):                  0.000   Jarque-Bera (JB):           351767.546\n",
      "Skew:                           9.067   Prob(JB):                         0.00\n",
      "Kurtosis:                     124.106   Cond. No.                         206.\n",
      "==============================================================================\n",
      "\n",
      "Warnings:\n",
      "[1] Standard Errors assume that the covariance matrix of the errors is correctly specified.\n"
     ]
    }
   ],
   "source": [
    "## other demographic controls \n",
    "more_contrl = indep_list + vars_demog_sub\n",
    "SCEM_long = SCEM_long.dropna(how='any')\n",
    "\n",
    "\n",
    "for mom in dep_list:\n",
    "    X = SCEM_long[indep_list]\n",
    "    X = sm.add_constant(X)\n",
    "    Y = SCEM_long[mom]\n",
    "    model = sm.OLS(Y,X)\n",
    "    rs = model.fit()\n",
    "    print(rs.summary())"
   ]
  }
 ],
 "metadata": {
  "kernelspec": {
   "display_name": "Python 3",
   "language": "python",
   "name": "python3"
  },
  "language_info": {
   "codemirror_mode": {
    "name": "ipython",
    "version": 3
   },
   "file_extension": ".py",
   "mimetype": "text/x-python",
   "name": "python",
   "nbconvert_exporter": "python",
   "pygments_lexer": "ipython3",
   "version": "3.7.3"
  }
 },
 "nbformat": 4,
 "nbformat_minor": 2
}
