{
 "cells": [
  {
   "cell_type": "markdown",
   "metadata": {},
   "source": [
    "# A model of imperfect understanding of income process\n",
    "\n",
    "This notebook experiments multiple dimensions via which agents misspecify the model of income leading to following empirical patterns of subjective income risk\n",
    "\n",
    "- Higher realizations corresponding to lower perceived risks \n",
    "- Older age corresponds to lower uncertainty \n",
    "- Cohort-specific uncertainty depending on the past realization of the income dispersion of the group \n",
    "- Certain kind of asymmetry in the effect of realization of shocks, i.e. positive shocks brings about lower uncertainty and higher reduces the uncerainty. \n",
    "- Interplay between income realizations and uncertainty, i.e. extrapolative from first moment to the second "
   ]
  },
  {
   "cell_type": "markdown",
   "metadata": {},
   "source": [
    "### A generic model of learning  \n",
    "\n",
    "\n",
    "\\begin{eqnarray}\n",
    "y_{i,c,t} = \\rho y_{i,c,t-1} + \\epsilon_{i,c,t}\n",
    "\\end{eqnarray}\n",
    "\n",
    "- persistence parameter is the same across cohort and inviduals. It is known by the modeler but not perfectly understood by the agents \n",
    "- the income shock is purely i.i.d., independent across individuals and time, namely \n",
    "\n",
    "\\begin{eqnarray}\n",
    "E(\\epsilon_{i,c,t},\\epsilon_{j,c,t}|y_{i,c,t-1}) = 0 \\quad \\forall i \\neq j\n",
    "\\end{eqnarray}\n",
    "\n",
    "and \n",
    "\n",
    "\\begin{eqnarray}\n",
    "E(\\epsilon_{i,c,t},\\epsilon_{i,c,t+k}|y_{i,t-1}) = 0 \\quad \\forall k >0\n",
    "\\end{eqnarray}\n",
    "\n",
    "- individual $i$ learns about the income process by \"running\" a regression of the above model using a limited sample of experienced income realizations of herself from $0$ to $t$ and a subsample of people from the same cohort or the population. \n",
    "\n",
    "- when learning, however, the agent has no perfect understanding of the shock is i.i.d., instead, she thinks that her shock at time $t$ is either serially correlated or cross-sectionally correlated. The former represents the scenario where the agent thinks a purely one-period shock is actually more persistent than the truth. The later represents a scenario in which the agent thinks an entirely idiosyncratic shock is actually an aggregate one affecting all in the cohort. What's potentially interesting is that we could allow people's mis-interpretation to depend on the sign of the realized shock. The asymmetry of cross-sectional correlation bias could be driven by  people's asymmetric behavior attributing a bad luck to external causes while a good one to internal causes. The misinterpretation of time-serial correlation hinges on the people's degree of subjective optimism. A bad (good) luck will be interpreted as a more persistent (transitory) one by a pessimist but a transitory (persistent) one by an optimist. These mechanisms interact each other. The following\n",
    "\n",
    "More formally, this implies the following by denoting $E_{i,t}$ as people's subjective perception of the model.\n",
    "\n",
    "Serially correlation means \n",
    "\n",
    "\\begin{eqnarray}\n",
    "E_{i,t}(\\epsilon_{i,c,t},\\epsilon_{i,c,t+k}|y_{i,c,t-1}) \\neq 0 \\quad \\forall \\quad k \n",
    "\\end{eqnarray}\n",
    "\n",
    "Cross-sectional correlation means\n",
    "\n",
    "\\begin{eqnarray}\n",
    "E_{i,t}(\\epsilon_{i,c,t},\\epsilon_{j,c,t+k}|y_{i,c,t-1}) \\neq 0 \\quad \\forall i \\neq j \\text{ and } i, j \\in c \n",
    "\\end{eqnarray}\n",
    "\n",
    "It is worth pointing out that so far, we have not introduced any model mis-specification that induces bias of the estimate of the persistence parameter $\\rho$. But there is no any practical hurdle of doing that. For instance, we could allow the regressors to be subject to some measurement errors. Also, we could allow the past observations to enter the learning in a diminshing weight to capture the idea of memory decay, i.e. people overweight recent memories. In the baseline model, I omit these extensions in order to focus on the implication of the model mis-specification on the uncertainty about the parameter. \n",
    "\n",
    "In general, the variance of the coefficient estimate that takes into account the serial or cross-sectional correlation is higher than the one corresponding to the i.i.d. assumption. This will endogenously generate difference in individual's uncertainty about their future income prediction.  "
   ]
  },
  {
   "cell_type": "code",
   "execution_count": 45,
   "metadata": {},
   "outputs": [],
   "source": [
    "import numpy as np \n",
    "import matplotlib.pyplot as plt\n",
    "import statsmodels.api as sm\n",
    "from statsmodels.tsa.arima_process import ArmaProcess\n",
    "import numpy.linalg as lg"
   ]
  },
  {
   "cell_type": "code",
   "execution_count": 76,
   "metadata": {
    "code_folding": [
     1,
     16,
     33,
     41,
     55,
     71,
     88,
     116
    ]
   },
   "outputs": [],
   "source": [
    "class ARProcess:\n",
    "    def __init__(self,\n",
    "                 ar_paras = np.array([0.97,0.1]),\n",
    "                 N = 60):\n",
    "        self.ar_paras = ar_paras\n",
    "        self.rho = ar_paras[0]\n",
    "        self.sigma = ar_paras[1]\n",
    "        self.N = N \n",
    "        self.k = 1\n",
    "        self.burn = 0.1\n",
    "        self.n_sim = 60\n",
    "        self.shock_type = 'iid'\n",
    "        self.shock_type_perceived = 'iid'\n",
    "             \n",
    "# simulate individual time series and cross-sectional data \n",
    "\n",
    "    def Simulate(self):\n",
    "        ar1 = self.ar_paras\n",
    "        rho,sigma = ar1\n",
    "        ma1 = np.array([1])\n",
    "        N_burn = int(self.burn*self.N)\n",
    "        N_long = self.N + N_burn\n",
    "        simulated_data = np.empty(N_long)\n",
    "        simulated_data[0] = 0.01\n",
    "        if self.shock_type =='iid':\n",
    "            shocks = sigma*np.random.randn(N_long)\n",
    "        for i in range(N_long-1):\n",
    "            simulated_data[i+1] = rho*simulated_data[i] + shocks[i+1]\n",
    "        #AR_object1 = ArmaProcess(ar1,ma1)\n",
    "        #simulated_data = AR_object1.generate_sample(nsample = self.N)\n",
    "        self.simulated = simulated_data[N_burn:]\n",
    "        return self.simulated \n",
    "    \n",
    "    def SimulatePop(self):\n",
    "        self.simulated_pop = np.empty([self.n_sim,self.N])\n",
    "        for i in range(self.n_sim):\n",
    "            self.simulated_pop[i,:] = self.Simulate()\n",
    "        return self.simulated_pop\n",
    "    \n",
    "## learning based on a given sample \n",
    "    \n",
    "    def LearnPara(self,\n",
    "                  obs = 'all'):  ## obs = ['all','experience','cohort']\n",
    "        if obs == 'all':\n",
    "            sample = self.simulated_pop        \n",
    "            \n",
    "        Y = np.asmatrix(sample[:,1:].flatten()).T\n",
    "        X = np.asmatrix(sample[:,:-1].flatten()).T\n",
    "        nobs = len(Y)\n",
    "        model = sm.OLS(Y,X)\n",
    "        rs = model.fit()\n",
    "        #print(rs.summary())\n",
    "        coeffs_est = rs.params\n",
    "        self.rs_correct = rs\n",
    "        self.errs = rs.resid.reshape(self.n_sim,self.N-1) ## residuals matrix \n",
    "        if self.shock_type_perceived == 'iid':\n",
    "            self.sigma2_est = np.sum(self.errs**2)/(rs.nobs-1)\n",
    "            self.D = np.eye(nobs)*self.sigma**2\n",
    "            self.D_est = np.eye(nobs)*self.sigma2_est\n",
    "            xx = np.dot(X.T,X)\n",
    "            ## regression coeffs \n",
    "            #coef_var_est0 = rs.bse**2  # using statsmodel package \n",
    "            coef_var_est1 = np.array(lg.inv(xx)*self.sigma2_est)  ## by hand \n",
    "            #coef_var_est2 = np.array(np.dot(np.dot(np.dot(np.dot(lg.inv(xx),\n",
    "            #                                     X.T),\n",
    "            #                                     self.D_est),\n",
    "            #                              X),\n",
    "            #                       lg.inv(xx)\n",
    "            #                      )) ## by general formula \n",
    "            self.coef_var_est = coef_var_est1\n",
    "            \n",
    "        if self.shock_type_perceived == 'cluster':\n",
    "            self.D_est = np.sum([np.dot(np.matrix(np.sum(sample[:,j]*self.errs[:,j])),\n",
    "                                       lg.inv(np.matrix(np.sum(sample[:,j]*self.errs[:,j]\n",
    "                                                              )\n",
    "                                                       )\n",
    "                                             )\n",
    "                                      ) for j in range(self.N-1)])\n",
    "            xx = np.dot(X.T,X)\n",
    "            ## regression coeffs \n",
    "            coef_var_est2 = (rs.nobs-1)/(rs.nobs-self.k)*self.N/(self.N-1)*np.array(np.dot(np.dot(np.dot(np.dot(lg.inv(xx),\n",
    "                                                 X.T),\n",
    "                                                 self.D_est),\n",
    "                                          X),\n",
    "                                   lg.inv(xx)\n",
    "                                  )) ## by general formula \n",
    "            self.coef_var_est = coef_var_est2\n",
    "            \n",
    "        if self.shock_type_perceived == 'serial_correlate':\n",
    "            self.D_est = np.sum([np.dot(np.matrix(np.sum(sample[i,:-1]*self.errs[i,:])),\n",
    "                                       lg.inv(np.matrix(np.sum(sample[i,:-1]*self.errs[i,:]\n",
    "                                                              )\n",
    "                                                       )\n",
    "                                             )\n",
    "                                      ) for i in range(self.n_sim)])\n",
    "            xx = np.dot(X.T,X)\n",
    "            ## regression coeffs \n",
    "            coef_var_est2 = (rs.nobs-1)/(rs.nobs-self.k)*self.N/(self.N-1)*np.array(np.dot(np.dot(np.dot(np.dot(lg.inv(xx),\n",
    "                                                 X.T),\n",
    "                                                 self.D_est),\n",
    "                                          X),\n",
    "                                   lg.inv(xx)\n",
    "                                  )) ## by general formula \n",
    "            self.coef_var_est = coef_var_est2\n",
    "        \n",
    "        ## common estimate \n",
    "        self.paras_learned_correct = coeffs_est\n",
    "        \n",
    "        ## forecast \n",
    "        self.var_predict_chg = self.sigma**2\n",
    "        self.var_predict_chg_est = self.sigma2_est + sample[:,-1]**2*self.coef_var_est \n",
    "        # n_sim individual-specific var\n",
    "        return self.paras_learned_correct,self.coef_var_est\n",
    "    \n",
    "## ages and experiences \n",
    "\n",
    "    def SimulateAgePop(self):\n",
    "        minus_life = np.flip(np.arange(self.N))\n",
    "        minus_life = np.expand_dims(minus_life,\n",
    "                                    axis = 1).T\n",
    "        minus_life_pop_sim = np.repeat(minus_life,\n",
    "                                       self.n_sim,\n",
    "                                       axis = 0) ## a matrix that is to be substracted to get the ages\n",
    "        age_pop_last = np.arange(self.n_sim)+20\n",
    "        age_pop_last = np.expand_dims(age_pop_last,\n",
    "                                      axis =1) # a population with different ages \n",
    "        self.ages_pop_sim = age_pop_last - minus_life_pop_sim ## get the age \n",
    "        self.ages_pop_sim = np.where(self.ages_pop_sim <0, 0, self.ages_pop_sim)         \n",
    "        return self.ages_pop_sim\n",
    "    \n",
    "    def Experience(self): ## age_pop is a simulated matrix with people in different ages. \n",
    "        sparse_pop = np.zeros(self.n_sim,self.N)\n",
    "        for i in range(self.n_sim):\n",
    "            for j in range(self.N):\n",
    "                if j>=self.N-self.ages_pop_sim[i]:\n",
    "                    sparse_pop[i,j] = 1 \n",
    "        "
   ]
  },
  {
   "cell_type": "code",
   "execution_count": 77,
   "metadata": {},
   "outputs": [],
   "source": [
    "## initialize an instance \n",
    "\n",
    "one = ARProcess()\n",
    "simulated_data1 = one.Simulate()"
   ]
  },
  {
   "cell_type": "code",
   "execution_count": 78,
   "metadata": {},
   "outputs": [
    {
     "data": {
      "text/plain": [
       "array([[ 0,  0,  0, ..., 18, 19, 20],\n",
       "       [ 0,  0,  0, ..., 19, 20, 21],\n",
       "       [ 0,  0,  0, ..., 20, 21, 22],\n",
       "       ...,\n",
       "       [18, 19, 20, ..., 75, 76, 77],\n",
       "       [19, 20, 21, ..., 76, 77, 78],\n",
       "       [20, 21, 22, ..., 77, 78, 79]])"
      ]
     },
     "execution_count": 78,
     "metadata": {},
     "output_type": "execute_result"
    }
   ],
   "source": [
    "one.SimulateAgePop()"
   ]
  },
  {
   "cell_type": "code",
   "execution_count": 73,
   "metadata": {
    "scrolled": true
   },
   "outputs": [
    {
     "data": {
      "text/plain": [
       "[<matplotlib.lines.Line2D at 0x1a257d5b70>]"
      ]
     },
     "execution_count": 73,
     "metadata": {},
     "output_type": "execute_result"
    },
    {
     "data": {
      "image/png": "[encoded data removed]",
      "text/plain": [
       "<Figure size 432x288 with 1 Axes>"
      ]
     },
     "metadata": {
      "needs_background": "light"
     },
     "output_type": "display_data"
    }
   ],
   "source": [
    "## simulate ar1 data \n",
    "\n",
    "plt.subplot(1,1,1)\n",
    "plt.plot(simulated_data1)"
   ]
  },
  {
   "cell_type": "code",
   "execution_count": 74,
   "metadata": {},
   "outputs": [
    {
     "data": {
      "text/plain": [
       "Text(0.5, 1.0, 'Time series distribution')"
      ]
     },
     "execution_count": 74,
     "metadata": {},
     "output_type": "execute_result"
    },
    {
     "data": {
      "image/png": "[encoded data removed]",
      "text/plain": [
       "<Figure size 432x288 with 1 Axes>"
      ]
     },
     "metadata": {
      "needs_background": "light"
     },
     "output_type": "display_data"
    }
   ],
   "source": [
    "dist = plt.hist(simulated_data1)\n",
    "plt.title('Time series distribution')"
   ]
  },
  {
   "cell_type": "code",
   "execution_count": 117,
   "metadata": {},
   "outputs": [],
   "source": [
    "one.n_sim = 30\n",
    "simulated_data_pop = one.SimulatePop()"
   ]
  },
  {
   "cell_type": "code",
   "execution_count": 118,
   "metadata": {},
   "outputs": [
    {
     "data": {
      "text/plain": [
       "Text(0.5, 1.0, 'Unconditional distribution')"
      ]
     },
     "execution_count": 118,
     "metadata": {},
     "output_type": "execute_result"
    },
    {
     "data": {
      "image/png": "[encoded data removed]",
      "text/plain": [
       "<Figure size 432x288 with 1 Axes>"
      ]
     },
     "metadata": {
      "needs_background": "light"
     },
     "output_type": "display_data"
    }
   ],
   "source": [
    "dist_pop = plt.hist(simulated_data_pop.flatten())\n",
    "plt.title('Unconditional distribution')"
   ]
  },
  {
   "cell_type": "code",
   "execution_count": 119,
   "metadata": {},
   "outputs": [
    {
     "data": {
      "text/plain": [
       "(array([0.96250402]), array([[4.49494788e-05]]))"
      ]
     },
     "execution_count": 119,
     "metadata": {},
     "output_type": "execute_result"
    }
   ],
   "source": [
    "one.LearnPara()"
   ]
  },
  {
   "cell_type": "code",
   "execution_count": 120,
   "metadata": {},
   "outputs": [
    {
     "data": {
      "text/plain": [
       "0.010000000000000002"
      ]
     },
     "execution_count": 120,
     "metadata": {},
     "output_type": "execute_result"
    }
   ],
   "source": [
    "one.var_predict_chg"
   ]
  },
  {
   "cell_type": "code",
   "execution_count": 121,
   "metadata": {},
   "outputs": [
    {
     "data": {
      "text/plain": [
       "0.009756369228846238"
      ]
     },
     "execution_count": 121,
     "metadata": {},
     "output_type": "execute_result"
    }
   ],
   "source": [
    "np.mean(one.var_predict_chg_est)"
   ]
  },
  {
   "cell_type": "code",
   "execution_count": 122,
   "metadata": {},
   "outputs": [
    {
     "data": {
      "text/plain": [
       "(array([0.96250402]), array([[0.27659164]]))"
      ]
     },
     "execution_count": 122,
     "metadata": {},
     "output_type": "execute_result"
    }
   ],
   "source": [
    "one.shock_type_perceived = 'cluster'\n",
    "one.LearnPara()"
   ]
  },
  {
   "cell_type": "code",
   "execution_count": 123,
   "metadata": {},
   "outputs": [
    {
     "data": {
      "text/plain": [
       "0.04448884739606466"
      ]
     },
     "execution_count": 123,
     "metadata": {},
     "output_type": "execute_result"
    }
   ],
   "source": [
    "np.mean(one.var_predict_chg_est)"
   ]
  },
  {
   "cell_type": "code",
   "execution_count": 124,
   "metadata": {},
   "outputs": [
    {
     "data": {
      "text/plain": [
       "(array([0.96250402]), array([[0.14063982]]))"
      ]
     },
     "execution_count": 124,
     "metadata": {},
     "output_type": "execute_result"
    }
   ],
   "source": [
    "one.shock_type_perceived = 'serial_correlate'\n",
    "one.LearnPara()"
   ]
  }
 ],
 "metadata": {
  "kernelspec": {
   "display_name": "Python 3",
   "language": "python",
   "name": "python3"
  },
  "language_info": {
   "codemirror_mode": {
    "name": "ipython",
    "version": 3
   },
   "file_extension": ".py",
   "mimetype": "text/x-python",
   "name": "python",
   "nbconvert_exporter": "python",
   "pygments_lexer": "ipython3",
   "version": "3.7.3"
  }
 },
 "nbformat": 4,
 "nbformat_minor": 4
}
