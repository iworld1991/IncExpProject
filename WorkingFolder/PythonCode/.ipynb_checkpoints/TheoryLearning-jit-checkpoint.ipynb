{
 "cells": [
  {
   "cell_type": "markdown",
   "metadata": {},
   "source": [
    "# A model of learning of the income process\n",
    "\n",
    "This notebook experiments multiple dimensions via which agents misspecify the model of income leading to following empirical patterns of subjective income risk\n",
    "\n",
    "- Higher realizations corresponding to lower perceived risks \n",
    "- Older age corresponds to lower uncertainty \n",
    "- Cohort-specific uncertainty depending on the past realization of the income dispersion of the group \n",
    "- Asymmetry in the effect of realization of shocks, i.e. positive shocks brings about lower uncertainty and higher reduces the uncerainty. \n",
    "- Interplay between income realizations and uncertainty, i.e. extrapolative from the first moment to the second "
   ]
  },
  {
   "cell_type": "markdown",
   "metadata": {},
   "source": [
    "### Income process and baseline model of learning  \n",
    "\n",
    "We start by defining an AR(1) process of the individual income. In particular, the income of individual $i$ from the cohort $c$ at time $t$ depends on her previous-period income with a persistence parameter of $\\rho$ and an individual and time-specific shock $\\epsilon_{i,c,t}$. \n",
    "\n",
    "\\begin{eqnarray}\n",
    "y_{i,c,t} = \\rho y_{i,c,t-1} + \\epsilon_{i,c,t}\n",
    "\\end{eqnarray}\n",
    "\n",
    "I define cohort $c$ to be measured by the year of entry in the job market. It is assumed that the $\\rho$ is the same across all inviduals. Also, I assume the income shock $\\epsilon_{i,c,t}$ to be i.i.d., namely independent across individuals and the time,and with an identical variance, as defined in the equation below. (Later sections will relax this assumption by allowing for cross-sectional correlation, namely some aggregate risks.)\n",
    "\n",
    "\\begin{eqnarray}\n",
    "E(\\epsilon_{t}'\\epsilon_{t}|Y_{t-1}) = \\sigma^2 I_n \\quad \\forall t \n",
    "\\end{eqnarray}\n",
    "\n",
    "where $\\sigma^2$ is the volatility of income shock and $I_n$ is an identity matrix whose length is the number of agents in the economy, $n$. Although income volatility is not cohort-specific, any past shock still has created different impacts on the young and old generations because their length of the proefessional career are different. This is reminiscent of <cite data-cite=\"bansal2004risks\">Storesletten et al. (2004)</cite>. Since both $\\rho$ and $\\sigma^2$ are not cohort-specific, I drop the subscript $c$ from now on to avoid clustering. \n",
    "\n",
    "Both $\\rho$ and $\\sigma$ are \"true\" parameters only known by the modeler, but unknown by agents in the economy. Individual $i$ learns about the income process by ``running'' a regression based on the model above using a limited sample from her past experience starting from the year of entering the job market till $t$. Critically, for this paper's purpose,  I allow the experience used for learning to include both her own and others' past income over the same period. It is admittedly bizarre to assume individual agents have access to the whole population's income. A more realistic assumption could be that only a small cross-sectional sample is available to the agent. Any scope of cross-sectional social learning suffices for the point to be made in this paper.  \n"
   ]
  },
  {
   "cell_type": "code",
   "execution_count": null,
   "metadata": {},
   "outputs": [],
   "source": [
    "import numpy as np \n",
    "import matplotlib.pyplot as plt\n",
    "import statsmodels.api as sm\n",
    "from statsmodels.tsa.arima_process import ArmaProcess\n",
    "import numpy.linalg as lg\n",
    "from scipy.special import erf \n",
    "import scipy.linalg as splg\n",
    "import pandas as pd\n",
    "from numba import njit\n",
    "#from numba import int32,int64, float32,float64, types,typed,typeof"
   ]
  },
  {
   "cell_type": "code",
   "execution_count": null,
   "metadata": {
    "code_folding": [
     4
    ]
   },
   "outputs": [],
   "source": [
    "\"\"\"\n",
    "ar_paras = np.array([0.95,0.1])\n",
    "typeof(ar_paras)\n",
    "\n",
    "spec = [\n",
    "    ('ar_paras',typeof(ar_paras)),  # a simple scalar field\n",
    "    ('rho', float64),                       # an array field\n",
    "    ('sigma', float64), \n",
    "    ('N', int32), \n",
    "    ('k', int32), \n",
    "    ('burn', float32),\n",
    "    ('shock_type', types.unicode_type),\n",
    "    ('shock_type_perceived', types.unicode_type),\n",
    "    ('n_sim', int32), \n",
    "    ('work_age', int32), \n",
    "    ('agg_corr', float32), \n",
    "    ('corr', float32), \n",
    "    ('theta', float32)\n",
    "     ]\n",
    "\"\"\""
   ]
  },
  {
   "cell_type": "code",
   "execution_count": null,
   "metadata": {
    "code_folding": [
     0,
     1,
     20,
     31,
     36,
     46,
     58,
     75,
     91,
     132,
     152,
     171,
     186,
     207,
     216,
     284,
     301,
     305,
     308,
     358,
     362,
     371,
     385,
     395,
     402,
     422
    ]
   },
   "outputs": [],
   "source": [
    "class LearningIncome:\n",
    "    def __init__(self,\n",
    "                 ar_paras = np.array([0.97,0.1]),\n",
    "                 N = 60):\n",
    "        self.ar_paras = ar_paras\n",
    "        self.rho = ar_paras[0]\n",
    "        self.sigma = ar_paras[1]\n",
    "        self.N = N \n",
    "        self.k = 1\n",
    "        self.burn = 0.2\n",
    "        self.n_sim = 30\n",
    "        self.shock_type = 'iid'\n",
    "        self.shock_type_perceived = 'iid'\n",
    "        self.work_age = 15\n",
    "        self.agg_corr = 1\n",
    "        self.corr = 0.9\n",
    "        self.theta = 1.5\n",
    "             \n",
    "# simulate individual time series and cross-sectional data \n",
    "\n",
    "    def Simulateiid(self):\n",
    "        ar1 = self.ar_paras\n",
    "        rho,sigma = ar1\n",
    "        N_burn = np.int(self.burn*self.N)\n",
    "        N_long = self.N + N_burn\n",
    "        simulated_pop = ARSimulator(rho,\n",
    "                                    sigma,\n",
    "                                    N_long)\n",
    "        self.simulated = simulated_pop[N_burn:]\n",
    "        return self.simulated \n",
    "    \n",
    "    def SimulateAggCorr(self):\n",
    "        ar1 = self.ar_paras\n",
    "        rho,sigma = ar1\n",
    "        N_burn = np.int(self.burn*self.N)\n",
    "        N_long = self.N + N_burn\n",
    "        sks = DrawShocks(sigma = sigma,     # size of income shock\n",
    "                         agg_corr = self.agg_corr,  # cross-sectional correlation \n",
    "                         n = self.n_sim,         # nb of people each point of time\n",
    "                         T = self.N)         # time period \n",
    "        simulated_pop = ARPanelSimulator(rho = rho,\n",
    "                                         n = self.n_sim,\n",
    "                                         T = self.N,\n",
    "                                         shocks = sks)\n",
    "        return simulated_pop[:,N_burn:]\n",
    "        \n",
    "    def SimulatePop(self):\n",
    "        self.simulated_pop = np.empty([self.n_sim,self.N])\n",
    "        if self.shock_type =='iid':\n",
    "            for i in range(self.n_sim):\n",
    "                self.simulated_pop[i,:] = self.Simulateiid()\n",
    "        if self.shock_type =='correlated':\n",
    "            self.simulated_pop = self.SimulateAggCorr()\n",
    "            \n",
    "        return self.simulated_pop\n",
    "    \n",
    "## learning based on a given sample \n",
    "    \n",
    "    def LearnPara(self,\n",
    "                  sample,\n",
    "                  which = 1): \n",
    "        n_sim,N = sample.shape\n",
    "        Y = np.asmatrix(sample[:,1:].flatten()).T\n",
    "        X = np.asmatrix(sample[:,:-1].flatten()).T\n",
    "        nobs = len(Y)\n",
    "        model = sm.OLS(Y,X)\n",
    "        rs = model.fit()\n",
    "        #print(rs.summary())\n",
    "        coeffs_est = rs.params\n",
    "        self.rs_correct = rs\n",
    "        self.errs = rs.resid.reshape(n_sim,N-1) ## residuals matrix \n",
    "        self.recent = sample[which,-1]\n",
    "        self.change = sample[which,-1] - sample[which,-2]\n",
    "        #self.change  = self.errs[which,-1]\n",
    "        \n",
    "        if self.shock_type_perceived == 'iid':\n",
    "            self.sigma2_est = np.sum(self.errs**2)/(rs.nobs-1)\n",
    "            self.D = np.eye(nobs)*self.sigma**2\n",
    "            self.D_est = np.eye(nobs)*self.sigma2_est\n",
    "            xx = np.dot(X.T,X)\n",
    "            ## regression coeffs \n",
    "            #coef_var_est0 = rs.bse**2  # using statsmodel package \n",
    "            coef_var_est1 = np.array(lg.inv(xx)*self.sigma2_est)  ## by hand \n",
    "            #coef_var_est2 = np.array(np.dot(np.dot(np.dot(np.dot(lg.inv(xx),\n",
    "            #                                     X.T),\n",
    "            #                                     self.D_est),\n",
    "            #                              X),\n",
    "            #                       lg.inv(xx)\n",
    "            #                      )) ## by general formula \n",
    "            self.coef_var_est = coef_var_est1\n",
    "            \n",
    "        if self.shock_type_perceived == 'non-independence':  ## generalized least square \n",
    "            sigma_est = np.eye(nobs)\n",
    "            for i in range(int(rs.nobs - N)):\n",
    "                sigma_est[i,i+N]= self.corr\n",
    "                sigma_est[i+N,i] = self.corr ## create correlation across people\n",
    "            #sigma_est = np.where(sigma_est == 0, \n",
    "            #                     self.corr**2, \n",
    "            #                     sigma_est)  # diagnal being 1 and off-diagnal being subjective corr\n",
    "            xx = np.dot(X.T,X)\n",
    "            xsx = np.array(lg.inv(np.dot(np.dot(X.T,\n",
    "                                                lg.inv(sigma_est)\n",
    "                                                      ),\n",
    "                                                X)\n",
    "                                        )\n",
    "                                        )  # X'sigma^-1X\n",
    "            xsy = np.array(np.dot(np.dot(X.T,\n",
    "                                         lg.inv(sigma_est)\n",
    "                                        ),\n",
    "                                  Y) # X'sigma^-1Y\n",
    "                          )\n",
    "            #coeffs_est = np.dot(xsx,\n",
    "            #                    xsy)   # beta_gls \n",
    "            \n",
    "            #err1d = Y-X*coeffs_est\n",
    "            #self.errs = err1d.reshape(n_sim,N-1)\n",
    "            self.sigma2_est = np.sum(np.array(self.errs)**2)/(rs.nobs-1)\n",
    "            self.D_est = sigma_est*self.sigma2_est\n",
    "            coef_var_est2 = np.array(np.dot(np.dot(np.dot(np.dot(lg.inv(xx),\n",
    "                                                 X.T),\n",
    "                                                 self.D_est),\n",
    "                                          X),\n",
    "                                  lg.inv(xx)   \n",
    "                                  )) ## by general formula   ## variance of ols estimate\n",
    "            coef_var_est3 = np.array(np.dot(np.dot(np.dot(np.dot(lg.inv(xsx),\n",
    "                                                 X.T),\n",
    "                                                 self.D_est),\n",
    "                                          X),\n",
    "                                  lg.inv(xsx)   \n",
    "                                  )) ## by general formula   ## variance of gls estimate\n",
    "            self.coef_var_est = coef_var_est2\n",
    "            \n",
    "        if self.shock_type_perceived == 'cluster':\n",
    "            self.sigma2_est = np.sum(self.errs**2)/(rs.nobs-1)\n",
    "            self.D_est = np.sum([np.dot(np.matrix(np.sum(sample[:,j]*self.errs[:,j])),\n",
    "                                       lg.inv(np.matrix(np.sum(sample[:,j]*self.errs[:,j]\n",
    "                                                              )\n",
    "                                                       )\n",
    "                                             )\n",
    "                                      ) for j in range(n_sim-1)])\n",
    "            xx = np.dot(X.T,X)\n",
    "            ## regression coeffs \n",
    "            coef_var_est2 = (rs.nobs-1)/(rs.nobs-self.k)*N/(N-1)*np.array(np.dot(np.dot(np.dot(np.dot(lg.inv(xx),\n",
    "                                                 X.T),\n",
    "                                                 self.D_est),\n",
    "                                          X),\n",
    "                                   lg.inv(xx)\n",
    "                                  )) ## by general formula \n",
    "            D_est_simple = self.sigma2_est*(1+self.corr*(N-1))\n",
    "            coef_var_est3 = lg.inv(xx)*D_est_simple\n",
    "            self.coef_var_est = coef_var_est3\n",
    "            \n",
    "        if self.shock_type_perceived == 'serial_correlate':\n",
    "            self.sigma2_est = np.sum(self.errs**2)/(rs.nobs-1)\n",
    "            self.D_est = np.sum([np.dot(np.matrix(np.sum(sample[i,:-1]*self.errs[i,:])),\n",
    "                                       lg.inv(np.matrix(np.sum(sample[i,:-1]*self.errs[i,:]\n",
    "                                                              )\n",
    "                                                       )\n",
    "                                             )\n",
    "                                      ) for i in range(n_sim)])\n",
    "            xx = np.dot(X.T,X)\n",
    "            ## regression coeffs \n",
    "            coef_var_est2 = (rs.nobs-1)/(rs.nobs-self.k)*N/(N-1)*np.array(np.dot(np.dot(np.dot(np.dot(lg.inv(xx),\n",
    "                                                 X.T),\n",
    "                                                 self.D_est),\n",
    "                                          X),\n",
    "                                   lg.inv(xx)\n",
    "                                  )) ## by general formula \n",
    "            self.coef_var_est = coef_var_est2\n",
    "            \n",
    "        if self.shock_type_perceived == 'attribution_biased':\n",
    "            if  self.change >= 0:  ## positive change, then i.i.d. \n",
    "                self.sigma2_est = np.sum(self.errs**2)/(rs.nobs-1)\n",
    "                self.D = np.eye(nobs)*self.sigma**2\n",
    "                self.D_est = np.eye(nobs)*self.sigma2_est\n",
    "                xx = np.dot(X.T,X)\n",
    "                ## regression coeffs \n",
    "                #coef_var_est0 = rs.bse**2  # using statsmodel package \n",
    "                coef_var_est1 = np.array(lg.inv(xx)*self.sigma2_est)  ## by hand \n",
    "                #coef_var_est2 = np.array(np.dot(np.dot(np.dot(np.dot(lg.inv(xx),\n",
    "                #                                     X.T),\n",
    "                #                                     self.D_est),\n",
    "                #                              X),\n",
    "                #                       lg.inv(xx)\n",
    "                #                      )) ## by general formula \n",
    "                self.coef_var_est = coef_var_est1\n",
    "            elif self.change < 0:\n",
    "                self.sigma2_est = np.sum(self.errs**2)/(rs.nobs-1)\n",
    "                #self.D_est = np.sum([np.dot(np.matrix(np.sum(sample[:,j]*self.errs[:,j])),\n",
    "                #                           lg.inv(np.matrix(np.sum(sample[:,j]*self.errs[:,j]\n",
    "                #                                                  )\n",
    "                #                                           )\n",
    "                #                                 )\n",
    "                #                          ) for j in range(N-1)])  ## hat omega = sum_g (sum_ng x e)(sum_ng x e)'\n",
    "                xx = np.dot(X.T,X)\n",
    "                ## regression coeffs \n",
    "                #coef_var_est2 = (rs.nobs-1)/(rs.nobs-self.k)*N/(N-1)*np.array(np.dot(np.dot(np.dot(np.dot(lg.inv(xx),\n",
    "                #                                     X.T),\n",
    "                #                                     self.D_est),\n",
    "                #                              X),\n",
    "                #                       lg.inv(xx)\n",
    "                #                      )) ## by general formula\n",
    "                D_est_simple = self.sigma2_est*(1+self.corr*(n_sim-1))\n",
    "                coef_var_est3 = lg.inv(xx)*D_est_simple\n",
    "                \n",
    "                self.coef_var_est = coef_var_est3  ## negative changes, then cluster \n",
    "        \n",
    "        if self.shock_type_perceived == 'extrapolative_attribution_biased':\n",
    "            corr = self.extrapolate(self.change/self.sigma)\n",
    "            self.sigma2_est = np.sum(self.errs**2)/(rs.nobs-1)\n",
    "            xx = np.dot(X.T,X)\n",
    "            ## regression coeffs \n",
    "            D_est_simple = self.sigma2_est*(1+corr*(n_sim-1))\n",
    "            coef_var_est3 = lg.inv(xx)*D_est_simple    \n",
    "            self.coef_var_est = coef_var_est3  ## based on the extrapolative corr            \n",
    "        \n",
    "        if self.shock_type_perceived == 'attribution_biased2':\n",
    "            if  self.change >= 0:  ## positive change, then i.i.d. \n",
    "                self.sigma2_est = np.sum(self.errs**2)/(rs.nobs-1)\n",
    "                self.D = np.eye(nobs)*self.sigma**2\n",
    "                self.D_est = np.eye(nobs)*self.sigma2_est\n",
    "                xx = np.dot(X.T,X)\n",
    "                ## regression coeffs \n",
    "                #coef_var_est0 = rs.bse**2  # using statsmodel package \n",
    "                coef_var_est1 = np.array(lg.inv(xx)*self.sigma2_est)  ## by hand \n",
    "                #coef_var_est2 = np.array(np.dot(np.dot(np.dot(np.dot(lg.inv(xx),\n",
    "                #                                     X.T),\n",
    "                #                                     self.D_est),\n",
    "                #                              X),\n",
    "                #                       lg.inv(xx)\n",
    "                #                      )) ## by general formula \n",
    "                self.coef_var_est = coef_var_est1\n",
    "            elif self.change < 0:\n",
    "                sigma_est = np.eye(nobs)\n",
    "                for i in range(int(rs.nobs - N)):\n",
    "                    sigma_est[i,i+N]= self.corr**2\n",
    "                    sigma_est[i+N,i] = self.corr**2 ## create correlation across people\n",
    "                #sigma_est = np.where(sigma_est == 0, \n",
    "                #                     self.corr**2, \n",
    "                #                     sigma_est)  # diagnal being 1 and off-diagnal being subjective corr\n",
    "                xx = np.dot(X.T,X)\n",
    "                xsx = np.array(lg.inv(np.dot(np.dot(X.T,\n",
    "                                                    lg.inv(sigma_est)\n",
    "                                                          ),\n",
    "                                                    X)\n",
    "                                            )\n",
    "                                            )  # X'sigma^-1X\n",
    "                xsy = np.array(np.dot(np.dot(X.T,\n",
    "                                             lg.inv(sigma_est)\n",
    "                                            ),\n",
    "                                      Y) # X'sigma^-1Y\n",
    "                              )\n",
    "                #coeffs_est = np.dot(xsx,\n",
    "                #                    xsy)   # beta_gls \n",
    "\n",
    "                #err1d = Y-X*coeffs_est\n",
    "                #self.errs = err1d.reshape(n_sim,N-1)\n",
    "                self.sigma2_est = np.sum(np.array(self.errs)**2)/(rs.nobs-1)\n",
    "                self.D_est = sigma_est*self.sigma2_est\n",
    "                coef_var_est2 = np.array(np.dot(np.dot(np.dot(np.dot(lg.inv(xx),\n",
    "                                                     X.T),\n",
    "                                                     self.D_est),\n",
    "                                              X),\n",
    "                                      lg.inv(xx)   \n",
    "                                      )) ## by general formula   ## variance of ols estimate\n",
    "                coef_var_est3 = np.array(np.dot(np.dot(np.dot(np.dot(lg.inv(xsx),\n",
    "                                                     X.T),\n",
    "                                                     self.D_est),\n",
    "                                              X),\n",
    "                                      lg.inv(xsx)   \n",
    "                                      )) ## by general formula   ## variance of gls estimate\n",
    "                self.coef_var_est = coef_var_est2\n",
    "        ## common estimate \n",
    "        self.paras_learned = coeffs_est\n",
    "        \n",
    "        ## forecast \n",
    "        self.var_predict_chg = self.sigma**2\n",
    "        self.var_predict_chg_est = self.sigma2_est + sample[which,-1]**2*self.coef_var_est \n",
    "        # n_sim individual-specific var\n",
    "        \n",
    "        return self.paras_learned,self.coef_var_est,self.sigma2_est\n",
    "    \n",
    "## ages and experiences \n",
    "\n",
    "    def SimulateAgePop(self):\n",
    "        minus_life = np.flip(np.arange(self.N))\n",
    "        minus_life = np.expand_dims(minus_life,\n",
    "                                    axis = 1).T\n",
    "        minus_life_pop_sim = np.repeat(minus_life,\n",
    "                                       self.n_sim,\n",
    "                                       axis = 0) ## a matrix that is to be substracted to get the ages\n",
    "        #age_pop_last = np.arange(self.n_sim)+20\n",
    "        #np.random.seed(23023)\n",
    "        age_pop_last = np.random.choice(range(20,60),\n",
    "                                        self.n_sim)\n",
    "        age_pop_last = np.expand_dims(age_pop_last,\n",
    "                                      axis =1) # a population with different ages \n",
    "        self.ages_pop_sim = age_pop_last - minus_life_pop_sim ## get the age \n",
    "        self.ages_pop_sim = np.where(self.ages_pop_sim < self.work_age, np.nan, self.ages_pop_sim)         \n",
    "        return self.ages_pop_sim\n",
    "    \n",
    "    def Experience(self): ## age_pop is a simulated matrix with people in different ages. \n",
    "        sparse_pop = np.zeros(self.n_sim,self.N)\n",
    "        for i in range(self.n_sim):\n",
    "            for j in range(self.N):\n",
    "                if j>=self.N-self.ages_pop_sim[i]:\n",
    "                    sparse_pop[i,j] = 1 \n",
    "    \n",
    "    def LearnParafromExperience(self):\n",
    "        \n",
    "        ## simulate age \n",
    "        self.SimulateAgePop()\n",
    "        \n",
    "        ## locations \n",
    "        coeffs_est = np.empty([self.n_sim,self.N])\n",
    "        sigma2_est = np.empty([self.n_sim,self.N])\n",
    "        coef_vars_est = np.empty([self.n_sim,self.N])\n",
    "        var_predict_chg_est = np.empty([self.n_sim,self.N])\n",
    "        av_past = np.empty([self.n_sim,self.N])\n",
    "        recent = np.empty([self.n_sim,self.N])\n",
    "        changes = np.empty([self.n_sim,self.N])\n",
    "        \n",
    "        for i in range(self.n_sim):\n",
    "            for j in range(self.N):\n",
    "                if self.ages_pop_sim[i,j] > self.work_age:\n",
    "                    st = np.min([idx for idx in range(j)]) ## begin of experience\n",
    "                    ed = j  ## end of experience\n",
    "                    sample_this = self.simulated_pop[:,st:ed]\n",
    "                    if sample_this.shape[1] >= 2:  ## at least two observations \n",
    "                        self.LearnPara(sample = sample_this,\n",
    "                                       which = i)\n",
    "                        coeffs_est[i,j] = self.paras_learned\n",
    "                        sigma2_est[i,j] = self.sigma2_est\n",
    "                        coef_vars_est[i,j] = self.coef_var_est\n",
    "                        var_predict_chg_est[i,j] = self.var_predict_chg_est\n",
    "                        av_past[i,j] = np.mean(sample_this[i,:])\n",
    "                        recent[i,j] =  self.recent\n",
    "                        changes[i,j] = self.change\n",
    "                else:\n",
    "                    coeffs_est[i,j] =  np.nan\n",
    "                    sigma2_est[i,j] = np.nan\n",
    "                    coef_vars_est[i,j] = np.nan\n",
    "                    var_predict_chg_est[i,j] = np.nan\n",
    "                    av_past[i,j] = np.nan\n",
    "                    recent[i,j] =  np.nan\n",
    "                    changes[i,j] = np.nan\n",
    "                    \n",
    "        self.coeffs_est = coeffs_est\n",
    "        self.sigma2s_est = sigma2_est\n",
    "        self.coef_vars_est = coef_vars_est\n",
    "        self.var_predict_chg_est = var_predict_chg_est\n",
    "        self.av_past = av_past \n",
    "        self.changes = changes\n",
    "        self.recent = recent \n",
    "        \n",
    "        return self.coeffs_est,self.coef_vars_est,self.sigma2s_est,self.var_predict_chg_est\n",
    "    \n",
    "## other functions\n",
    "    def logisticfunc(self,\n",
    "                     x):\n",
    "        return 1/(1+np.exp(-self.theta*x))\n",
    "    \n",
    "    def extrapolate(self,\n",
    "                    shock,\n",
    "                    how = 'by_size'):\n",
    "        if how =='by_size':\n",
    "            corr = 1-self.logisticfunc(shock)\n",
    "        elif how =='by_sign':\n",
    "            corr = np.array(shock < 0)  ## 0 or 1 depending on the sign \n",
    "        return corr\n",
    "    \n",
    "    def extrapolate2(self,\n",
    "                   shock,\n",
    "                   how = 'by_size'):\n",
    "        if how =='by_size':\n",
    "            corr = -erf(self.theta*shock)\n",
    "        elif how =='by_sign':\n",
    "            corr = np.array(shock < 0)  ## 0 or 1 depending on the sign \n",
    "        return corr\n",
    "    \n",
    "###############################################################\n",
    "### stand-alone functions to be jitted or for general purpose\n",
    "##############################################################\n",
    "\n",
    "@njit\n",
    "def ARSimulator(rho,\n",
    "                sigma,\n",
    "                T):\n",
    "    x = np.empty(T)\n",
    "    x[0] = 0.01\n",
    "    shocks = sigma*np.random.randn(T)\n",
    "    for i in range(T-1):\n",
    "        x[i+1] = rho*x[i] + shocks[i+1]\n",
    "    return x\n",
    "\n",
    "def MultiNormalSampler(mean,\n",
    "                       cov,\n",
    "                       size = 1):\n",
    "    L = splg.cholesky(cov)\n",
    "    Z = np.random.normal(size = (size, cov.shape[0]))\n",
    "    return Z.dot(L)+mean \n",
    "\n",
    "def DrawShocks(sigma,     # size of income shock\n",
    "               agg_corr,  # cross-sectional correlation coefficient \n",
    "               n,         # nb of people each point of time\n",
    "               T):        # length of time \n",
    "    ## correlation matrix \n",
    "    mean = np.zeros(n)\n",
    "    cov = sigma**2*agg_corr*np.ones((n,n))\n",
    "    np.fill_diagonal(cov,1)   ## diagnal being 1\n",
    "        \n",
    "    ## generate shocks that are cross-sectionally correlated \n",
    "    #shocks = np.random.multivariate_normal(mean,cov) # for a particular t\n",
    "    shocks = MultiNormalSampler(mean,cov,size = T)\n",
    "    #for t in range(T):\n",
    "    #    shocks_this_t = np.random.multivariate_normal(mean,cov) # for a particular t\n",
    "    #    shocks = np.vstack((shocks,\n",
    "    #                        shocks_this_t))\n",
    "    #shocks = shocks.T\n",
    "    return shocks \n",
    "\n",
    "@njit \n",
    "def ARPanelSimulator(rho, \n",
    "                     n,\n",
    "                     T,\n",
    "                     shocks):\n",
    "        ## generate simulated data \n",
    "        simulated_pop = np.empty((n,T))\n",
    "        simulated_pop[:,0] = 0.01\n",
    "        for i in range(n):\n",
    "            for t in range(T-1):\n",
    "                simulated_pop[i,t+1] = rho*simulated_pop[i,t] + shocks[i,t+1]\n",
    "        return simulated_pop"
   ]
  },
  {
   "cell_type": "code",
   "execution_count": null,
   "metadata": {},
   "outputs": [],
   "source": [
    "# initial parameters \n",
    "paras = {'theta': 40,\n",
    "        'n_sim': 200,\n",
    "        'N':60,\n",
    "        'agg_corr':1}"
   ]
  },
  {
   "cell_type": "code",
   "execution_count": null,
   "metadata": {},
   "outputs": [],
   "source": [
    "## initialize an instance \n",
    "one = LearningIncome()\n",
    "simulated_data1 = one.Simulateiid()\n",
    "one.theta = paras['theta']\n",
    "one.n_sim = paras['n_sim']\n",
    "one.N = paras['N']\n",
    "one.agg_corr = paras['agg_corr']"
   ]
  },
  {
   "cell_type": "code",
   "execution_count": null,
   "metadata": {
    "code_folding": [
     0
    ],
    "scrolled": true
   },
   "outputs": [],
   "source": [
    "## simulate ar1 data \n",
    "\n",
    "plt.subplot(1,1,1)\n",
    "plt.title('one simulated sequence of income (AR1)')\n",
    "plt.plot(simulated_data1)"
   ]
  },
  {
   "cell_type": "code",
   "execution_count": 7,
   "metadata": {},
   "outputs": [
    {
     "data": {
      "text/plain": [
       "Text(0.5, 1.0, 'Distribution of income over time')"
      ]
     },
     "execution_count": 7,
     "metadata": {},
     "output_type": "execute_result"
    },
    {
     "data": {
      "image/png": "[encoded data removed]",
      "text/plain": [
       "<Figure size 432x288 with 1 Axes>"
      ]
     },
     "metadata": {
      "needs_background": "light"
     },
     "output_type": "display_data"
    }
   ],
   "source": [
    "dist = plt.hist(simulated_data1)\n",
    "plt.title('Distribution of income over time')"
   ]
  },
  {
   "cell_type": "code",
   "execution_count": 8,
   "metadata": {},
   "outputs": [],
   "source": [
    "simulated_data_pop = one.SimulatePop()"
   ]
  },
  {
   "cell_type": "code",
   "execution_count": 9,
   "metadata": {},
   "outputs": [
    {
     "data": {
      "text/plain": [
       "Text(0.5, 1.0, 'Unconditional distribution')"
      ]
     },
     "execution_count": 9,
     "metadata": {},
     "output_type": "execute_result"
    },
    {
     "data": {
      "image/png": "[encoded data removed]",
      "text/plain": [
       "<Figure size 432x288 with 1 Axes>"
      ]
     },
     "metadata": {
      "needs_background": "light"
     },
     "output_type": "display_data"
    }
   ],
   "source": [
    "dist_pop = plt.hist(simulated_data_pop.flatten())\n",
    "plt.title('Unconditional distribution')"
   ]
  },
  {
   "cell_type": "markdown",
   "metadata": {},
   "source": [
    "### A baseline model of experience-based learning\n",
    "\n",
    "If each agent knows _perfectly_ the model parameters $\\rho$ and $\\sigma$, the uncertainty about future income growth is \n",
    "\n",
    "\\begin{eqnarray}\n",
    "\\begin{split}\n",
    "Var^*_{i,t}(\\Delta y_{i,t+1}) & =  Var^*_{i,t}(y_{i,t+1}- y_{i,t}) \\\\ \n",
    "& =  Var^*_{i,t}((\\rho-1)y_{i,t} + \\epsilon_{i,t+1}) \\\\\n",
    "& = Var^*_{i,t}(\\epsilon_{i,t+1}) \\\\\n",
    "& = \\sigma^2\n",
    "\\end{split}\n",
    "\\end{eqnarray}\n",
    "\n",
    "The superscript $*$ is the notation for perfect understanding. \n",
    "\n",
    "Under imperfect understanding and learning, both $\\rho$ and $\\sigma^2$ are unknown to agents. Therefore, the agent needs to learn about the parameters from the small panel sample experienced up to that point of the time. We represent the sample estimates of $\\rho$ and $\\sigma^2$ using $\\widehat \\rho$ and $\\hat{\\sigma}^2$. \n",
    "\n",
    "\\begin{eqnarray}\n",
    "\\begin{split}\n",
    "Var_{i,t}(\\Delta y_{i,t+1}) & = y_{i,t-1}^2 \\widehat{Var}^{\\rho}_{i,t} + \\hat{\\sigma}^2_{i,t}\n",
    "\\end{split}\n",
    "\\end{eqnarray}\n",
    "\n",
    "The perceived risks of future income growth have two components. The first one comes from the uncertainty about the persistence parameter. The second is based on the estimated risk of a yet-unrealized shock. The first component is non-existent under perfect understanding. Notice that this source of uncertainty is scaled by the squared size of the contemporary income. It implies that the income risks are size-dependent under imperfect understanding. And the second component has its perfectly known counterpart under perfect understanding. In general, the estimates $\\hat{\\sigma}^2_{i,t}$ can be lower or higher than the true risks.  \n",
    "\n",
    "We assume the agents learn the parameters using the least square rule. We first consider the case when the agent understands that the income shocks are i.i.d. To put it differently, this is when the agent correctly specify the income model when learning. The least-square estimate of paramters are the following.\n",
    "\n",
    "\n",
    "\\begin{eqnarray}\n",
    "\\hat \\rho_{i,t} = (Y_{t-1}'Y_{t-1})^{-1}(Y_{t-1}Y_{t})\n",
    "\\end{eqnarray}\n",
    "\n",
    "The variance of sample residuls are used for estimating the income volatility $\\sigma^2$. \n",
    "\n",
    "\\begin{eqnarray}\n",
    "\\widehat{\\sigma}^2_{i} = s^2 = \\frac{1}{N_{i,t}} \\sum \\hat e_i^2\n",
    "\\end{eqnarray}\n",
    "\n",
    "where $N_{i,t}$ is the size of the panel sample available to the agent $i$ at time t. It is equal to $n(t-c)$, the number of people in the sample times the duration of agent $i$'s career. \n",
    "\n",
    "Under i.i.d. assumption, the estimated uncertainty about the estimate is \n",
    "\n",
    "\\begin{eqnarray}\n",
    "\\widehat {Var}^{\\rho}_{i,t} = (Y_{t-1}'Y_{t-1})^{-1}\\widehat{\\sigma}^2_{i,t}I_{N_{i}}\n",
    "\\end{eqnarray}\n",
    "\n",
    "Experience-based learning naturally introduces a mechanism for the perceived income risks to be cohort-specific and age-specific. Different generations who have experienced different realizations of the income shocks have different estimates of $Var^{\\rho}$ and $\\sigma^2$, thus differ in their uncertainty about future income. In the meantime, people at an older age are faced with a larger sample size than younger ones, this will drive the age profile of perceived risks in line with the observation that the perceived risk is lower as one grows older. "
   ]
  },
  {
   "cell_type": "markdown",
   "metadata": {},
   "source": [
    "### Attribution bias \n",
    "\n",
    "The attribution bias induces an agent to subjectively make assumptions about the correlation structure of income shocks, which may or may not be consistent with the truth. A particular manifesto of the bias, as far as this paper is concerned, is that people attribute bad luck to external causes and good luck to internal ones. The learning framework here can neatly capture this by assuming that people's subjective specification of the nature of the shocks $\\epsilon$ asymmetrically depends on the sign of the recent income change (or the realized shocks). More formally, I use superscript $\\tilde{}$ to denote perceptions under attribution bias, the bias can manifest itself in the following manner. \n",
    "\n",
    "\\begin{eqnarray}\n",
    "\\begin{split}\n",
    "\\tilde E_{i,t}(\\epsilon_{i,t-k}\\epsilon_{j,t-k}|Y_{t-k-1}) = 0 \\quad \\forall k =0, 1,... t-c \\quad \\textrm{if} \\quad \\Delta(y_{i,t})>0 \\\\\n",
    "\\tilde E_{i,t}(\\epsilon_{i,t-k}\\epsilon_{j,t-k}|Y_{t-k-1}) > 0 \\quad \\forall k =0, 1,... t-c \\quad \\textrm{if} \\quad \\Delta(y_{i,t})<0\n",
    "\\end{split}\n",
    "\\end{eqnarray}\n",
    "\n",
    "\n",
    "This implies, a positive change in income induces the agent to maintain the independence assumption of the shocks, while a negative change in income makes the agent interpret the shock to be positively correlated with each other within each point of the time. Assuming the perceived correlation is the same between different people, this is equivalent to saying that the agent's subject attribution leads her to believe that the correlation across agents is $\\tilde\\delta_{i,t}$. \n",
    "\n",
    "Here, I let the attribution be contingent on the income change $\\delta y_{i,t}$. An alternative to it can be the forecast errors, $\\widehat e_{i,t}$, namely the unexpected income shock to agent $i$ at time $t$. The distinction between the two modeling techniques is indistinguishable in terms of qualitative predictions.  \n",
    "\n",
    "\\begin{eqnarray}\n",
    "\\begin{split}\n",
    "\\tilde\\delta_{i,t} = 0 \\quad \\textrm{if} \\quad \\Delta(y_{i,t})>0 \\\\\n",
    "\\tilde\\delta_{i,t} = 1 \\quad \\textrm{if} \\quad \\Delta(y_{i,t})<0\n",
    "\\end{split}\n",
    "\\end{eqnarray}\n",
    "\n",
    "The agent still adopts the ordinary least square learning rule. Therefore, her estimate of $\\rho$ remains the same as before. However, the uncertainty about the estimate of $\\rho$ is no longer the same because of the attribution bias. Econometrically, this is equivalent to accounting for clustered standard errors across observations within each point of time. If we maintain the homoscedasticity assumption, i.e. income risks do not change over time $\\sigma$, one can derive the uncertainty about the persistence parameter as below \n",
    "\n",
    "\\begin{eqnarray}\n",
    "\\begin{split}\n",
    "\\tilde {Var}^{\\rho}_{i,t}  = (Y_{t-1}'Y_{t-1})^{-1}\\widehat{\\sigma}^2(1+ \\tilde\\delta_{i,t}(n-1))\n",
    "\\end{split}\n",
    "\\end{eqnarray}\n",
    "\n",
    "Where $n$ is the number of observations within each time cluster, i.e. the number of people at any point of the time.\n",
    "\n",
    "One can immediately show the following:\n",
    "\n",
    "\\begin{eqnarray}\n",
    "\\tilde {Var}^{\\rho}_{i,t} \\geq \\widehat {Var}^{\\rho}_{i,t} \\quad \\forall \\quad \\tilde\\delta_{i,t} \\geq 0\n",
    "\\end{eqnarray}\n",
    "\n",
    "where the equality holds as a special case when $\\tilde\\delta_{i,t} = 0$. The left hand side monotonically increases with $\\tilde \\delta_{i,t}$. \n",
    "\n",
    "In the meantime, the estimates of $\\sigma^2$ remain the same no matter if the attribution bias arises, both of which are equal to the sample average of regression residuals $s^2$. \n",
    "\n",
    "\n",
    "\\begin{eqnarray}\n",
    "\\tilde{\\sigma}^2_{i,t} = \\widehat{\\sigma}^2_{i,t}\n",
    "\\end{eqnarray}\n",
    "\n",
    "Combining both relations above, one can show the perceived risks of an unlucky person is unambiguously higher than that of a lucky one. \n",
    "\n",
    "\\begin{eqnarray}\n",
    "\\begin{split}\n",
    "\\tilde {Var}_{i,t}(\\Delta y_{i,t+1}) & = y_{i,t-1}^2 \\tilde{Var}^{\\rho}_{i,t} + \\tilde{\\sigma}^2_{i,t} \\\\\n",
    "& \\geq \\widehat {Var}_{i,t}(\\Delta y_{i,t+1}) \n",
    "\\end{split}\n",
    "\\end{eqnarray}\n",
    "\n",
    "One way to rephrase the inequality above is that the unlucky group excessively extrapolates the realized shocks into her perception of risks. There is no distinction between the lucky and unlucky group in perceived risks without the attribution bias. In the presence of the bias, anyone who is unlucky to have just experienced a negative income change has a higher perceived risk compared to any lucky one. This is because of the asymmetric attribution embedded in the bias.\n",
    "\n",
    "We have the following predictions about the perceived income risks from the analysis. \n",
    "\n",
    "- Higher subjective correlation $\\tilde \\delta_{i,t}$ leads to higher perceived risks $\\tilde{var}_{i,t}$;\n",
    "- Higher experienced volatility, measured by $s^2 \\equiv \\tilde{\\sigma}^2_{i,t}$ leads to higher perceived income risks. This mechanism is shared by people with different degree of attribution bias. What's different between different attribution is that higher bias, i.e. higher $\\tilde \\delta_{i,t}$ induces the agent to disproprotionately extrapolate the paramter uncertainty, thus perceived risks. See the comparison between Figure \\ref{var_experience_var}. This is different from the scenario without attribution bias.  \n",
    "\n",
    "It is important to note that this difference still arises even if one assumes the underlying shocks are indeed non-independent. Although different types of income shocks have different implications as to which group correctly or mis-specifies the model, it does not alter the distinction between the lucky and unlucky group. To put it bluntly,  the underlying process determines who is over-confident or under-confident. But the lucky group is always more confident than the unlucky group. "
   ]
  },
  {
   "cell_type": "code",
   "execution_count": 10,
   "metadata": {
    "code_folding": [
     0
    ]
   },
   "outputs": [
    {
     "data": {
      "text/plain": [
       "Text(0, 0.5, '$\\\\hat \\\\delta_{i,t}$')"
      ]
     },
     "execution_count": 10,
     "metadata": {},
     "output_type": "execute_result"
    },
    {
     "data": {
      "image/png": "[encoded data removed]",
      "text/plain": [
       "<Figure size 432x288 with 1 Axes>"
      ]
     },
     "metadata": {
      "needs_background": "light"
     },
     "output_type": "display_data"
    }
   ],
   "source": [
    "## simple attribution function\n",
    "\n",
    "chgs = np.linspace(-1,1,200)\n",
    "corrs = one.extrapolate(chgs,\n",
    "                       how = 'by_sign')\n",
    "\n",
    "plt.title('Attribution bias with no extrapolation')\n",
    "plt.plot(chgs,\n",
    "         corrs,\n",
    "         'r-',\n",
    "         lw = 3,\n",
    "        label = r'$\\tilde \\delta_{i}$')\n",
    "plt.axhline(0,\n",
    "            lw = 3,\n",
    "           label =r'$\\hat \\delta_{i}$')\n",
    "plt.legend(loc = 0,\n",
    "           fontsize = 15)\n",
    "plt.xlabel(r'$\\Delta y_{i,t}$',\n",
    "          fontsize = 15)\n",
    "plt.ylabel(r'$\\hat \\delta_{i,t}$',\n",
    "          fontsize = 15)"
   ]
  },
  {
   "cell_type": "code",
   "execution_count": 11,
   "metadata": {
    "code_folding": [
     0,
     14,
     18,
     20,
     22,
     24
    ]
   },
   "outputs": [
    {
     "data": {
      "text/plain": [
       "<matplotlib.legend.Legend at 0x1a1efa0b70>"
      ]
     },
     "execution_count": 11,
     "metadata": {},
     "output_type": "execute_result"
    },
    {
     "data": {
      "image/png": "[encoded data removed]",
      "text/plain": [
       "<Figure size 432x288 with 1 Axes>"
      ]
     },
     "metadata": {
      "needs_background": "light"
     },
     "output_type": "display_data"
    }
   ],
   "source": [
    "## different attributions and perceived income risks  \n",
    "\n",
    "times = 10\n",
    "corrs = np.linspace(0.01,0.99,times)\n",
    "vars_predict_est = np.empty(times)\n",
    "\n",
    "for i,corr in enumerate(corrs):\n",
    "    one.corr = corr\n",
    "    one.Simulateiid()\n",
    "    one.shock_type_perceived = 'attribution_biased'\n",
    "    one.LearnPara(sample = one.simulated_pop,\n",
    "                 which = 20)\n",
    "    vars_predict_est[i] = one.var_predict_chg_est\n",
    "\n",
    "plt.plot(corrs,\n",
    "        vars_predict_est,\n",
    "        'r--',\n",
    "        label = \"var (with bias)\")\n",
    "plt.axhline(vars_predict_est[0],\n",
    "            label = 'var (no bias)')\n",
    "plt.title('Perceived risks and attributed correlation',\n",
    "         fontsize = 15)\n",
    "plt.xlabel(r'$\\widehat\\delta$',\n",
    "          fontsize = 15)\n",
    "plt.ylabel(r'$var$',\n",
    "          fontsize = 15)\n",
    "plt.legend(loc = 0)"
   ]
  },
  {
   "cell_type": "markdown",
   "metadata": {},
   "source": [
    "### Extrapolative attribution bias\n",
    "\n",
    "The baseline model only lets the sign of the recent income change induce attribution bias, and assumes away the possibility of the attribution bias to depend on the magnitude of the recent changes endogenously. This is reflected in the model assumption that $\\tilde \\delta_i$ could take either 1 or 0 depending on the sign of the recent income change. We could alternatively allow the attributed correlation $\\tilde \\delta_i$ to be a function of the $\\Delta(y_{i,t})$. This will open the room for income changes of different salience to induce different degrees of attribution bias. \n",
    "\n",
    "In order to capture this size-dependent pattern, I choose an attribution function that takes the following form as the following. It does not have to be this function in particular, but its properties suit the purpose here.   \n",
    "\n",
    "\\begin{eqnarray}\n",
    "\\begin{split}\n",
    "\\tilde \\delta(\\Delta y_{i,t}) = 1- \\frac{1}{(1+e^{-\\theta \\Delta y_{i,t}})}\n",
    "\\end{split}\n",
    "\\end{eqnarray}\n",
    "\n",
    "\n",
    "Basically, the attribution function is a continuous variant of the logistic function with its function value bounded between $[0,1]$. It takes a s-shape and the parameter $\\theta$ governs the steepness of the s-shape around its input value. In the model, $\\theta$ is the parameter that governs the degree of the attribution bias. It takes any non-negative value. Although the quanlitative pattern induced by the attribution bias stands for any positive $\\theta$, letting it to be a parameter leaves modelers the room to recover it from subjective risks data. The attribution function under different $\\theta$ is shown in Figure \\ref{attribution_func_size}. The higher $\\theta$ is, the more sensitive the assigned correlation is to the size of the shock, thus inducing a higher dispersion of the perceived correaltion between the lucky group and unlucky group. "
   ]
  },
  {
   "cell_type": "code",
   "execution_count": 15,
   "metadata": {
    "code_folding": [
     0
    ]
   },
   "outputs": [
    {
     "data": {
      "text/plain": [
       "Text(0.5, 1.0, 'Attribution function with different degrees of bias')"
      ]
     },
     "execution_count": 15,
     "metadata": {},
     "output_type": "execute_result"
    },
    {
     "data": {
      "image/png": "[encoded data removed]",
      "text/plain": [
       "<Figure size 432x288 with 1 Axes>"
      ]
     },
     "metadata": {
      "needs_background": "light"
     },
     "output_type": "display_data"
    }
   ],
   "source": [
    "## extrapolative attribution function\n",
    "\n",
    "chgs = np.linspace(-2,2,20)\n",
    "\n",
    "thetas = np.array([0,1,2,10,20])\n",
    "\n",
    "for theta in thetas:\n",
    "    one.theta = theta\n",
    "    corrs = one.extrapolate(chgs)\n",
    "    plt.plot(chgs,\n",
    "             corrs,\n",
    "             lw = 2,\n",
    "             label = r'$\\theta =$'+str(theta))\n",
    "    #plt.axhline(0,\n",
    "    #           label =r'$\\hat \\delta_{i}$')\n",
    "    plt.legend(loc = 0,\n",
    "              fontsize = 10)\n",
    "plt.xlabel(r'$\\Delta y_{i,t}$',\n",
    "           fontsize = 15)\n",
    "plt.ylabel(r'$\\tilde \\delta_{i,t}$',\n",
    "           fontsize = 15)\n",
    "plt.title('Attribution function with different degrees of bias',\n",
    "         fontsize = 15)"
   ]
  },
  {
   "cell_type": "code",
   "execution_count": 16,
   "metadata": {
    "code_folding": [
     0
    ]
   },
   "outputs": [
    {
     "data": {
      "text/plain": [
       "\"\\n## Estimate the model with the correctly specified model of i.i.d shock\\none.shock_type_perceived = 'iid'\\ncoeffs_est_iid,coef_vars_est_iid,sigma2s_est_iid,var_predict_chg_est_iid = one.LearnParafromExperience()\\nvar_predict_chg_est_iid_mean = np.nanmean(var_predict_chg_est_iid)\\n\\nest_iid = {'coef_est':np.nanmean(coeffs_est_iid),\\n          'coef_var_est':np.nanmean(coef_vars_est_iid),\\n          'sigma2s_est':np.nanmean(sigma2s_est_iid),\\n          'var_predict_chg_est':np.nanmean(var_predict_chg_est_iid)}\\n\\n## for cluster \\none.shock_type_perceived = 'cluster'\\ncoeffs_est_cl,coef_vars_est_cl,sigma2s_est_cl,var_predict_chg_est_cl = one.LearnParafromExperience()\\n\\n\\nest_cl = {'coef_est':np.nanmean(coeffs_est_cl),\\n          'coef_var_est':np.nanmean(coef_vars_est_cl),\\n          'sigma2s_est':np.nanmean(sigma2s_est_cl),\\n          'var_predict_chg_est':np.nanmean(var_predict_chg_est_cl)}\\n\\n## for serial_correlate \\none.shock_type_perceived = 'serial_correlate'\\ncoeffs_est_sc,coef_vars_est_sc,sigma2s_est_sc,var_predict_chg_est_sc = one.LearnParafromExperience()\\n\\nest_sc = {'coef_est':np.nanmean(coeffs_est_sc),\\n          'coef_var_est':np.nanmean(coef_vars_est_sc),\\n          'sigma2s_est':np.nanmean(sigma2s_est_sc),\\n          'var_predict_chg_est':np.nanmean(var_predict_chg_est_sc)}\\n\\n## for attribution biased\\n\\none.shock_type_perceived = 'attribution_biased'\\ncoeffs_est_ab,coef_vars_est_ab,sigma2s_est_ab,var_predict_chg_est_ab = one.LearnParafromExperience()\\n\\nest_ab = {'coef_est':np.nanmean(coeffs_est_ab),\\n          'coef_var_est':np.nanmean(coef_vars_est_ab),\\n          'sigma2s_est':np.nanmean(sigma2s_est_ab),\\n          'var_predict_chg_est':np.nanmean(var_predict_chg_est_ab)}\\n\\n\\n## for attribution biased by size \\n\\none.shock_type_perceived = 'extrapolative_attribution_biased'\\ncoeffs_est_eab,coef_vars_est_eab,sigma2s_est_eab,var_predict_chg_est_eab = one.LearnParafromExperience()\\n\\nest_eab = {'coef_est':np.nanmean(coeffs_est_eab),\\n          'coef_var_est':np.nanmean(coef_vars_est_eab),\\n          'sigma2s_est':np.nanmean(sigma2s_est_eab),\\n          'var_predict_chg_est':np.nanmean(var_predict_chg_est_eab)}\\n\\nidx = ['iid','cluster','serial correlation','attribution biased','ex_attribution biased']\\n\\nests = pd.DataFrame.from_dict([est_iid, \\n                               est_cl,\\n                               est_sc,\\n                               est_ab,\\n                              est_eab])\\nests.index = idx\\n\""
      ]
     },
     "execution_count": 16,
     "metadata": {},
     "output_type": "execute_result"
    }
   ],
   "source": [
    "## for iid\n",
    "\"\"\"\n",
    "## Estimate the model with the correctly specified model of i.i.d shock\n",
    "one.shock_type_perceived = 'iid'\n",
    "coeffs_est_iid,coef_vars_est_iid,sigma2s_est_iid,var_predict_chg_est_iid = one.LearnParafromExperience()\n",
    "var_predict_chg_est_iid_mean = np.nanmean(var_predict_chg_est_iid)\n",
    "\n",
    "est_iid = {'coef_est':np.nanmean(coeffs_est_iid),\n",
    "          'coef_var_est':np.nanmean(coef_vars_est_iid),\n",
    "          'sigma2s_est':np.nanmean(sigma2s_est_iid),\n",
    "          'var_predict_chg_est':np.nanmean(var_predict_chg_est_iid)}\n",
    "\n",
    "## for cluster \n",
    "one.shock_type_perceived = 'cluster'\n",
    "coeffs_est_cl,coef_vars_est_cl,sigma2s_est_cl,var_predict_chg_est_cl = one.LearnParafromExperience()\n",
    "\n",
    "\n",
    "est_cl = {'coef_est':np.nanmean(coeffs_est_cl),\n",
    "          'coef_var_est':np.nanmean(coef_vars_est_cl),\n",
    "          'sigma2s_est':np.nanmean(sigma2s_est_cl),\n",
    "          'var_predict_chg_est':np.nanmean(var_predict_chg_est_cl)}\n",
    "\n",
    "## for serial_correlate \n",
    "one.shock_type_perceived = 'serial_correlate'\n",
    "coeffs_est_sc,coef_vars_est_sc,sigma2s_est_sc,var_predict_chg_est_sc = one.LearnParafromExperience()\n",
    "\n",
    "est_sc = {'coef_est':np.nanmean(coeffs_est_sc),\n",
    "          'coef_var_est':np.nanmean(coef_vars_est_sc),\n",
    "          'sigma2s_est':np.nanmean(sigma2s_est_sc),\n",
    "          'var_predict_chg_est':np.nanmean(var_predict_chg_est_sc)}\n",
    "\n",
    "## for attribution biased\n",
    "\n",
    "one.shock_type_perceived = 'attribution_biased'\n",
    "coeffs_est_ab,coef_vars_est_ab,sigma2s_est_ab,var_predict_chg_est_ab = one.LearnParafromExperience()\n",
    "\n",
    "est_ab = {'coef_est':np.nanmean(coeffs_est_ab),\n",
    "          'coef_var_est':np.nanmean(coef_vars_est_ab),\n",
    "          'sigma2s_est':np.nanmean(sigma2s_est_ab),\n",
    "          'var_predict_chg_est':np.nanmean(var_predict_chg_est_ab)}\n",
    "\n",
    "\n",
    "## for attribution biased by size \n",
    "\n",
    "one.shock_type_perceived = 'extrapolative_attribution_biased'\n",
    "coeffs_est_eab,coef_vars_est_eab,sigma2s_est_eab,var_predict_chg_est_eab = one.LearnParafromExperience()\n",
    "\n",
    "est_eab = {'coef_est':np.nanmean(coeffs_est_eab),\n",
    "          'coef_var_est':np.nanmean(coef_vars_est_eab),\n",
    "          'sigma2s_est':np.nanmean(sigma2s_est_eab),\n",
    "          'var_predict_chg_est':np.nanmean(var_predict_chg_est_eab)}\n",
    "\n",
    "idx = ['iid','cluster','serial correlation','attribution biased','ex_attribution biased']\n",
    "\n",
    "ests = pd.DataFrame.from_dict([est_iid, \n",
    "                               est_cl,\n",
    "                               est_sc,\n",
    "                               est_ab,\n",
    "                              est_eab])\n",
    "ests.index = idx\n",
    "\"\"\""
   ]
  },
  {
   "cell_type": "code",
   "execution_count": 17,
   "metadata": {},
   "outputs": [],
   "source": [
    "#ests"
   ]
  },
  {
   "cell_type": "markdown",
   "metadata": {},
   "source": [
    "### Experienced volatility and perceived risk"
   ]
  },
  {
   "cell_type": "code",
   "execution_count": null,
   "metadata": {
    "code_folding": [
     0
    ]
   },
   "outputs": [],
   "source": [
    "## simulate a historical sample populated by agents at different ages \n",
    "\n",
    "## attribution bias \n",
    "one.shock_type_perceived = 'iid' #extrapolative_attribution_biased\n",
    "coeffs_est_iid,coef_vars_est_iid,sigma2s_est_iid,var_predict_chg_est_iid = one.LearnParafromExperience()\n",
    "\n",
    "ages = one.ages_pop_sim.flatten()\n",
    "sigma2s = sigma2s_est_iid.flatten()\n",
    "coef_vars_iid = coef_vars_est_iid.flatten()\n",
    "vars_predict_chg_iid = var_predict_chg_est_iid.flatten()\n",
    "av_past = one.av_past.flatten()\n",
    "recent = one.recent.flatten()\n",
    "\n",
    "## attribution bias \n",
    "\n",
    "one.shock_type_perceived = 'extrapolative_attribution_biased' #extrapolative_attribution_biased\n",
    "coeffs_est_ab,coef_vars_est_ab,sigma2s_est_ab,var_predict_chg_est_ab = one.LearnParafromExperience()\n",
    "vars_predict_chg_ab = var_predict_chg_est_ab.flatten()\n",
    "coef_vars_est_ab = coef_vars_est_ab.flatten()\n",
    "\n",
    "## average experienced volatility and the perceived income risk\n",
    "\n",
    "plt.plot(sigma2s,\n",
    "         vars_predict_chg_ab,'v',\n",
    "         label = r'$\\tilde{var}$')\n",
    "\n",
    "plt.plot(sigma2s,\n",
    "         vars_predict_chg_iid,'r*',\n",
    "         label = r'$\\widehat{var}$')\n",
    "\n",
    "plt.plot(sigma2s,\n",
    "         sigma2s,'--',\n",
    "         label = r'$\\hat \\sigma^2$')\n",
    "\n",
    "#plt.axhline(one.var_predict_chg,\n",
    "#            color ='red',\n",
    "#            label =r'$\\sigma^2$')\n",
    "\n",
    "plt.title('Experienced volatility and future perceived risk')\n",
    "plt.xlabel('average experienced volatility',\n",
    "           fontsize = 15)\n",
    "plt.ylabel('var',fontsize = 15)\n",
    "plt.legend(loc = 0)"
   ]
  },
  {
   "cell_type": "markdown",
   "metadata": {},
   "source": [
    "The figure illustrates the correlation between individual's experienced volatility and future perceived income risks. Blue stars represent the scenario without attribution bias, while the orange dots represent perceived risks under attribution bias. \n",
    "\n",
    "We can see individuals that have had bad income realizations extrapolate the average size of past shocks into future income risks, even though the past income shocks are the best estimate of future income risks according to the underlying model. "
   ]
  },
  {
   "cell_type": "markdown",
   "metadata": {},
   "source": [
    "### Income realization and perceived risks \n",
    "\n",
    "Another pattern emerging as a consequence of the attribution bias is current-income-dependence, namely perceived risks differ among people with different current income levels. This is not the case without attribution bias because, under the baseline assumption, the size of the estimated income shock $\\widehat \\sigma^2$ does not depend on the level of the current income. \n",
    "\n",
    "\\begin{eqnarray}\n",
    "\\widehat{Var}_{i,t}(y_{i,t+1}|y_{i,t}) = \\widehat \\sigma_{t}^2 \n",
    "\\end{eqnarray}\n",
    "While with attribution bias, we have the following\n",
    "\n",
    "\\begin{eqnarray}\n",
    "\\begin{split}\n",
    "\\tilde {Var_{i,t}}(y_{i,t+1}|y_{i,t-1}) & =  \\tilde Var_{i,t}(y_{i,t+1}|\\tilde\\rho y_{i,t-1}+\\widehat e_{i,t}) \\\\\n",
    "& = y_{i,t}^2 \\tilde{Var}^\\rho_{i,t} + \\tilde{\\sigma}^2 \n",
    "\\end{split}\n",
    "\\end{eqnarray}\n",
    "\n",
    "Now, the previous period income $y_{i,t}$ enters perceived income risk via two channels. The first one is the direct effect through its past-dependence for future income. The second channel is through the $\\tilde{Var}^{\\rho}_{i,t}$. Attribution bias render \\tilde{Var}^\\rho_{i,t} to decrease with realized income shock $\\widehat e_{i,t}$, which is part of the $y_{i,t}$. \n",
    "\n",
    "Figure \\ref{var_experience_income} plots the simulated correlation between the current-period income and perceived income risks for the scenario with and without attribution bias, respectively. One can immediately observe that with attribution bias let the perceived risks change with income shocks. What's interesting is that the correlation of the two is not monotone, exactly because the two effects above both play a role. "
   ]
  },
  {
   "cell_type": "code",
   "execution_count": 13,
   "metadata": {
    "code_folding": [
     3
    ]
   },
   "outputs": [
    {
     "ename": "NameError",
     "evalue": "name 'av_past' is not defined",
     "output_type": "error",
     "traceback": [
      "\u001b[0;31m---------------------------------------------------------------------------\u001b[0m",
      "\u001b[0;31mNameError\u001b[0m                                 Traceback (most recent call last)",
      "\u001b[0;32m<ipython-input-13-f1a2d8e6e0eb>\u001b[0m in \u001b[0;36m<module>\u001b[0;34m\u001b[0m\n\u001b[0;32m----> 1\u001b[0;31m plt.plot(av_past,\n\u001b[0m\u001b[1;32m      2\u001b[0m          \u001b[0mvars_predict_chg_ab\u001b[0m\u001b[0;34m,\u001b[0m\u001b[0;34m'r.'\u001b[0m\u001b[0;34m,\u001b[0m\u001b[0;34m\u001b[0m\u001b[0;34m\u001b[0m\u001b[0m\n\u001b[1;32m      3\u001b[0m          label = r'$\\tilde{var}$')\n\u001b[1;32m      4\u001b[0m plt.plot(av_past,\n\u001b[1;32m      5\u001b[0m          \u001b[0mvars_predict_chg_iid\u001b[0m\u001b[0;34m,\u001b[0m\u001b[0;34m'yo'\u001b[0m\u001b[0;34m,\u001b[0m\u001b[0;34m\u001b[0m\u001b[0;34m\u001b[0m\u001b[0m\n",
      "\u001b[0;31mNameError\u001b[0m: name 'av_past' is not defined"
     ]
    }
   ],
   "source": [
    "plt.plot(av_past,\n",
    "         vars_predict_chg_ab,'r.',\n",
    "         label = r'$\\tilde{var}$')\n",
    "plt.plot(av_past,\n",
    "         vars_predict_chg_iid,'yo',\n",
    "         label = r'$\\widehat{var}$')\n",
    "plt.title('Experienced income and perceived risk',\n",
    "         fontsize = 15)\n",
    "plt.xlabel('Average past income',\n",
    "           fontsize = 15)\n",
    "plt.ylabel('var',fontsize = 15)\n",
    "plt.legend(loc = 0)"
   ]
  },
  {
   "cell_type": "code",
   "execution_count": 14,
   "metadata": {
    "code_folding": [
     0
    ]
   },
   "outputs": [
    {
     "ename": "NameError",
     "evalue": "name 'recent' is not defined",
     "output_type": "error",
     "traceback": [
      "\u001b[0;31m---------------------------------------------------------------------------\u001b[0m",
      "\u001b[0;31mNameError\u001b[0m                                 Traceback (most recent call last)",
      "\u001b[0;32m<ipython-input-14-a0011c192266>\u001b[0m in \u001b[0;36m<module>\u001b[0;34m\u001b[0m\n\u001b[0;32m----> 1\u001b[0;31m plt.plot(recent,\n\u001b[0m\u001b[1;32m      2\u001b[0m          \u001b[0mvars_predict_chg_ab\u001b[0m\u001b[0;34m,\u001b[0m\u001b[0;34m'r.'\u001b[0m\u001b[0;34m,\u001b[0m\u001b[0;34m\u001b[0m\u001b[0;34m\u001b[0m\u001b[0m\n\u001b[1;32m      3\u001b[0m          label = r'$\\tilde{var}$')\n\u001b[1;32m      4\u001b[0m plt.plot(recent,\n\u001b[1;32m      5\u001b[0m          \u001b[0mvars_predict_chg_iid\u001b[0m\u001b[0;34m,\u001b[0m\u001b[0;34m'yo'\u001b[0m\u001b[0;34m,\u001b[0m\u001b[0;34m\u001b[0m\u001b[0;34m\u001b[0m\u001b[0m\n",
      "\u001b[0;31mNameError\u001b[0m: name 'recent' is not defined"
     ]
    }
   ],
   "source": [
    "plt.plot(recent,\n",
    "         vars_predict_chg_ab,'r.',\n",
    "         label = r'$\\tilde{var}$')\n",
    "plt.plot(recent,\n",
    "         vars_predict_chg_iid,'yo',\n",
    "         label = r'$\\widehat{var}$')\n",
    "plt.title('Recent income and perceived risk',\n",
    "         fontsize = 15)\n",
    "plt.xlabel('Recent income',\n",
    "           fontsize = 15)\n",
    "plt.ylabel('var',fontsize = 15)\n",
    "plt.legend(loc = 0)"
   ]
  },
  {
   "cell_type": "markdown",
   "metadata": {},
   "source": [
    "### Age and perceived risks"
   ]
  },
  {
   "cell_type": "code",
   "execution_count": null,
   "metadata": {},
   "outputs": [],
   "source": [
    "#plt.plot(one.ages_pop_sim[:,35],\n",
    "#         var_predict_chg_est1[:,35],'*')\n",
    "#plt.title('Perceived risks by age at a given time')\n",
    "#plt.xlabel('age',fontsize = 15)\n",
    "#plt.ylabel('var',fontsize = 15)"
   ]
  },
  {
   "cell_type": "code",
   "execution_count": null,
   "metadata": {
    "code_folding": [
     0
    ]
   },
   "outputs": [],
   "source": [
    "plt.plot(ages,vars_predict_chg_ab,\n",
    "         'r.',\n",
    "        label =r'$\\tilde{var}$')\n",
    "plt.plot(ages,vars_predict_chg_iid,\n",
    "         'y*',\n",
    "        label =r'$\\hat{var}$')\n",
    "plt.title('Age and perceived risk',\n",
    "         fontsize = 15)\n",
    "plt.xlabel('age',fontsize = 15)\n",
    "plt.ylabel('var',fontsize = 15)\n",
    "plt.legend(loc = 0)"
   ]
  },
  {
   "cell_type": "code",
   "execution_count": null,
   "metadata": {
    "code_folding": [
     0
    ]
   },
   "outputs": [],
   "source": [
    "plt.plot(ages,\n",
    "         coef_vars_est_ab,\n",
    "         'r.',\n",
    "        label = r'$\\tilde{var}^{\\rho}$')\n",
    "plt.plot(ages,\n",
    "         coef_vars_iid,\n",
    "         'y*',\n",
    "         label = r'$\\widehat{var}^{\\rho}$')\n",
    "plt.title('Age and parameter uncertainty',\n",
    "         fontsize = 15)\n",
    "plt.xlabel('age',fontsize = 15)\n",
    "plt.ylabel(r'$var_\\rho$',fontsize = 15)\n",
    "plt.legend(loc = 0)"
   ]
  },
  {
   "cell_type": "code",
   "execution_count": null,
   "metadata": {},
   "outputs": [],
   "source": [
    "#plt.plot(ages,sigma2s,'*')\n",
    "#plt.xlabel('age',fontsize = 15)\n",
    "#plt.ylabel(r'$\\hat \\sigma^2$',fontsize = 15)"
   ]
  },
  {
   "cell_type": "markdown",
   "metadata": {},
   "source": [
    "## Aggregate risk\n",
    "\n",
    "Previously, I assume the underlying shock is i.i.d. This section considers the implication of the attribution bias in the presence of both aggregate and idiosyncratic risks. This can be modeled by assuming that the shocks to individuals' income are positively correlated with each other at each point of the time. Denoting $\\delta>0$ as the true cross-sectional correlation of income shocks, the conditional variance-covariance of income shocks within each period is the following. \n",
    "\n",
    "\n",
    "\\begin{eqnarray}\n",
    "\\begin{split}\n",
    "E(\\epsilon_{t}'\\epsilon_{t}|Y_{t-1}) = \\Sigma^2 = \\sigma^2\\Omega \\quad \\forall t  \n",
    "\\end{split}\n",
    "\\end{eqnarray}\n",
    "\n",
    "where $\\Omega$ takes one in its diagonal and $\\delta$ in off-diagonal.  \n",
    "\n",
    "The learning process and the attribution bias all stay the same as before. Individuals specify their subjective structure of the shocks depending on the sign and size of their own experienced income changes. By the same mechanism elaborated above, a lucky person has lower perceived risks than her unlucky peer at any point of the time. This distinction between the two group stays the same even if the underlying income shocks are indeed correlated. \n",
    "\n",
    "What's new in the presence of aggregate risks lies in the behaviors of average perceived risks, because there is an aggregate shock that drives the comovement of the income shocks affecting individuals. Compared to the environment with pure idiosyncratic risks, there is no longer an approximately equal fraction of lucky and unlucky agents at a given time. Instead, the relative fraction of each group depends on the recently realized aggregate shock. If the aggregate shock is positive, more people have experienced good luck and may, therefore, underestimate the correlation (a smaller $\\tilde \\delta$). This drives down the average perceived income risks among the population. If the aggregate shock is negative, more people have just experienced income decrease thus arriving at a higher perceived income uncertainty. \n",
    "\n",
    "This naturally leads to a counter-cyclical pattern of the average perceived risks in the economy. The interplay of aggregate risks and attribution bias adds cyclical movements of the average perceived risks. The two conditions are both necessary to generate this pattern. Without the aggregate risk, both income shocks and perceived income shocks are purely idiosyncratic and they are averaged out in the aggregate level. Without attribution bias, agents symmetrically process experiences when forming future risk perceptions.\n",
    "\n",
    "Figure \\ref{average_chg_var_agg} illustrates the first point. The scatter plots showcase the correlation between average income changes across population and average perceive risks under purely idiosyncratic risks and aggregate risks. The negative correlation with aggregate risks illustrate the counter-cylical perceived risks. There is no such a correlation under purely idiosyncratic risks. Figure \\ref{average_chg_var_ab} testifies the second point. It plots the same correlation with and without attribution bias when the aggregate risk exists. Attribution bias brings about the asymmetry not seen when the bias is absent. "
   ]
  },
  {
   "cell_type": "code",
   "execution_count": null,
   "metadata": {
    "code_folding": [
     0
    ]
   },
   "outputs": [],
   "source": [
    "## plot average past income changes and perceived risks with aggregate risks\n",
    "\n",
    "one.shock_type = 'correlated'  ## reset the true model to be with aggregate the risks\n",
    "one.agg_corr = 0.99\n",
    "one.SimulatePop()\n",
    "\n",
    "\n",
    "one.shock_type_perceived = 'iid' #extrapolative_attribution_biased\n",
    "coeffs_est_iid_ag,coef_vars_est_iid_ag,sigma2s_est_iid_ag,var_predict_chg_est_iid_ag = one.LearnParafromExperience()\n",
    "\n",
    "##  cross-sectional average\n",
    "vars_predict_chg_iid_av = np.nanmean(var_predict_chg_est_iid_ag,axis = 0)\n",
    "changes_iid_ag_av =  np.nanmean(one.changes,axis = 0)  ## same for the below \n",
    "\n",
    "one.theta = 100\n",
    "one.shock_type_perceived = 'extrapolative_attribution_biased' #extrapolative_attribution_biased\n",
    "coeffs_est_eab_ag,coef_vars_est_eab_ag,sigma2s_est_eab_ag,var_predict_chg_est_eab_ag = one.LearnParafromExperience()\n",
    "\n",
    "##  cross-sectional average\n",
    "vars_predict_chg_eab_av = np.nanmean(var_predict_chg_est_eab_ag,axis = 0)\n",
    "changes_eab_ag_av = np.nanmean(one.changes,axis = 0)"
   ]
  },
  {
   "cell_type": "code",
   "execution_count": null,
   "metadata": {
    "code_folding": [
     0
    ]
   },
   "outputs": [],
   "source": [
    "## plot\n",
    "fig, ax = plt.subplots(1,2,figsize = (15,5))\n",
    "ax2 = ax[0].twinx()\n",
    "ax[0].plot(changes_iid_ag_av,\n",
    "       'r--',\n",
    "        label = r'$\\tilde{e_{t}}$')\n",
    "ax2.plot(vars_predict_chg_iid_av,\n",
    "         'b-',\n",
    "         label = r'$\\widehat{var}_{ag}$')\n",
    "ax[0].set_xlabel('t',\n",
    "           fontsize = 15)\n",
    "ax[0].set_ylabel('average income change')\n",
    "ax2.set_ylabel('average var',fontsize = 15)\n",
    "ax[0].legend(loc = 1)\n",
    "ax2.legend(loc = 2)\n",
    "ax[0].set_title('No attribution bias')\n",
    "\n",
    "ax3 = ax[1].twinx()\n",
    "ax[1].plot(changes_eab_ag_av,\n",
    "       'r--',\n",
    "        label = r'$\\tilde{e_{t}}$')\n",
    "ax3.plot(vars_predict_chg_eab_av,\n",
    "         'k-',\n",
    "         label = r'$\\tilde{var}_{ag}$')\n",
    "ax[1].set_ylabel('average income change')\n",
    "ax3.set_ylabel('average var',fontsize = 15)\n",
    "ax[1].legend(loc = 1)\n",
    "ax3.legend(loc = 2)\n",
    "ax[1].set_title('With attribution bias')"
   ]
  },
  {
   "cell_type": "code",
   "execution_count": null,
   "metadata": {
    "code_folding": [
     0
    ]
   },
   "outputs": [],
   "source": [
    "## aggregate risks versus indiosyncratic risks we\n",
    "\n",
    "### only idiosyncratic risks\n",
    "one.theta = 100\n",
    "one.shock_type_perceived = 'extrapolative_attribution_biased' #extrapolative_attribution_biased common for both \n",
    "\n",
    "## shocks take either iid or aggregate  \n",
    "one.shock_type = 'iid'  ## reset the true model to be with aggregate the risks\n",
    "one.SimulatePop()\n",
    "\n",
    "coeffs_est_eab_id,coef_vars_est_eab_id,sigma2s_est_eab_id,var_predict_chg_est_eab_id = one.LearnParafromExperience()\n",
    "\n",
    "##  cross-sectional average\n",
    "vars_predict_chg_eab_id_av = np.nanmean(var_predict_chg_est_eab_id,axis = 0)\n",
    "changes_eab_id_av =  np.nanmean(one.changes,axis = 0)\n",
    "\n",
    "### aggregate risk\n",
    "one.shock_type = 'correlated'  ## reset the true model to be with aggregate the risks\n",
    "one.agg_corr = 0.8\n",
    "one.SimulatePop()\n",
    "\n",
    "coeffs_est_eab_ag,coef_vars_est_eab_ag,sigma2s_est_eab_ag,var_predict_chg_est_eab_ag = one.LearnParafromExperience()\n",
    "\n",
    "##  cross-sectional average\n",
    "vars_predict_chg_eab_av = np.nanmean(var_predict_chg_est_eab_ag,axis = 0)\n",
    "changes_eab_ag_av =  np.nanmean(one.changes,axis = 0)"
   ]
  },
  {
   "cell_type": "code",
   "execution_count": null,
   "metadata": {
    "code_folding": [
     0
    ]
   },
   "outputs": [],
   "source": [
    "## plot idiosyncratic risks and aggregate risks \n",
    "fig, ax = plt.subplots(1,2,figsize = (15,5))\n",
    "ax2 = ax[0].twinx()\n",
    "ax[0].plot(changes_eab_id_av,\n",
    "       'r--',\n",
    "        label = r'$\\tilde{e_{t}}$')\n",
    "ax2.plot(vars_predict_chg_eab_id_av,\n",
    "         'b-',\n",
    "         label = r'$\\widehat{var}_{ag}$')\n",
    "ax[0].set_xlabel('t',\n",
    "           fontsize = 15)\n",
    "ax[0].set_ylabel('average income change')\n",
    "ax2.set_ylabel('average var',fontsize = 15)\n",
    "ax[0].legend(loc = 1)\n",
    "ax2.legend(loc = 2)\n",
    "ax[0].set_title('Idiosyncratic risks with attribution bias')\n",
    "\n",
    "ax3 = ax[1].twinx()\n",
    "ax[1].plot(changes_eab_ag_av,\n",
    "       'r--',\n",
    "        label = r'$\\tilde{e_{t}}$')\n",
    "ax3.plot(vars_predict_chg_eab_av,\n",
    "         'k-',\n",
    "         label = r'$\\widehat{var}_{ag}$')\n",
    "ax[1].set_ylabel('average income change')\n",
    "ax3.set_ylabel('average var',fontsize = 15)\n",
    "ax[1].legend(loc = 1)\n",
    "ax3.legend(loc = 2)\n",
    "ax[1].set_title('Aggregate risks with attribution bias')"
   ]
  }
 ],
 "metadata": {
  "kernelspec": {
   "display_name": "Python 3",
   "language": "python",
   "name": "python3"
  },
  "language_info": {
   "codemirror_mode": {
    "name": "ipython",
    "version": 3
   },
   "file_extension": ".py",
   "mimetype": "text/x-python",
   "name": "python",
   "nbconvert_exporter": "python",
   "pygments_lexer": "ipython3",
   "version": "3.7.3"
  }
 },
 "nbformat": 4,
 "nbformat_minor": 4
}
