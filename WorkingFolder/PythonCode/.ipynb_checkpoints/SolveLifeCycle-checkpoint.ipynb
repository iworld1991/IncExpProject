{
 "cells": [
  {
   "cell_type": "markdown",
   "metadata": {},
   "source": [
    "## Solve a life-cycle consumption/saving problem \n",
    "\n",
    "- This notebook reproduces the life cycle consumption model by Gourinchas and Parker 2002 \n",
    "\n",
    "  - CRRA utility \n",
    "  - No bequest motive\n",
    "  - During work: labor income risk: permanent + transitory/unemployment \n",
    "  - During retirement: no risk\n",
    "\n"
   ]
  },
  {
   "cell_type": "code",
   "execution_count": 62,
   "metadata": {},
   "outputs": [],
   "source": [
    "import numpy as np\n",
    "import pandas as pd\n",
    "from quantecon.optimize import brent_max, brentq\n",
    "from interpolation import interp, mlinterp\n",
    "from scipy import interpolate\n",
    "import numba as nb\n",
    "from numba import njit, float64, int64, boolean,jitclass\n",
    "import matplotlib as mp\n",
    "import matplotlib.pyplot as plt\n",
    "%matplotlib inline\n",
    "from quantecon import MarkovChain\n",
    "import quantecon as qe \n",
    "from mpl_toolkits.mplot3d import Axes3D"
   ]
  },
  {
   "cell_type": "code",
   "execution_count": 10,
   "metadata": {
    "code_folding": [
     0
    ]
   },
   "outputs": [],
   "source": [
    "## figures configurations\n",
    "\n",
    "mp.rc('xtick', labelsize=14) \n",
    "mp.rc('ytick', labelsize=14) \n",
    "\n",
    "fontsize = 14\n",
    "legendsize = 12"
   ]
  },
  {
   "cell_type": "markdown",
   "metadata": {},
   "source": [
    "## The Model Class and Solver"
   ]
  },
  {
   "cell_type": "code",
   "execution_count": 11,
   "metadata": {
    "code_folding": []
   },
   "outputs": [],
   "source": [
    "lc_data = [\n",
    "    ('ρ', float64),              # utility parameter CRRA\n",
    "    ('β', float64),              # discount factor\n",
    "    ('R',float64),               # Nominal interest rate factor \n",
    "    ('P', float64[:, :]),        # transition probs for z_t, a persistent (macro) state  x\n",
    "    ('z_val', float64[:]),       # values of z, grid values for the continous (macro) persistent state    x\n",
    "    #('a_s', float64),           # preference volatility        x \n",
    "    #('sigma_s', float64),       # loading of macro state to preference    x\n",
    "    ('sigma_n', float64),        # permanent shock volatility              x\n",
    "    ('ϕ',float64),               # MA(1) coefficient, or essentially the autocorrelation coef of non-persmanent income\n",
    "    ('sigma_ϵ', float64),        # transitory shock volatility\n",
    "    ('U',float64),               # the probability of being unemployed    * \n",
    "    ('b_y', float64),            # loading of macro state to income        x \n",
    "    ('s_grid', float64[:]),      # Grid over savings\n",
    "    ('n_shk_draws', float64[:]), ## Draws of permanent income shock \n",
    "    ('ϵ_shk_draws', float64[:]), # Draws of MA/transitory income shocks \n",
    "    ('ue_shk_draws',boolean[:]), # Draws of unemployment shock \n",
    "    #('ζ_draws', float64[:])     # Draws of preference shock ζ for MC\n",
    "    ('T',int64),                 # years of work                          *   \n",
    "    ('L',int64),                 # years of life                          * \n",
    "    ('G',float64)               # growth rate of permanent income    * \n",
    "]"
   ]
  },
  {
   "cell_type": "code",
   "execution_count": 12,
   "metadata": {
    "code_folding": [
     1,
     7,
     56,
     63
    ]
   },
   "outputs": [],
   "source": [
    "@jitclass(lc_data)\n",
    "class LifeCycle:\n",
    "    \"\"\"\n",
    "    A class that stores primitives for the life cycle consumption\n",
    "    problem.\n",
    "    \"\"\"\n",
    "\n",
    "    def __init__(self,\n",
    "                 ρ = 2,\n",
    "                 β = 0.96,\n",
    "                 P = np.array([(0.9, 0.1),\n",
    "                             (0.1, 0.9)]),\n",
    "                 z_val = np.array([1.0,2.0]), \n",
    "                 sigma_n = 0.15,     ## size of permanent income shocks\n",
    "                 #a_s = 0.02,     ## size of the taste shock  \n",
    "                 #b_s = 0.0,       ## coefficient of pandemic state on taste \n",
    "                 ϕ = 0.1,           ## MA(1) coefficient of non-permanent inocme shocks\n",
    "                 sigma_ϵ = 0.2,     ## size of transitory income risks\n",
    "                 U = 0.0,           ## unemployment risk probability (0-1)\n",
    "                 b_y = 0.0,         ## loading of macro state on income  \n",
    "                 R = 1.03,           ## interest factor \n",
    "                 T = 40,             ## work age, from 25 to 65\n",
    "                 L = 60,             ## life length 85\n",
    "                 G = 1.0,            ## growth rate of permanent income \n",
    "                 shock_draw_size = 50,\n",
    "                 grid_max = 2.5,\n",
    "                 grid_size = 100,\n",
    "                 seed = 1234):\n",
    "\n",
    "        np.random.seed(seed)  # arbitrary seed\n",
    "\n",
    "        self.ρ, self.β = ρ, β\n",
    "        self.R = R \n",
    "        self.P, self.z_val = P, z_val\n",
    "        self.G = G\n",
    "        self.T,self.L = T,L\n",
    "        \n",
    "        self.sigma_u= sigma_u, \n",
    "        self.sigma_n = sigma_n\n",
    "        self.ϕ = ϕ\n",
    "        self.sigma_ϵ = sigma_ϵ\n",
    "        self.b_y = b_y\n",
    "        \n",
    "        self.n_shk_draws = sigma_n*np.random.randn(shock_draw_size)-sigma_n**2/2\n",
    "        self.ϵ_shk_draws = sigma_ϵ*np.random.randn(shock_draw_size)-sigma_ϵ**2/2\n",
    "        self.ue_shk_draws = np.random.uniform(0,1,shock_draw_size)<U\n",
    "\n",
    "        self.s_grid = np.exp(np.linspace(np.log(1e-6), np.log(grid_max), grid_size))\n",
    "        lb_sigma_ϵ = -sigma_ϵ**2/2-2*\\sigma_ϵ\n",
    "        ub_sigma_ϵ = -sigma_ϵ**2/2+2*\\sigma_ϵ\n",
    "        grid_size_short = 20\n",
    "        self.ϵ_grid = (lb_sigma_ϵ,ub_sigma_ϵ,grid_size_short)\n",
    "        \n",
    "        # This creates an unevenly spaced grids where grids are more dense in low values\n",
    "        \n",
    "        # Test stability assuming {R_t} is IID and adopts the lognormal\n",
    "        # specification given below.  The test is then β E R_t < 1.\n",
    "        #ER = np.exp(b_r + a_r**2 / 2)\n",
    "        assert β * R < 1, \"Stability condition failed.\"\n",
    "\n",
    "    # Marginal utility\n",
    "    def u_prime(self, c):\n",
    "        return c**(-self.ρ)\n",
    "\n",
    "    # Inverse of marginal utility\n",
    "    def u_prime_inv(self, c):\n",
    "        return c**(-1/self.ρ)\n",
    "\n",
    "    #def ϕ(self, z, ζ):\n",
    "    #    ## preference \n",
    "    #    return np.exp(self.sigma_s * ζ + (z*self.b_s))\n",
    "\n",
    "    def Y(self, z, u_shk):\n",
    "        ## u_shk is the MA of past shocks \n",
    "        ## income \n",
    "        return np.exp(u_shk + (z * self.b_y))\n",
    "    \n",
    "    def Γ(self,n_shk):\n",
    "        return np.exp(n_shk)"
   ]
  },
  {
   "cell_type": "code",
   "execution_count": 13,
   "metadata": {
    "code_folding": [
     1,
     4
    ]
   },
   "outputs": [],
   "source": [
    "@njit\n",
    "def K(a_in, σ_in, lc):\n",
    "    \"\"\"\n",
    "    The Coleman--Reffett operator for the life-cycle consumption problem,\n",
    "    using the endogenous grid method.\n",
    "\n",
    "        * lc is an instance of life cycle model\n",
    "        * a_in[i, z] is an asset grid\n",
    "        * σ_in[i, z] is consumption at a_in[i, z]\n",
    "    \"\"\"\n",
    "\n",
    "    # Simplify names\n",
    "    u_prime, u_prime_inv = lc.u_prime, lc.u_prime_inv\n",
    "    R, ρ, P, β = lc.R, lc.ρ, lc.P, lc.β\n",
    "    z_val = lc.z_val\n",
    "    s_grid,ϵ_grid = lc.s_grid,lc.ϵ_grid\n",
    "    n_shk_draws, ϵ_shk_draws, ue_shk_draws= lc.n_shk_draws, lc.ϵ_shk_draws, lc.ue_shk_draws\n",
    "    Y = lc.Y\n",
    "    ####################\n",
    "    ρ = lc.ρ\n",
    "    Γ = lc.Γ\n",
    "    G = lc.G\n",
    "    ϕ = lc.ϕ\n",
    "    ###################\n",
    "    \n",
    "    n = len(P)\n",
    "\n",
    "    # Create consumption function by linear interpolation\n",
    "    ########################################################\n",
    "    σ = lambda a,ϵ,z: mlinterp(a_in[:,:,z], σ_in[:,:,z], np.array([a,ϵ])) \n",
    "    ########## need to replace with multiinterp \n",
    "\n",
    "    # Allocate memory\n",
    "    σ_out = np.empty_like(σ_in)  ## grid_size_s X grid_size_ϵ X grid_size_z\n",
    "\n",
    "    # Obtain c_i at each s_i, z, store in σ_out[i, z], computing\n",
    "    # the expectation term by Monte Carlo\n",
    "    for i, s in enumerate(s_grid):\n",
    "        for j, ϵ in enumerate(ϵ_grid):\n",
    "            for z in range(n):\n",
    "                # Compute expectation\n",
    "                Ez = 0.0\n",
    "                for z_hat in range(n):\n",
    "                    z_val_hat = z_val[z_hat]\n",
    "                    for ϵ_shk in lc.ϵ_shk_draws:\n",
    "                        for ue_shk in lc.ue_shk_draws:\n",
    "                            for n_shk in lc.n_shk_draws:\n",
    "                                Γ_hat = Γ(n_shk) \n",
    "                                u_shk = ϕ*ϵ+ϵ_shk\n",
    "                                Y_hat = Y(z_val_hat,u_shk)*(1-ue_shk) ## conditional employed \n",
    "                                c_hat = σ(R/(G*Γ_hat) * s + Y_hat,ϵ_shk,z_hat)\n",
    "                                utility = (G*Γ_hat)**(1-ρ)*u_prime(c_hat)\n",
    "                                Ez += utility * P[z, z_hat]\n",
    "                Ez = Ez / (len(n_shk_draws)*len(ϵ_shk_draws)*len(ue_shk_draws))\n",
    "                σ_out[i, j, z] =  u_prime_inv(β * R* Ez)\n",
    "\n",
    "    # Calculate endogenous asset grid\n",
    "    a_out = np.empty_like(σ_out)\n",
    "    \n",
    "    for j,ϵ in eneumerate(ϵ_grid):\n",
    "        for z in range(n):\n",
    "            a_out[:,j,z] = s_grid + σ_out[:,j,z]\n",
    "\n",
    "    # Fixing a consumption-asset pair at (0, 0) improves interpolation\n",
    "    σ_out[0, :] = 0.0\n",
    "    a_out[0, :] = 0.0\n",
    "\n",
    "    return a_out, σ_out"
   ]
  },
  {
   "cell_type": "code",
   "execution_count": 14,
   "metadata": {
    "code_folding": [
     0,
     22
    ]
   },
   "outputs": [],
   "source": [
    "def solve_model_backward_iter(model,        # Class with model information\n",
    "                              a_vec,        # Initial condition for assets\n",
    "                              σ_vec,        # Initial condition for consumption\n",
    "                              #tol=1e-6,\n",
    "                              #max_iter=2000,\n",
    "                              #verbose=True,\n",
    "                              #print_skip=50\n",
    "                             ):\n",
    "\n",
    "    # Set up loop\n",
    "    #i = 0\n",
    "    #error = tol + 1\n",
    "\n",
    "    ## memories for life-cycle solutions \n",
    "    n_grids = len(σ_vec)\n",
    "    n_z = len(model.P)                       \n",
    "    as_new =  np.empty((model.T,n_grids,n_z),dtype = np.float64)\n",
    "    σs_new =  np.empty((model.T,n_grids,n_z),dtype = np.float64)\n",
    "    \n",
    "    as_new[0,:,:] = a_vec\n",
    "    σs_new[0,:,:] = σ_vec\n",
    "    \n",
    "    for i in range(model.T-1):\n",
    "        print(f\"at work age of \"+str(model.T-i))\n",
    "        a_vec_next, σ_vec_next = as_new[i,:,:],σs_new[i,:,:]\n",
    "        a_new, σ_new = K(a_vec_next, σ_vec_next, model)\n",
    "        as_new[i+1,:,:] = a_new\n",
    "        σs_new[i+1,:,:] = σ_new\n",
    "    \n",
    "    #while i < max_iter and error > tol:\n",
    "    #    a_new, σ_new = K(a_vec, σ_vec, model)\n",
    "    #    error = np.max(np.abs(σ_vec - σ_new))\n",
    "    #    i += 1\n",
    "    #    if verbose and i % print_skip == 0:\n",
    "    #        print(f\"Error at iteration {i} is {error}.\")\n",
    "    #    a_vec, σ_vec = np.copy(a_new), np.copy(σ_new)\n",
    "\n",
    "    #if i == max_iter:\n",
    "    #    print(\"Failed to converge!\")\n",
    "\n",
    "    #if verbose and i < max_iter:\n",
    "    #    print(f\"\\nConverged in {i} iterations.\")\n",
    "\n",
    "    return as_new, σs_new"
   ]
  },
  {
   "cell_type": "code",
   "execution_count": 15,
   "metadata": {
    "code_folding": [
     0
    ]
   },
   "outputs": [],
   "source": [
    "def policyfunc(lc,\n",
    "               a_star,\n",
    "               σ_star,\n",
    "               discrete = True):\n",
    "    \"\"\"\n",
    "     * ifp is an instance of IFP\n",
    "        * a_star is the endogenous grid solution\n",
    "        * σ_star is optimal consumption on the grid    \n",
    "    \"\"\"\n",
    "    if discrete==True:\n",
    "        # Create consumption function by linear interpolation\n",
    "        σ =  lambda a, z_idx: interp(a_star[:, z_idx], σ_star[:, z_idx], a) \n",
    "    else:\n",
    "        # get z_grid \n",
    "        z_val = lc.z_val \n",
    "\n",
    "        # Create consumption function by linear interpolation\n",
    "        a = a_star[:,0]                                ## aseet grid \n",
    "        σ =  interpolate.interp2d(a, z_val, σ_star.T) \n",
    "    \n",
    "    return σ"
   ]
  },
  {
   "cell_type": "markdown",
   "metadata": {},
   "source": [
    "## Solve the model for some consumption from the last period "
   ]
  },
  {
   "cell_type": "code",
   "execution_count": 16,
   "metadata": {
    "code_folding": [
     0,
     2
    ]
   },
   "outputs": [],
   "source": [
    "## this is the retirement consumption policy \n",
    "\n",
    "def policyPF(β,\n",
    "             ρ,\n",
    "             R,\n",
    "             T,\n",
    "             L):\n",
    "    c_growth = β**(1/ρ)*R**(1/ρ-1)\n",
    "    return (1-c_growth)/(1-c_growth**(L-T))"
   ]
  },
  {
   "cell_type": "code",
   "execution_count": 20,
   "metadata": {
    "code_folding": [
     0
    ]
   },
   "outputs": [],
   "source": [
    "## intialize \n",
    "\n",
    "lc = LifeCycle()\n",
    "\n",
    "# Initial the retirement consumption policy of σ = consume all assets\n",
    "\n",
    "#mpc_ret = policyPF(lc.β,\n",
    "#                   lc.ρ,\n",
    "#                   lc.R,\n",
    "#                   lc.T,\n",
    "#                   lc.L) \n",
    "#ratio = mpc_ret/(1-mpc_ret)\n",
    "\n",
    "k = len(lc.s_grid)\n",
    "n = len(lc.P)\n",
    "σ_init = np.empty((k, n))\n",
    "a_init = np.empty((k, n))\n",
    "\n",
    "for z in range(n):\n",
    "    σ_init[:, z] = 2*lc.s_grid\n",
    "    a_init[:,z] =  2*lc.s_grid"
   ]
  },
  {
   "cell_type": "code",
   "execution_count": 21,
   "metadata": {},
   "outputs": [
    {
     "data": {
      "text/plain": [
       "[<matplotlib.lines.Line2D at 0x7f82effe3198>]"
      ]
     },
     "execution_count": 21,
     "metadata": {},
     "output_type": "execute_result"
    },
    {
     "data": {
      "image/png": "[encoded data removed]",
      "text/plain": [
       "<Figure size 432x288 with 1 Axes>"
      ]
     },
     "metadata": {
      "needs_background": "light"
     },
     "output_type": "display_data"
    }
   ],
   "source": [
    "plt.title('The consumption in the last period')\n",
    "plt.plot(σ_init[:,1],a_init[:,1])"
   ]
  },
  {
   "cell_type": "code",
   "execution_count": 22,
   "metadata": {
    "code_folding": []
   },
   "outputs": [],
   "source": [
    "#print('The MPC out of cash in hand at the retirement is '+ str(mpc_ret))"
   ]
  },
  {
   "cell_type": "code",
   "execution_count": 23,
   "metadata": {
    "code_folding": [
     0
    ]
   },
   "outputs": [],
   "source": [
    "## Set quarterly parameters \n",
    "\n",
    "lc.ρ = 0.5\n",
    "lc.R = 1.03\n",
    "lc.β = 0.96\n",
    "\n",
    "lc.sigma_n = np.sqrt(0.02) # permanent \n",
    "lc.sigma_u = np.sqrt(0.04) # transitory "
   ]
  },
  {
   "cell_type": "code",
   "execution_count": 24,
   "metadata": {
    "code_folding": [
     0
    ]
   },
   "outputs": [],
   "source": [
    "## shut down the macro state \n",
    "\n",
    "lc.b_y = 0.00"
   ]
  },
  {
   "cell_type": "code",
   "execution_count": 25,
   "metadata": {
    "code_folding": [
     0
    ]
   },
   "outputs": [
    {
     "name": "stdout",
     "output_type": "stream",
     "text": [
      "at work age of 40\n",
      "at work age of 39\n",
      "at work age of 38\n",
      "at work age of 37\n",
      "at work age of 36\n",
      "at work age of 35\n",
      "at work age of 34\n",
      "at work age of 33\n",
      "at work age of 32\n",
      "at work age of 31\n",
      "at work age of 30\n",
      "at work age of 29\n",
      "at work age of 28\n",
      "at work age of 27\n",
      "at work age of 26\n",
      "at work age of 25\n",
      "at work age of 24\n",
      "at work age of 23\n",
      "at work age of 22\n",
      "at work age of 21\n",
      "at work age of 20\n",
      "at work age of 19\n",
      "at work age of 18\n",
      "at work age of 17\n",
      "at work age of 16\n",
      "at work age of 15\n",
      "at work age of 14\n",
      "at work age of 13\n",
      "at work age of 12\n",
      "at work age of 11\n",
      "at work age of 10\n",
      "at work age of 9\n",
      "at work age of 8\n",
      "at work age of 7\n",
      "at work age of 6\n",
      "at work age of 5\n",
      "at work age of 4\n",
      "at work age of 3\n",
      "at work age of 2\n"
     ]
    }
   ],
   "source": [
    "as_star, σs_star = solve_model_backward_iter(lc,\n",
    "                                             a_init, \n",
    "                                             σ_init)"
   ]
  },
  {
   "cell_type": "markdown",
   "metadata": {
    "code_folding": []
   },
   "source": [
    "### Plot interpolated policy functions"
   ]
  },
  {
   "cell_type": "code",
   "execution_count": 32,
   "metadata": {
    "code_folding": [
     3,
     5
    ]
   },
   "outputs": [
    {
     "data": {
      "text/plain": [
       "<matplotlib.legend.Legend at 0x7f82effb0c50>"
      ]
     },
     "execution_count": 32,
     "metadata": {},
     "output_type": "execute_result"
    },
    {
     "data": {
      "image/png": "[encoded data removed]",
      "text/plain": [
       "<Figure size 432x288 with 1 Axes>"
      ]
     },
     "metadata": {
      "needs_background": "light"
     },
     "output_type": "display_data"
    }
   ],
   "source": [
    "ages  = [31,33,35,37,39]\n",
    "\n",
    "fig = plt.plot()\n",
    "for age in ages:\n",
    "    i = lc.T-age\n",
    "    plt.plot(as_star[i,:,0],\n",
    "             σs_star[i,:,0],\n",
    "             label = str(age))\n",
    "#plt.plot(as_star[0,:,0],as_star[0,:,0],'-')\n",
    "plt.legend(loc=1)"
   ]
  },
  {
   "cell_type": "code",
   "execution_count": 43,
   "metadata": {
    "code_folding": [
     4
    ]
   },
   "outputs": [],
   "source": [
    "## interpolate consumption function on continuous z grid \n",
    "\n",
    "σs_list = []\n",
    "\n",
    "for i in range(lc.T):\n",
    "    this_σ= policyfunc(lc,\n",
    "                   as_star[i,:,:],\n",
    "                   σs_star[i,:,:],\n",
    "                   discrete = False)\n",
    "    σs_list.append(this_σ)\n",
    "    "
   ]
  },
  {
   "cell_type": "code",
   "execution_count": 49,
   "metadata": {
    "code_folding": [
     0
    ]
   },
   "outputs": [
    {
     "data": {
      "text/plain": [
       "Text(0, 0.5, 'another state')"
      ]
     },
     "execution_count": 49,
     "metadata": {},
     "output_type": "execute_result"
    },
    {
     "data": {
      "image/png": "[encoded data removed]",
      "text/plain": [
       "<Figure size 432x288 with 1 Axes>"
      ]
     },
     "metadata": {
      "needs_background": "light"
     },
     "output_type": "display_data"
    }
   ],
   "source": [
    "## plot contour for policy function \n",
    "\n",
    "a_grid = np.linspace(0.00001,5,20)\n",
    "z_grid = np.linspace(0,8,20)\n",
    "aa,zz = np.meshgrid(a_grid,z_grid)\n",
    "\n",
    "σ_this = σs_list[3]\n",
    "\n",
    "c_stars = σ_this(a_grid,z_grid)\n",
    "\n",
    "cp = plt.contourf(aa, zz,c_stars)\n",
    "plt.title(r'$c$')\n",
    "plt.xlabel('asset')\n",
    "plt.ylabel('another state')"
   ]
  },
  {
   "cell_type": "code",
   "execution_count": null,
   "metadata": {
    "code_folding": [
     0
    ]
   },
   "outputs": [],
   "source": [
    "## plot 3d consumption function \n",
    "\n",
    "\n",
    "x,y,z =σs_star\n",
    "\n",
    "fig = plt.figure()\n",
    "ax = fig.add_subplot(111, projection='3d')\n",
    "ax.scatter(x, y, -z, zdir='z', c= 'red')\n",
    "plt.savefig(\"demo.png\")"
   ]
  },
  {
   "cell_type": "code",
   "execution_count": null,
   "metadata": {
    "code_folding": [
     0
    ]
   },
   "outputs": [],
   "source": [
    "## plot 3d functions \n",
    "x = np.linspace(0, 1, nx)\n",
    "y = np.linspace(0, 1, ny)\n",
    "xv, yv = np.meshgrid(x, y)\n",
    "\n",
    "\n",
    "fig = plt.figure()\n",
    "ax = fig.add_subplot(111, projection='3d')\n",
    "dem3d=ax.plot_surface(xv,yv,dem_100,cmap='afmhot', linewidth=0)\n",
    "ax.set_title('consumption function over life cycle')\n",
    "ax.set_zlabel('wealth')\n",
    "plt.show()"
   ]
  },
  {
   "cell_type": "markdown",
   "metadata": {},
   "source": [
    "### Adding a macro Markov/persistent state "
   ]
  },
  {
   "cell_type": "code",
   "execution_count": 52,
   "metadata": {},
   "outputs": [],
   "source": [
    "## initialize another \n",
    "lc_ag = LifeCycle()"
   ]
  },
  {
   "cell_type": "code",
   "execution_count": 53,
   "metadata": {
    "code_folding": [
     0
    ]
   },
   "outputs": [],
   "source": [
    "## tauchenize an ar1\n",
    "\n",
    "ρ, σ = (0.98,0.18)\n",
    "constant = 0.13  \n",
    "\n",
    "mc = qe.markov.approximation.tauchen(ρ, σ, b=constant, m=3, n=7)\n",
    "z_ss_av = constant/(1-ρ)\n",
    "z_ss_sd = σ*np.sqrt(1/(1-ρ**2))\n",
    "\n",
    "## feed the model with a markov matrix of macro state \n",
    "lc_ag.z_val, lc_ag.P = mc.state_values, mc.P\n",
    "\n",
    "## set the macro state loading to be positive\n",
    "lc_ag.b_y = 0.1"
   ]
  },
  {
   "cell_type": "code",
   "execution_count": 54,
   "metadata": {
    "code_folding": [
     0
    ]
   },
   "outputs": [],
   "source": [
    "## initialize policies \n",
    "\n",
    "k = len(lc_ag.s_grid)\n",
    "n = len(lc_ag.P)\n",
    "σ_init = np.empty((k, n))\n",
    "a_init = np.empty((k, n))\n",
    "\n",
    "for z in range(n):\n",
    "    σ_init[:, z] = 2*lc_ag.s_grid\n",
    "    a_init[:,z] =  2*lc_ag.s_grid"
   ]
  },
  {
   "cell_type": "code",
   "execution_count": 55,
   "metadata": {
    "code_folding": [
     0
    ]
   },
   "outputs": [
    {
     "name": "stdout",
     "output_type": "stream",
     "text": [
      "at work age of 40\n",
      "at work age of 39\n",
      "at work age of 38\n",
      "at work age of 37\n",
      "at work age of 36\n",
      "at work age of 35\n",
      "at work age of 34\n",
      "at work age of 33\n",
      "at work age of 32\n",
      "at work age of 31\n",
      "at work age of 30\n",
      "at work age of 29\n",
      "at work age of 28\n",
      "at work age of 27\n",
      "at work age of 26\n",
      "at work age of 25\n",
      "at work age of 24\n",
      "at work age of 23\n",
      "at work age of 22\n",
      "at work age of 21\n",
      "at work age of 20\n",
      "at work age of 19\n",
      "at work age of 18\n",
      "at work age of 17\n",
      "at work age of 16\n",
      "at work age of 15\n",
      "at work age of 14\n",
      "at work age of 13\n",
      "at work age of 12\n",
      "at work age of 11\n",
      "at work age of 10\n",
      "at work age of 9\n",
      "at work age of 8\n",
      "at work age of 7\n",
      "at work age of 6\n",
      "at work age of 5\n",
      "at work age of 4\n",
      "at work age of 3\n",
      "at work age of 2\n"
     ]
    }
   ],
   "source": [
    "as_star_ag, σs_star_ag = solve_model_backward_iter(lc_ag,\n",
    "                                                   a_init,\n",
    "                                                   σ_init)"
   ]
  },
  {
   "cell_type": "code",
   "execution_count": 58,
   "metadata": {
    "code_folding": []
   },
   "outputs": [],
   "source": [
    "## interpolate consumption function on continuous z grid \n",
    "\n",
    "σs_ag_list = []\n",
    "\n",
    "for i in range(lc_ag.T):\n",
    "    this_σ= policyfunc(lc_ag,\n",
    "                   as_star_ag[i,:,:],\n",
    "                   σs_star_ag[i,:,:],\n",
    "                   discrete = False)\n",
    "    σs_ag_list.append(this_σ)"
   ]
  },
  {
   "cell_type": "code",
   "execution_count": 61,
   "metadata": {
    "code_folding": []
   },
   "outputs": [
    {
     "data": {
      "text/plain": [
       "Text(0, 0.5, 'macro state')"
      ]
     },
     "execution_count": 61,
     "metadata": {},
     "output_type": "execute_result"
    },
    {
     "data": {
      "image/png": "[encoded data removed]",
      "text/plain": [
       "<Figure size 432x288 with 1 Axes>"
      ]
     },
     "metadata": {
      "needs_background": "light"
     },
     "output_type": "display_data"
    }
   ],
   "source": [
    "## plot contour for policy function \n",
    "\n",
    "a_grid = np.linspace(0.00001,5,20)\n",
    "z_grid = np.linspace(0,8,20)\n",
    "aa,zz = np.meshgrid(a_grid,z_grid)\n",
    "\n",
    "σ_this = σs_ag_list[15]\n",
    "\n",
    "c_stars = σ_this(a_grid,z_grid)\n",
    "\n",
    "cp = plt.contourf(aa, zz,c_stars)\n",
    "plt.title(r'$c$')\n",
    "plt.xlabel('asset')\n",
    "plt.ylabel('macro state')"
   ]
  },
  {
   "cell_type": "markdown",
   "metadata": {},
   "source": [
    "## Simulate a cross history "
   ]
  },
  {
   "cell_type": "code",
   "execution_count": 73,
   "metadata": {
    "code_folding": [
     1,
     28,
     48,
     78,
     100
    ]
   },
   "outputs": [],
   "source": [
    "#@njit\n",
    "def simulate_time_series(lc, σ, z_idx_seq, p_income,T=400):\n",
    "    \"\"\"\n",
    "    Simulates a time series of length T for assets/consumptions, given optimal\n",
    "    consumption/demand functions.\n",
    "    * z_seq is a time path for {Z_t} recorded by index, instead of its numeric value\n",
    "\n",
    "    \"\"\"\n",
    "    \n",
    "    # Simulate the asset path\n",
    "    a = np.zeros(T)+1e-4\n",
    "    c  = np.empty_like(a)\n",
    "    #c1 = np.empty_like(a)\n",
    "    #c2 = np.empty_like(a)\n",
    "    \n",
    "    ## simulate histories\n",
    "    ζ_sim = np.random.randn(T)\n",
    "    η_sim = np.random.randn(T)\n",
    "    \n",
    "    \n",
    "    R = lc.R\n",
    "    z_val = lc.z_val ## values of the state \n",
    "    \n",
    "    \n",
    "    ## permanent income shocks\n",
    "    \n",
    "    Γs = p_income[1:]/p_income[:-1] \n",
    "    \n",
    "    for t in range(T):\n",
    "        z_idx = z_idx_seq[t]\n",
    "        z = z_val[z_idx]    \n",
    "        S = lc.ϕ(z,ζ_sim[t])\n",
    "        Y = lc.Y(z, η_sim[t])\n",
    "        c[t] = σ(a[t], z_idx)\n",
    "        #c1[t],c2[t] = allocate(c[t], S = S) \n",
    "        #if t<T-1:\n",
    "        #    a[t+1] = R/Γs[t] * (a[t] - c1[t]*p_vec[0]-c2[t]*p_vec[1]) + Y\n",
    "        if t<T-1:\n",
    "            a[t+1] = R/Γs[t] * (a[t] - c[t]) + Y\n",
    "        \n",
    "    ## multiply permanent income level \n",
    "    #c = c*p_income\n",
    "    #c1 =c1*p_income\n",
    "    #c2 = c2*p_income\n",
    "    #a = a * p_income \n",
    "    \n",
    "    return a,c\n",
    "\n",
    "def simulate_time_series_new(lc, σ, z_seq, p_income, T=400):\n",
    "    \"\"\"\n",
    "    Simulates a time series of length T for assets/consumptions, given optimal\n",
    "    consumption/demand functions.\n",
    "\n",
    "        * ifp is an instance of IFP\n",
    "        * a_star is the endogenous grid solution\n",
    "        * σ_star is optimal consumption on the grid\n",
    "        * z_seq is a time path for {Z_t} recorded by its numeric value (different from the previous function)\n",
    "\n",
    "    \"\"\"\n",
    "    \n",
    "    # Simulate the asset path\n",
    "    a = np.zeros(T)+1e-4\n",
    "    c = np.empty_like(a)\n",
    "    #c1 = np.empty_like(a)\n",
    "    #c2 = np.empty_like(a)\n",
    "    \n",
    "    ## simulate histories\n",
    "    ζ_sim = np.random.randn(T)\n",
    "    η_sim = np.random.randn(T)\n",
    "    \n",
    "    \n",
    "    R = lc.R\n",
    "    #z_val = ifp.z_val ## values of the state \n",
    "    \n",
    "    ## permanent income shocks\n",
    "    \n",
    "    Γs = p_income[1:]/p_income[:-1] \n",
    "    \n",
    "    for t in range(T):\n",
    "        z = z_seq[t] ## z values\n",
    "        S = lc.ϕ(z,ζ_sim[t])\n",
    "        Y = lc.Y(z, η_sim[t])\n",
    "        c[t] = σ(a[t], z)\n",
    "        #c1[t],c2[t] = allocate(c[t], S = S) \n",
    "        #if t<T-1:\n",
    "        #    a[t+1] = R/Γs[t] * (a[t] - c1[t]*p_vec[0]-c2[t]*p_vec[1]) + Y\n",
    "        if t<T-1:\n",
    "            a[t+1] = R/Γs[t] * (a[t] - c[t]) + Y\n",
    "        \n",
    "    ## multiply permanent income level \n",
    "    #c = c*p_income\n",
    "    #c1 =c1*p_income\n",
    "    #c2 = c2*p_income\n",
    "    #a = a * p_income \n",
    "    \n",
    "    return a,c\n",
    "\n",
    "## now, we simulate the time-series of a cross-sectional matrix of N agents \n",
    "\n",
    "#@njit\n",
    "def simulate_distribution(lc, \n",
    "                          a_star, \n",
    "                          p_vec, \n",
    "                          σ_star,\n",
    "                          z_mat, \n",
    "                          p_income_mat,\n",
    "                          N = 3000, \n",
    "                          T = 400,\n",
    "                          discrete = True):\n",
    "    N_z, T_z = z_mat.shape\n",
    "    \n",
    "    assert N_z>=N and T_z >=T, 'history of the markov states are smaller than the simulated matrix'\n",
    "    \n",
    "    \n",
    "    z_mat = z_mat[0:N,0:T]\n",
    "    ## z_mat is a N_sim x T sized matrix that takes the simulated Markov states \n",
    "    a_mat = np.empty((N,T))\n",
    "    c_mat = np.empty((N,T))\n",
    "    #c1_mat = np.empty((N,T))\n",
    "    #c2_mat = np.empty((N,T))\n",
    "    \n",
    "    ## get the policy function\n",
    "    \n",
    "    if discrete ==True:\n",
    "        σ = policyfunc(lc,\n",
    "                       a_star,\n",
    "                       σ_star,\n",
    "                       discrete = True)  ## interpolate for discrete z index \n",
    "        for i in range (N):\n",
    "            a_mat[i,:],c_mat[i,:] = simulate_time_series(lc,\n",
    "                                                         σ,\n",
    "                                                         z_mat[i,:],\n",
    "                                                         p_income_mat[i,:],\n",
    "                                                         T = T)\n",
    "    else:\n",
    "        σ = policyfunc(lc,\n",
    "                       a_star,\n",
    "                       σ_star,\n",
    "                       discrete = False) ## interpolate for continous z value \n",
    "        for i in range (N):\n",
    "            a_mat[i,:],c_mat[i,:]= simulate_time_series_new(lc,\n",
    "                                                            σ,\n",
    "                                                            z_mat[i,:],\n",
    "                                                            p_income_mat[i,:],\n",
    "                                                            T = T)\n",
    "            \n",
    "    ## multiply permanent income level \n",
    "    #c_mat= np.multiply(c_mat,p_income_mat)\n",
    "    #c1_mat = np.multiply(c1_mat,p_income_mat)\n",
    "    #c2_mat = np.multiply(c2_mat,p_income_mat)\n",
    "    #a_mat = np.multiply(a_mat,p_income_mat) \n",
    "\n",
    "    return a_mat,c_mat"
   ]
  },
  {
   "cell_type": "code",
   "execution_count": 74,
   "metadata": {
    "code_folding": []
   },
   "outputs": [],
   "source": [
    "## simulate a Markov sequence \n",
    "\n",
    "mc = MarkovChain(lc.P)\n",
    "\n",
    "### Simulate history of Idiosyncratic Z states \n",
    "#### (For Z to be aggregate state. We can directly copy Z for different agents) \n",
    "\n",
    "## number of agents \n",
    "\n",
    "N = 1000\n",
    "T = 25        ## simulated history of time period\n",
    "\n",
    "z_idx_ts = mc.simulate(T, random_state=13274)\n",
    "z_idx_mat = np.tile(z_idx_ts,(N,1))"
   ]
  },
  {
   "cell_type": "code",
   "execution_count": 75,
   "metadata": {
    "code_folding": [
     3
    ]
   },
   "outputs": [],
   "source": [
    "## simulate a permanent income distributions \n",
    "\n",
    "@njit\n",
    "def PerIncSimulate(T,\n",
    "               sigma,\n",
    "               init = 0.001):\n",
    "    pshk_draws = sigma*np.random.randn(T)-sigma**2/2\n",
    "    log_p_inc = np.empty(T)\n",
    "    log_p_inc[0] = init\n",
    "    for t in range(T-1):\n",
    "        log_p_inc[t+1] = log_p_inc[t]+ pshk_draws[t+1]\n",
    "    p_income = np.exp(log_p_inc)\n",
    "    return p_income\n",
    "\n",
    "## simulate histories of permanent income \n",
    "\n",
    "p_income_mat = np.empty((N,T))\n",
    "\n",
    "for n in range(N):\n",
    "    p_income_mat[n,:] = PerIncSimulate(T,\n",
    "                                       sigma = lc.sigma_n,\n",
    "                                       init = 0.0001)"
   ]
  },
  {
   "cell_type": "code",
   "execution_count": 78,
   "metadata": {
    "code_folding": []
   },
   "outputs": [
    {
     "ename": "NameError",
     "evalue": "name 'a_bf_star' is not defined",
     "output_type": "error",
     "traceback": [
      "\u001b[0;31m---------------------------------------------------------------------------\u001b[0m",
      "\u001b[0;31mNameError\u001b[0m                                 Traceback (most recent call last)",
      "\u001b[0;32m<ipython-input-78-8500f17d8565>\u001b[0m in \u001b[0;36m<module>\u001b[0;34m\u001b[0m\n\u001b[1;32m      3\u001b[0m \u001b[0mp_vec\u001b[0m \u001b[0;34m=\u001b[0m \u001b[0;34m(\u001b[0m\u001b[0;36m1\u001b[0m\u001b[0;34m,\u001b[0m\u001b[0;36m1\u001b[0m\u001b[0;34m)\u001b[0m\u001b[0;34m\u001b[0m\u001b[0;34m\u001b[0m\u001b[0m\n\u001b[1;32m      4\u001b[0m a_dist,c_dist,c1_dist,c2_dist = simulate_distribution(lc,\n\u001b[0;32m----> 5\u001b[0;31m                                                       \u001b[0ma_bf_star\u001b[0m\u001b[0;34m,\u001b[0m\u001b[0;34m\u001b[0m\u001b[0;34m\u001b[0m\u001b[0m\n\u001b[0m\u001b[1;32m      6\u001b[0m                                                       \u001b[0mp_vec\u001b[0m\u001b[0;34m,\u001b[0m\u001b[0;34m\u001b[0m\u001b[0;34m\u001b[0m\u001b[0m\n\u001b[1;32m      7\u001b[0m                                                       \u001b[0mσ_bf_star\u001b[0m\u001b[0;34m,\u001b[0m\u001b[0;34m\u001b[0m\u001b[0;34m\u001b[0m\u001b[0m\n",
      "\u001b[0;31mNameError\u001b[0m: name 'a_bf_star' is not defined"
     ]
    }
   ],
   "source": [
    "## Simulate the distribution of consumption/asset (perfect understanding)\n",
    "\n",
    "p_vec = (1,1) \n",
    "a_dist,c_dist = simulate_distribution(lc,\n",
    "                                      a_bf_star,\n",
    "                                      p_vec,\n",
    "                                      σ_bf_star,\n",
    "                                      z_idx_mat,\n",
    "                                      p_income_mat,\n",
    "                                      N = N,\n",
    "                                      T = T,\n",
    "                                      discrete = True)"
   ]
  },
  {
   "cell_type": "code",
   "execution_count": 51,
   "metadata": {
    "code_folding": []
   },
   "outputs": [],
   "source": [
    "## aggregate history \n",
    "\n",
    "co_mat = np.multiply(c_dist,p_income_mat)  ## non-normalized consumption\n",
    "lco_mat = np.log(co_mat)\n",
    "lco_av = np.mean(lco_mat,axis = 0)\n",
    "\n",
    "#p_av =  np.mean(p_income_mat,axis = 0)  \n",
    "#lp_av = np.log(p_av)\n",
    "lp_income_mat = np.log(p_income_mat)   ## permanent income level \n",
    "lp_av = np.mean(lp_income_mat,axis = 0)\n",
    "\n",
    "#c_av = np.mean(c_dist,axis=0)\n",
    "#lc_av = np.log(c_av)\n",
    "lc_mat = np.log(c_dist)             ## normalized consumption\n",
    "lc_av = np.mean(lc_mat,axis = 0) \n",
    "\n",
    "lc_sd = np.sqrt(np.diag(np.cov(lc_mat.T)))"
   ]
  },
  {
   "cell_type": "code",
   "execution_count": 52,
   "metadata": {},
   "outputs": [
    {
     "data": {
      "text/plain": [
       "<matplotlib.legend.Legend at 0xa1f421470>"
      ]
     },
     "execution_count": 52,
     "metadata": {},
     "output_type": "execute_result"
    },
    {
     "data": {
      "image/png": "[encoded data removed]",
      "text/plain": [
       "<Figure size 432x288 with 1 Axes>"
      ]
     },
     "metadata": {
      "needs_background": "light"
     },
     "output_type": "display_data"
    }
   ],
   "source": [
    "plt.title('average log consumption (normalized)')\n",
    "plt.plot(lc_av[1:],label = r'$\\widebar{ln(c/o)}$')\n",
    "plt.legend(loc=2)"
   ]
  },
  {
   "cell_type": "code",
   "execution_count": 53,
   "metadata": {},
   "outputs": [
    {
     "data": {
      "text/plain": [
       "<matplotlib.legend.Legend at 0xa1ed325f8>"
      ]
     },
     "execution_count": 53,
     "metadata": {},
     "output_type": "execute_result"
    },
    {
     "data": {
      "image/png": "[encoded data removed]",
      "text/plain": [
       "<Figure size 432x288 with 1 Axes>"
      ]
     },
     "metadata": {
      "needs_background": "light"
     },
     "output_type": "display_data"
    }
   ],
   "source": [
    "plt.title('average log consumption (non-normalized)')\n",
    "plt.plot(lco_av[1:],label = r'$\\widebar{ln(c)}$')\n",
    "plt.legend(loc=2)"
   ]
  },
  {
   "cell_type": "code",
   "execution_count": 54,
   "metadata": {},
   "outputs": [
    {
     "data": {
      "text/plain": [
       "<matplotlib.legend.Legend at 0xa1edf0b00>"
      ]
     },
     "execution_count": 54,
     "metadata": {},
     "output_type": "execute_result"
    },
    {
     "data": {
      "image/png": "[encoded data removed]",
      "text/plain": [
       "<Figure size 432x288 with 1 Axes>"
      ]
     },
     "metadata": {
      "needs_background": "light"
     },
     "output_type": "display_data"
    }
   ],
   "source": [
    "plt.title('standard deviation of log consumption (normalized)')\n",
    "plt.plot(lc_sd[1:],label = r'$std(ln(c/o)$')\n",
    "plt.legend(loc=2)"
   ]
  },
  {
   "cell_type": "code",
   "execution_count": 55,
   "metadata": {},
   "outputs": [
    {
     "data": {
      "text/plain": [
       "<matplotlib.legend.Legend at 0xa1f3b57f0>"
      ]
     },
     "execution_count": 55,
     "metadata": {},
     "output_type": "execute_result"
    },
    {
     "data": {
      "image/png": "[encoded data removed]",
      "text/plain": [
       "<Figure size 432x288 with 1 Axes>"
      ]
     },
     "metadata": {
      "needs_background": "light"
     },
     "output_type": "display_data"
    }
   ],
   "source": [
    "plt.title('average log permanent income')\n",
    "plt.plot(lp_av[1:],label = r'$\\widebar{ln(o)}$')\n",
    "plt.legend(loc=2)"
   ]
  },
  {
   "cell_type": "code",
   "execution_count": 56,
   "metadata": {
    "code_folding": [
     0
    ]
   },
   "outputs": [
    {
     "data": {
      "image/png": "[encoded data removed]",
      "text/plain": [
       "<Figure size 936x288 with 3 Axes>"
      ]
     },
     "metadata": {
      "needs_background": "light"
     },
     "output_type": "display_data"
    }
   ],
   "source": [
    "## get lorenz curve of the consumption inequality \n",
    "\n",
    "C_model = c_dist[:,-1]\n",
    "C1_model = c1_dist[:,-1]\n",
    "C2_model = c2_dist[:,-1]\n",
    "\n",
    "## multiply by permanent income \n",
    "CO_model = np.multiply(c_dist[:,-1],p_income_mat[:,-1])\n",
    "CO1_model = np.multiply(c1_dist[:,-1],p_income_mat[:,-1])\n",
    "CO2_model = np.multiply(c2_dist[:,-1],p_income_mat[:,-1])\n",
    "\n",
    "fc_m_vals, lc_m_vals = qe.lorenz_curve(CO_model)\n",
    "fc1_m_vals, lc1_m_vals = qe.lorenz_curve(CO1_model)\n",
    "fc2_m_vals, lc2_m_vals = qe.lorenz_curve(CO2_model)\n",
    "\n",
    "\n",
    "fig, axs = plt.subplots(1,\n",
    "                        3,\n",
    "                        figsize=(13,4))\n",
    "\n",
    "## total consumption \n",
    "axs[0].plot(fc_vals, lc_vals, 'r-.',label='data')\n",
    "axs[0].plot(fc_m_vals, lc_m_vals, 'b-',label='model')\n",
    "axs[0].plot(fc_vals, fc_vals, 'k--',label='equality')\n",
    "axs[0].legend(fontsize=legendsize)\n",
    "axs[0].set_title(r'$c$',fontsize=fontsize)\n",
    "#plt.xlim([0,1])\n",
    "#plt.ylim([0,1])\n",
    "\n",
    "## conctact consumption \n",
    "\n",
    "## total consumption \n",
    "axs[1].plot(fc1_vals, lc1_vals, 'r-.',label='data')\n",
    "axs[1].plot(fc1_m_vals, lc1_m_vals, 'b-',label='model')\n",
    "axs[1].plot(fc1_vals, fc1_vals, 'k--',label='equality')\n",
    "axs[1].legend(fontsize=legendsize)\n",
    "axs[1].set_title(r'$c_c$',fontsize=fontsize)\n",
    "#plt.xlim([0,1])\n",
    "#plt.ylim([0,1])\n",
    "\n",
    "\n",
    "## total consumption \n",
    "axs[2].plot(fc2_vals, lc2_vals, 'r-.',label='data')\n",
    "axs[2].plot(fc2_m_vals, lc1_m_vals, 'b-',label='model')\n",
    "axs[2].plot(fc2_vals, fc2_vals, 'k--',label='equality')\n",
    "axs[2].legend(fontsize=legendsize)\n",
    "axs[2].set_title(r'$c_n$',fontsize=fontsize)\n",
    "plt.xlim([0,1])\n",
    "plt.ylim([0,1])\n",
    "\n",
    "plt.show()\n",
    "fig.savefig('../graph/model/lorenz_c.jpg')"
   ]
  },
  {
   "cell_type": "markdown",
   "metadata": {},
   "source": [
    "## Then, solve the model with the pandemic \n",
    "\n"
   ]
  },
  {
   "cell_type": "code",
   "execution_count": 57,
   "metadata": {},
   "outputs": [],
   "source": [
    "ifp.b_y = -0.1\n",
    "ifp.b_s = -0.2"
   ]
  },
  {
   "cell_type": "code",
   "execution_count": 58,
   "metadata": {
    "code_folding": [
     0
    ]
   },
   "outputs": [],
   "source": [
    "## Pandemic Markov \n",
    "\n",
    "## feed a markov tanchened from ar1\n",
    "## these parameters are estimated from Covid19 cases per capita of all U.S. counties during the pandemic \n",
    "\n",
    "ρ, σ = (0.978,0.18)\n",
    "constant = 0.13  \n",
    "mc = qe.markov.approximation.tauchen(ρ, σ, b=constant, m=3, n=7)\n",
    "z_ss_av = constant/(1-ρ)\n",
    "z_ss_sd = σ*np.sqrt(1/(1-ρ**2))\n",
    "\n",
    "## feed ifp with a markov matrix \n",
    "ifp.z_val, ifp.P = mc.state_values, mc.P\n",
    "\n",
    "## some initial guesses \n",
    "k = len(ifp.s_grid)\n",
    "n = len(ifp.P)\n",
    "σ_init = np.empty((k, n))\n",
    "for z in range(n):\n",
    "    σ_init[:, z] = ifp.s_grid\n",
    "a_init = np.copy(σ_init)"
   ]
  },
  {
   "cell_type": "code",
   "execution_count": 59,
   "metadata": {},
   "outputs": [
    {
     "name": "stdout",
     "output_type": "stream",
     "text": [
      "Error at iteration 50 is 0.002146414780226813.\n",
      "Error at iteration 100 is 0.0007843227956180199.\n",
      "Error at iteration 150 is 0.00047768428625771797.\n",
      "Error at iteration 200 is 0.0003346376274815377.\n",
      "Error at iteration 250 is 0.00024637405251515254.\n",
      "Error at iteration 300 is 0.0001857151048272332.\n",
      "Error at iteration 350 is 0.00014212568494076372.\n",
      "Error at iteration 400 is 0.00011003970810674613.\n",
      "Error at iteration 450 is 8.602229155685315e-05.\n",
      "Error at iteration 500 is 6.780360349101233e-05.\n",
      "Error at iteration 550 is 5.382718559399091e-05.\n",
      "Error at iteration 600 is 4.299909506899624e-05.\n",
      "Error at iteration 650 is 3.453623319293886e-05.\n",
      "Error at iteration 700 is 2.7869818949866065e-05.\n",
      "Error at iteration 750 is 2.2581586592185232e-05.\n",
      "Error at iteration 800 is 1.8360465712796703e-05.\n",
      "Error at iteration 850 is 1.4972647404798423e-05.\n",
      "Error at iteration 900 is 1.2240620717807182e-05.\n",
      "Error at iteration 950 is 1.0028323529809313e-05.\n",
      "Error at iteration 1000 is 8.230516299834179e-06.\n",
      "Error at iteration 1050 is 6.765109213602294e-06.\n",
      "Error at iteration 1100 is 5.567566720210415e-06.\n",
      "Error at iteration 1150 is 4.586794016936402e-06.\n",
      "Error at iteration 1200 is 3.782079827208129e-06.\n",
      "Error at iteration 1250 is 3.120803436673647e-06.\n",
      "Error at iteration 1300 is 2.576697348710688e-06.\n",
      "Error at iteration 1350 is 2.1285185136665774e-06.\n",
      "Error at iteration 1400 is 1.7590233596376237e-06.\n",
      "Error at iteration 1450 is 1.454170187376036e-06.\n",
      "Error at iteration 1500 is 1.2024936748566972e-06.\n",
      "\n",
      "Converged in 1549 iterations.\n"
     ]
    }
   ],
   "source": [
    "a_star, σ_star = solve_model_time_iter(ifp,a_init, σ_init)"
   ]
  },
  {
   "cell_type": "code",
   "execution_count": 62,
   "metadata": {
    "code_folding": []
   },
   "outputs": [],
   "source": [
    "## interpolate consumption function on continuous z grid \n",
    "σ_= policyfunc(ifp,\n",
    "               a_star,\n",
    "               σ_star,\n",
    "               discrete = False)"
   ]
  },
  {
   "cell_type": "code",
   "execution_count": 63,
   "metadata": {
    "code_folding": [
     0
    ]
   },
   "outputs": [
    {
     "data": {
      "text/plain": [
       "Text(0, 0.5, 'infection')"
      ]
     },
     "execution_count": 63,
     "metadata": {},
     "output_type": "execute_result"
    },
    {
     "data": {
      "image/png": "[encoded data removed]",
      "text/plain": [
       "<Figure size 504x576 with 3 Axes>"
      ]
     },
     "metadata": {
      "needs_background": "light"
     },
     "output_type": "display_data"
    }
   ],
   "source": [
    "## plot contour for policy function \n",
    "\n",
    "a_grid = np.linspace(0.00001,3,20)\n",
    "z_grid = np.linspace(0,8,20)\n",
    "aa,zz = np.meshgrid(a_grid,z_grid)\n",
    "\n",
    "c_stars = σ_(a_grid,z_grid)\n",
    "c1_stars,c2_stars = allocate(c_stars,S = 1)\n",
    "\n",
    "fig,ax = plt.subplots(3,1,figsize=(7,8))\n",
    "\n",
    "cp1 = ax[0].contourf(aa, zz,c_stars)\n",
    "ax[0].set_title(r'$c$')\n",
    "ax[0].set_xlabel('asset')\n",
    "ax[0].set_ylabel('infection')\n",
    "\n",
    "\n",
    "cp2 = ax[1].contourf(aa, zz,c1_stars)\n",
    "ax[1].set_title(r'$c_c$')\n",
    "ax[1].set_xlabel('asset')\n",
    "ax[1].set_ylabel('infection')\n",
    "\n",
    "\n",
    "cp3 = ax[2].contourf(aa, zz,c2_stars)\n",
    "ax[2].set_title(r'$c_n$')\n",
    "ax[2].set_xlabel('asset')\n",
    "ax[2].set_ylabel('infection')"
   ]
  }
 ],
 "metadata": {
  "jupytext": {
   "encoding": "# -*- coding: utf-8 -*-",
   "formats": "ipynb,py:light"
  },
  "kernelspec": {
   "display_name": "Python 3",
   "language": "python",
   "name": "python3"
  },
  "language_info": {
   "codemirror_mode": {
    "name": "ipython",
    "version": 3
   },
   "file_extension": ".py",
   "mimetype": "text/x-python",
   "name": "python",
   "nbconvert_exporter": "python",
   "pygments_lexer": "ipython3",
   "version": "3.8.5"
  }
 },
 "nbformat": 4,
 "nbformat_minor": 4
}
