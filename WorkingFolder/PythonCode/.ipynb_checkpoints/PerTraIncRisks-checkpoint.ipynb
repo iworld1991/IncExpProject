{
 "cells": [
  {
   "cell_type": "markdown",
   "metadata": {},
   "source": [
    "## Decomposing Permanent/Transitory Income Risks using Surveyed Expectation\n",
    "\n",
    "- I follow Pistaferri (2001)\n",
    "- Starts from replicating New York Fed [Blog](https://libertystreeteconomics.newyorkfed.org/2017/11/understanding-permanent-and-temporary-income-shocks.html)\n",
    "- Steps. \n",
    "   - Comparing expected and realized household income growth. \n",
    "   - Based on the assumption of the income process,decomposed income risks into permanent and transitory ones.  \n",
    "   - The decomposition is done for different groups depending on the events experienced. "
   ]
  },
  {
   "cell_type": "markdown",
   "metadata": {},
   "source": []
  }
 ],
 "metadata": {
  "kernelspec": {
   "display_name": "Python 3",
   "language": "python",
   "name": "python3"
  },
  "language_info": {
   "codemirror_mode": {
    "name": "ipython",
    "version": 3
   },
   "file_extension": ".py",
   "mimetype": "text/x-python",
   "name": "python",
   "nbconvert_exporter": "python",
   "pygments_lexer": "ipython3",
   "version": "3.7.3"
  }
 },
 "nbformat": 4,
 "nbformat_minor": 2
}
