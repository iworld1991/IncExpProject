{
 "cells": [
  {
   "cell_type": "markdown",
   "metadata": {},
   "source": [
    "### How do the perceived income moments correlate with other individual variables \n",
    "\n",
    "- this notebook runs regressions to inspects the covariants of individual perceived income moments\n",
    "  - individual demogrpahics, level of household income, education, etc.\n",
    "  - job-types, part-time vs full-time, selfemployment, etc. \n",
    "  - other expectations: probability of unemployment, other job-related expectations \n",
    "- it examiens both nominal and real income growth \n"
   ]
  },
  {
   "cell_type": "markdown",
   "metadata": {},
   "source": [
    "###  1. Loading and cleaning data"
   ]
  },
  {
   "cell_type": "code",
   "execution_count": 1,
   "metadata": {},
   "outputs": [],
   "source": [
    "import numpy as np\n",
    "import pandas as pd\n",
    "import seaborn as sns\n",
    "import matplotlib.pyplot as plt\n",
    "%matplotlib inline\n",
    "import statsmodels.api as sm \n",
    "import statsmodels.formula.api as smf\n",
    "from linearmodels.panel import PanelOLS\n",
    "from statsmodels.iolib.summary2 import summary_col\n",
    "import PrettyTable as pt"
   ]
  },
  {
   "cell_type": "code",
   "execution_count": 2,
   "metadata": {},
   "outputs": [],
   "source": [
    "pd.options.display.float_format = '{:,.2f}'.format"
   ]
  },
  {
   "cell_type": "code",
   "execution_count": 3,
   "metadata": {},
   "outputs": [],
   "source": [
    "dataset = pd.read_stata('../SurveyData/SCE/IncExpSCEProbIndM.dta')   "
   ]
  },
  {
   "cell_type": "code",
   "execution_count": 4,
   "metadata": {
    "code_folding": [
     0
    ]
   },
   "outputs": [],
   "source": [
    "## panel data \n",
    "\n",
    "#dataset.index = dataset[['date','userid']]"
   ]
  },
  {
   "cell_type": "code",
   "execution_count": 5,
   "metadata": {
    "code_folding": [
     0
    ]
   },
   "outputs": [],
   "source": [
    "## variable list by catogrories \n",
    "\n",
    "vars_id = ['userid','date']\n",
    "\n",
    "moms_nom = ['Q24_var']\n",
    "\n",
    "moms_real = ['Q24_rvar']\n",
    "\n",
    "vars_demog = ['D6']   ## level of income, 11 groups \n",
    "\n",
    "vars_job = ['Q10_1',  # full-time \n",
    "            'Q10_2',  # part-time\n",
    "            'Q12new'] ## =1 worked for others; = 2 self-employment \n",
    "\n",
    "vars_demog_sub = ['Q32',  ## age \n",
    "                  'Q33',  ## gender \n",
    "                  'Q36']  ## education (1-8 low to high, 9 other)\n",
    "\n",
    "## these variables are only available for a sub sample \n",
    "\n",
    "vars_empexp = ['Q13new']  ## probability of unemployment \n",
    "\n",
    "vars_macroexp = ['Q6new',  ## stock market going up \n",
    "                 'Q4new']  ## UE goes up "
   ]
  },
  {
   "cell_type": "code",
   "execution_count": 6,
   "metadata": {
    "code_folding": []
   },
   "outputs": [
    {
     "data": {
      "text/html": [
       "<div>\n",
       "<style scoped>\n",
       "    .dataframe tbody tr th:only-of-type {\n",
       "        vertical-align: middle;\n",
       "    }\n",
       "\n",
       "    .dataframe tbody tr th {\n",
       "        vertical-align: top;\n",
       "    }\n",
       "\n",
       "    .dataframe thead th {\n",
       "        text-align: right;\n",
       "    }\n",
       "</style>\n",
       "<table border=\"1\" class=\"dataframe\">\n",
       "  <thead>\n",
       "    <tr style=\"text-align: right;\">\n",
       "      <th></th>\n",
       "      <th>userid</th>\n",
       "      <th>date</th>\n",
       "      <th>Q24_var</th>\n",
       "      <th>Q24_rvar</th>\n",
       "      <th>Q10_1</th>\n",
       "      <th>Q10_2</th>\n",
       "      <th>Q12new</th>\n",
       "      <th>D6</th>\n",
       "      <th>Q32</th>\n",
       "      <th>Q33</th>\n",
       "      <th>Q36</th>\n",
       "      <th>Q13new</th>\n",
       "      <th>Q6new</th>\n",
       "      <th>Q4new</th>\n",
       "    </tr>\n",
       "  </thead>\n",
       "  <tbody>\n",
       "    <tr>\n",
       "      <th>count</th>\n",
       "      <td>79,064.00</td>\n",
       "      <td>79064</td>\n",
       "      <td>47,501.00</td>\n",
       "      <td>44,639.00</td>\n",
       "      <td>79,064.00</td>\n",
       "      <td>79,064.00</td>\n",
       "      <td>51,520.00</td>\n",
       "      <td>67,901.00</td>\n",
       "      <td>11,630.00</td>\n",
       "      <td>11,656.00</td>\n",
       "      <td>11,658.00</td>\n",
       "      <td>45,921.00</td>\n",
       "      <td>78,182.00</td>\n",
       "      <td>78,767.00</td>\n",
       "    </tr>\n",
       "    <tr>\n",
       "      <th>unique</th>\n",
       "      <td>nan</td>\n",
       "      <td>60</td>\n",
       "      <td>nan</td>\n",
       "      <td>nan</td>\n",
       "      <td>nan</td>\n",
       "      <td>nan</td>\n",
       "      <td>nan</td>\n",
       "      <td>nan</td>\n",
       "      <td>nan</td>\n",
       "      <td>nan</td>\n",
       "      <td>nan</td>\n",
       "      <td>nan</td>\n",
       "      <td>nan</td>\n",
       "      <td>nan</td>\n",
       "    </tr>\n",
       "    <tr>\n",
       "      <th>top</th>\n",
       "      <td>nan</td>\n",
       "      <td>2013-08-01 00:00:00</td>\n",
       "      <td>nan</td>\n",
       "      <td>nan</td>\n",
       "      <td>nan</td>\n",
       "      <td>nan</td>\n",
       "      <td>nan</td>\n",
       "      <td>nan</td>\n",
       "      <td>nan</td>\n",
       "      <td>nan</td>\n",
       "      <td>nan</td>\n",
       "      <td>nan</td>\n",
       "      <td>nan</td>\n",
       "      <td>nan</td>\n",
       "    </tr>\n",
       "    <tr>\n",
       "      <th>freq</th>\n",
       "      <td>nan</td>\n",
       "      <td>1769</td>\n",
       "      <td>nan</td>\n",
       "      <td>nan</td>\n",
       "      <td>nan</td>\n",
       "      <td>nan</td>\n",
       "      <td>nan</td>\n",
       "      <td>nan</td>\n",
       "      <td>nan</td>\n",
       "      <td>nan</td>\n",
       "      <td>nan</td>\n",
       "      <td>nan</td>\n",
       "      <td>nan</td>\n",
       "      <td>nan</td>\n",
       "    </tr>\n",
       "    <tr>\n",
       "      <th>first</th>\n",
       "      <td>nan</td>\n",
       "      <td>2013-06-01 00:00:00</td>\n",
       "      <td>nan</td>\n",
       "      <td>nan</td>\n",
       "      <td>nan</td>\n",
       "      <td>nan</td>\n",
       "      <td>nan</td>\n",
       "      <td>nan</td>\n",
       "      <td>nan</td>\n",
       "      <td>nan</td>\n",
       "      <td>nan</td>\n",
       "      <td>nan</td>\n",
       "      <td>nan</td>\n",
       "      <td>nan</td>\n",
       "    </tr>\n",
       "    <tr>\n",
       "      <th>last</th>\n",
       "      <td>nan</td>\n",
       "      <td>2018-05-01 00:00:00</td>\n",
       "      <td>nan</td>\n",
       "      <td>nan</td>\n",
       "      <td>nan</td>\n",
       "      <td>nan</td>\n",
       "      <td>nan</td>\n",
       "      <td>nan</td>\n",
       "      <td>nan</td>\n",
       "      <td>nan</td>\n",
       "      <td>nan</td>\n",
       "      <td>nan</td>\n",
       "      <td>nan</td>\n",
       "      <td>nan</td>\n",
       "    </tr>\n",
       "    <tr>\n",
       "      <th>mean</th>\n",
       "      <td>70,059,680.73</td>\n",
       "      <td>NaN</td>\n",
       "      <td>5.56</td>\n",
       "      <td>13.47</td>\n",
       "      <td>0.55</td>\n",
       "      <td>0.14</td>\n",
       "      <td>1.13</td>\n",
       "      <td>6.46</td>\n",
       "      <td>50.13</td>\n",
       "      <td>1.52</td>\n",
       "      <td>4.36</td>\n",
       "      <td>14.85</td>\n",
       "      <td>42.80</td>\n",
       "      <td>37.41</td>\n",
       "    </tr>\n",
       "    <tr>\n",
       "      <th>std</th>\n",
       "      <td>20,176.72</td>\n",
       "      <td>NaN</td>\n",
       "      <td>11.12</td>\n",
       "      <td>19.82</td>\n",
       "      <td>0.50</td>\n",
       "      <td>0.34</td>\n",
       "      <td>0.34</td>\n",
       "      <td>2.72</td>\n",
       "      <td>16.58</td>\n",
       "      <td>0.50</td>\n",
       "      <td>1.55</td>\n",
       "      <td>20.41</td>\n",
       "      <td>23.08</td>\n",
       "      <td>22.77</td>\n",
       "    </tr>\n",
       "    <tr>\n",
       "      <th>min</th>\n",
       "      <td>70,000,220.00</td>\n",
       "      <td>NaN</td>\n",
       "      <td>0.28</td>\n",
       "      <td>0.61</td>\n",
       "      <td>0.00</td>\n",
       "      <td>0.00</td>\n",
       "      <td>1.00</td>\n",
       "      <td>1.00</td>\n",
       "      <td>2.00</td>\n",
       "      <td>1.00</td>\n",
       "      <td>1.00</td>\n",
       "      <td>0.00</td>\n",
       "      <td>0.00</td>\n",
       "      <td>0.00</td>\n",
       "    </tr>\n",
       "    <tr>\n",
       "      <th>25%</th>\n",
       "      <td>70,044,346.00</td>\n",
       "      <td>NaN</td>\n",
       "      <td>0.36</td>\n",
       "      <td>1.67</td>\n",
       "      <td>0.00</td>\n",
       "      <td>0.00</td>\n",
       "      <td>1.00</td>\n",
       "      <td>4.00</td>\n",
       "      <td>38.00</td>\n",
       "      <td>1.00</td>\n",
       "      <td>3.00</td>\n",
       "      <td>1.00</td>\n",
       "      <td>25.00</td>\n",
       "      <td>20.00</td>\n",
       "    </tr>\n",
       "    <tr>\n",
       "      <th>50%</th>\n",
       "      <td>70,060,929.00</td>\n",
       "      <td>NaN</td>\n",
       "      <td>1.05</td>\n",
       "      <td>4.78</td>\n",
       "      <td>1.00</td>\n",
       "      <td>0.00</td>\n",
       "      <td>1.00</td>\n",
       "      <td>7.00</td>\n",
       "      <td>50.00</td>\n",
       "      <td>2.00</td>\n",
       "      <td>5.00</td>\n",
       "      <td>8.00</td>\n",
       "      <td>50.00</td>\n",
       "      <td>40.00</td>\n",
       "    </tr>\n",
       "    <tr>\n",
       "      <th>75%</th>\n",
       "      <td>70,076,462.00</td>\n",
       "      <td>NaN</td>\n",
       "      <td>4.50</td>\n",
       "      <td>15.73</td>\n",
       "      <td>1.00</td>\n",
       "      <td>0.00</td>\n",
       "      <td>1.00</td>\n",
       "      <td>9.00</td>\n",
       "      <td>62.00</td>\n",
       "      <td>2.00</td>\n",
       "      <td>5.00</td>\n",
       "      <td>20.00</td>\n",
       "      <td>60.00</td>\n",
       "      <td>50.00</td>\n",
       "    </tr>\n",
       "    <tr>\n",
       "      <th>max</th>\n",
       "      <td>70,096,821.00</td>\n",
       "      <td>NaN</td>\n",
       "      <td>56.33</td>\n",
       "      <td>132.48</td>\n",
       "      <td>1.00</td>\n",
       "      <td>1.00</td>\n",
       "      <td>2.00</td>\n",
       "      <td>11.00</td>\n",
       "      <td>720.00</td>\n",
       "      <td>2.00</td>\n",
       "      <td>9.00</td>\n",
       "      <td>100.00</td>\n",
       "      <td>100.00</td>\n",
       "      <td>100.00</td>\n",
       "    </tr>\n",
       "  </tbody>\n",
       "</table>\n",
       "</div>"
      ],
      "text/plain": [
       "              userid                 date   Q24_var  Q24_rvar     Q10_1  \\\n",
       "count      79,064.00                79064 47,501.00 44,639.00 79,064.00   \n",
       "unique           nan                   60       nan       nan       nan   \n",
       "top              nan  2013-08-01 00:00:00       nan       nan       nan   \n",
       "freq             nan                 1769       nan       nan       nan   \n",
       "first            nan  2013-06-01 00:00:00       nan       nan       nan   \n",
       "last             nan  2018-05-01 00:00:00       nan       nan       nan   \n",
       "mean   70,059,680.73                  NaN      5.56     13.47      0.55   \n",
       "std        20,176.72                  NaN     11.12     19.82      0.50   \n",
       "min    70,000,220.00                  NaN      0.28      0.61      0.00   \n",
       "25%    70,044,346.00                  NaN      0.36      1.67      0.00   \n",
       "50%    70,060,929.00                  NaN      1.05      4.78      1.00   \n",
       "75%    70,076,462.00                  NaN      4.50     15.73      1.00   \n",
       "max    70,096,821.00                  NaN     56.33    132.48      1.00   \n",
       "\n",
       "           Q10_2    Q12new        D6       Q32       Q33       Q36    Q13new  \\\n",
       "count  79,064.00 51,520.00 67,901.00 11,630.00 11,656.00 11,658.00 45,921.00   \n",
       "unique       nan       nan       nan       nan       nan       nan       nan   \n",
       "top          nan       nan       nan       nan       nan       nan       nan   \n",
       "freq         nan       nan       nan       nan       nan       nan       nan   \n",
       "first        nan       nan       nan       nan       nan       nan       nan   \n",
       "last         nan       nan       nan       nan       nan       nan       nan   \n",
       "mean        0.14      1.13      6.46     50.13      1.52      4.36     14.85   \n",
       "std         0.34      0.34      2.72     16.58      0.50      1.55     20.41   \n",
       "min         0.00      1.00      1.00      2.00      1.00      1.00      0.00   \n",
       "25%         0.00      1.00      4.00     38.00      1.00      3.00      1.00   \n",
       "50%         0.00      1.00      7.00     50.00      2.00      5.00      8.00   \n",
       "75%         0.00      1.00      9.00     62.00      2.00      5.00     20.00   \n",
       "max         1.00      2.00     11.00    720.00      2.00      9.00    100.00   \n",
       "\n",
       "           Q6new     Q4new  \n",
       "count  78,182.00 78,767.00  \n",
       "unique       nan       nan  \n",
       "top          nan       nan  \n",
       "freq         nan       nan  \n",
       "first        nan       nan  \n",
       "last         nan       nan  \n",
       "mean       42.80     37.41  \n",
       "std        23.08     22.77  \n",
       "min         0.00      0.00  \n",
       "25%        25.00     20.00  \n",
       "50%        50.00     40.00  \n",
       "75%        60.00     50.00  \n",
       "max       100.00    100.00  "
      ]
     },
     "execution_count": 6,
     "metadata": {},
     "output_type": "execute_result"
    }
   ],
   "source": [
    "## subselect variables \n",
    "\n",
    "vars_all_reg_long = (vars_id+moms_nom + moms_real + vars_job + \n",
    "                     vars_demog + vars_demog_sub + \n",
    "                     vars_empexp + vars_macroexp)\n",
    "\n",
    "## select dataset \n",
    "\n",
    "SCEM = dataset[vars_all_reg_long]\n",
    "SCEM.describe(include='all')"
   ]
  },
  {
   "cell_type": "markdown",
   "metadata": {},
   "source": [
    "### 2. Correlation pattern "
   ]
  },
  {
   "cell_type": "code",
   "execution_count": 7,
   "metadata": {
    "code_folding": [
     0
    ]
   },
   "outputs": [],
   "source": [
    "SCEM = SCEM.rename(columns = {'D6':'HHinc',\n",
    "                              'Q13new':'UEprobInd',\n",
    "                              'Q6new':'Stkprob',\n",
    "                              'Q4new':'UEprobAgg',\n",
    "                              'Q10_1':'fulltime',\n",
    "                              'Q10_2':'parttime',\n",
    "                              'Q12new':'selfemp',\n",
    "                              'Q32':'age',\n",
    "                              'Q33':'gender',\n",
    "                              'Q36':'educ'})"
   ]
  },
  {
   "cell_type": "code",
   "execution_count": 8,
   "metadata": {
    "code_folding": []
   },
   "outputs": [],
   "source": [
    "cleanup_nums = {'parttime': {0: 'no', 1: 'yes'},\n",
    "                'fulltime': {0: 'no', 1: 'yes'},\n",
    "                'selfemp':{1: 'no', 2: 'yes'},\n",
    "                'gender':{1:'male',2:'female'}}\n",
    "SCEM.replace(cleanup_nums,\n",
    "            inplace = True)"
   ]
  },
  {
   "cell_type": "code",
   "execution_count": 9,
   "metadata": {
    "code_folding": [
     0
    ]
   },
   "outputs": [],
   "source": [
    "## categorical variables \n",
    "\n",
    "vars_cat = ['HHinc','fulltime','parttime','selfemp','gender','userid','date']\n",
    "\n",
    "for var in vars_cat:\n",
    "    SCEM[var] = pd.Categorical(SCEM[var])"
   ]
  },
  {
   "cell_type": "code",
   "execution_count": 10,
   "metadata": {},
   "outputs": [],
   "source": [
    "#pp = sns.pairplot(SCEM)"
   ]
  },
  {
   "cell_type": "code",
   "execution_count": 11,
   "metadata": {
    "code_folding": [
     0
    ]
   },
   "outputs": [
    {
     "data": {
      "text/plain": [
       "<matplotlib.axes._subplots.AxesSubplot at 0x1c1a1a6c50>"
      ]
     },
     "execution_count": 11,
     "metadata": {},
     "output_type": "execute_result"
    },
    {
     "data": {
      "image/png": "[encoded data removed]",
      "text/plain": [
       "<Figure size 432x288 with 2 Axes>"
      ]
     },
     "metadata": {
      "needs_background": "light"
     },
     "output_type": "display_data"
    }
   ],
   "source": [
    "sns.heatmap(SCEM.corr(), \n",
    "            annot=True)"
   ]
  },
  {
   "cell_type": "markdown",
   "metadata": {},
   "source": [
    "###  3. Histograms"
   ]
  },
  {
   "cell_type": "code",
   "execution_count": 12,
   "metadata": {
    "code_folding": [
     2
    ]
   },
   "outputs": [
    {
     "data": {
      "image/png": "[encoded data removed]",
      "text/plain": [
       "<Figure size 432x216 with 1 Axes>"
      ]
     },
     "metadata": {
      "needs_background": "light"
     },
     "output_type": "display_data"
    },
    {
     "data": {
      "image/png": "[encoded data removed]",
      "text/plain": [
       "<Figure size 432x216 with 1 Axes>"
      ]
     },
     "metadata": {
      "needs_background": "light"
     },
     "output_type": "display_data"
    },
    {
     "data": {
      "image/png": "[encoded data removed]",
      "text/plain": [
       "<Figure size 432x216 with 1 Axes>"
      ]
     },
     "metadata": {
      "needs_background": "light"
     },
     "output_type": "display_data"
    },
    {
     "data": {
      "image/png": "[encoded data removed]",
      "text/plain": [
       "<Figure size 432x216 with 1 Axes>"
      ]
     },
     "metadata": {
      "needs_background": "light"
     },
     "output_type": "display_data"
    },
    {
     "data": {
      "image/png": "[encoded data removed]",
      "text/plain": [
       "<Figure size 432x216 with 1 Axes>"
      ]
     },
     "metadata": {
      "needs_background": "light"
     },
     "output_type": "display_data"
    },
    {
     "data": {
      "image/png": "[encoded data removed]",
      "text/plain": [
       "<Figure size 432x216 with 1 Axes>"
      ]
     },
     "metadata": {
      "needs_background": "light"
     },
     "output_type": "display_data"
    }
   ],
   "source": [
    "## by income group \n",
    "\n",
    "for mom in ['var','rvar']:\n",
    "    for gp in ['HHinc','educ','gender']:\n",
    "        plt.style.use('seaborn-poster')\n",
    "        SCEM.boxplot(column=['Q24_'+str(mom)],\n",
    "                     figsize = (6,3),\n",
    "                     by = gp)\n",
    "        plt.title('')\n",
    "        plt.savefig('../Graphs/ind/boxplot'+str(mom)+'_'+str(gp)+'.jpg')"
   ]
  },
  {
   "cell_type": "markdown",
   "metadata": {},
   "source": [
    "###  4. Regressions\n",
    "\n",
    "What factors are associated with subjective riskiness of labor income? This section inspects the question by regressing the perceived income risks at individual level on three major blocks of variables: job-specific characteristics, household demographics and other macroeconomic expectations held by the respondent. \n",
    "\n",
    "In a general form, the regression is specified as followed, where the dependent variable $\\textit{IncMom}_{i,t}$ represents alternative measures of perceived income risks for either nominal or real earning. \n",
    "\n",
    "\\begin{eqnarray}\n",
    "\\textrm{IncMom}_{i,t} = \\alpha + \\beta_0 \\textrm{HH}_{i,t} + \\beta_1 \\textrm{JobType}_{i,t} + \\beta_2 \\textrm{Exp}_{i,t} + \\beta_3 \\textrm{Month}_t + \\epsilon_{i,t}\n",
    "\\end{eqnarray}\n",
    "\n",
    "The first block of factors, as called $\\textit{Jobtype}_{i,t}$ includes dummy variables indicating if the job is part-time or if the work is for others or self-employed. Since the earning growth is specifically asked regarding the current job of the individual, I can directly test if a part-time job and the self-employed job is associated with higher perceived risks. \n",
    "\n",
    "The second type of factors denoted $\\textit{HH}_{i,t}$ represents household-specific demographics such as the household income level, education, and gender of the respondent. \n",
    "\n",
    "Third, $\\textit{Exp}_{i,t}$ represents other subjective expectations held by the same individual. As far as this paper is concerned, I include the perceived probability of unemployment herself, the probability of stock market rise over and the probability of a higher nationwide unemployment rate. \n",
    "\n",
    "$\\textit{Month}_t$ is meant to control possible seasonal or month-of-the-year fixed effects. It may well be the case that at a certain point of the time of the year, workers are more likely to learn about news to their future earnings. But as I will show in the following section, such evidence is limited particularly for the higher moments of earnings growth expectations. \n",
    "\n",
    "Besides, since many of the regressors are time-invariant household characteristics, I choose not to control household fixed effects in these regressions ($\\omega_i$). Throughout all specifications, I cluster standard errors at the household level because of the concern of unobservable household heterogeneity. The regression results are presented in the table below for three measures of perceived income risks, nominal growth variance, nominal growth iqr, and real growth variance. \n",
    "\n",
    "[Table of Individual Moments Regression](../Table/mom_ind_reg.cvs)\n",
    "\n",
    "The regression results are rather intuitive. It confirms that self-employed jobs, workers from low-income households and lower education have higher perceived income risks. In our sample, there are around $15\\%$ (6000) of the individuals who report themselves to be self-employed instead of working for others. In the table shown in the appendix, this group of people also has higher expected earnings growth. The effects are statistically and economically significant. Whether a part-time job is associated with higher perceived risk is ambiguous depending on if we control household demographics. At first sight, part-time jobs may be thought of as more unstable. But the exact nature of part-time job varies across different types and populations. It is possible, for instance, that the part-time jobs available to high-income and educated workers bear lower risks than those by the low-income and low-education groups. \n",
    "\n",
    "The negative correlation between perceived risks and household income is significant and robust throughout all specifications. In contrast, there is no such correlation between expected earning growth per se and household income. Although SCE asks the respondent to report an income range instead of the accurate monetary value, the 11-group breakdown is sufficiently granular to examine if the high-income/low risks association is monotonic. As implied by the size of the coefficient of each income group dummy in the table, this pattern is monotonically negative until the top income group ($200k or above). I also plot the mean and median of income risks by income group in the figure below.  \n",
    "\n",
    "[Figure on Perceived Income Risks by Income Group]('../Graphs/ind/riskbyincome.jpg')\n",
    "\n",
    "Besides household income, there is also statistical correlation between perceived risks and other demographic variables. In particular, higher eduation, being a male versus female, being a middle-aged worker compared to a young, are all associated with lower perceived income risks. To keep a sufficiently large sample size, I run regressions of this set of variables without controling the rest regressors.  Although the sample size shrink substantially by including these demographics, the relationships are statistically significant and consistent across all measures of earning risks. \n",
    "\n",
    "Higher perceived the probability of losing the current job, which I call individual unemployment risk, $\\textit{IndUE}$ is associated with higher earning risks of the current job. The perceived chance that the nationwide unemployment rate going up next year, which I call aggregate unemployment risk, $\\textit{AggUE}$ has a similar correlation with perceived earning risks. Such a positive correlation is important because this implies that a more comprehensively measured income risk facing the individual that incorporates not only the current job's earning risks but also the risk of unemployment is actually higher. Moreover, the perceived risk is higher for those whose perceptions of the earning risk and unemployment risk are more correlated than those less correlated. \n",
    "\n",
    "Lastly, what is ambiguous from the regression is the correlation between stock market expectations and perceived income risks. Although a more positive stock market expectation is associated with higher expected earnings growth in both real and nominal terms, it is positively correlated with nominal earning risks but negatively correlated with real earning risks. As the real earning risk is the summation of the perceived risk of nominal earning and inflation uncertainty, the sign difference has to be driven by a negative correlation of expectation stock market and inflation uncertainty.  In order to reach more conclusive statements, in the next section, I will examine how perceived labor income risks correlate with the realized stock market returns and indicators of business cycles.  \n",
    "\n",
    "To summerize, a few questions arise from the patterns discussed above. First, what drives the differences in subjective earning risks across different workers? To what extent these perceptive differences reflect the true heterogeneity of the income risks facing by these individuals? Or they can be attributed to perceptive heterogeneity independent from the true risk profile. Second, how are individual earning risk is correlated with asset return expectations and broadly the macro economic environment? This will be the focus of the coming sections. "
   ]
  },
  {
   "cell_type": "code",
   "execution_count": 13,
   "metadata": {
    "code_folding": [
     0
    ]
   },
   "outputs": [],
   "source": [
    "## regressions try \n",
    "\n",
    "dep_list =  moms_nom + moms_real \n",
    "indep_list_ct = ['UEprobInd','UEprobInd','Stkprob']\n",
    "indep_list_dc = ['HHinc','selfemp','fulltime']\n",
    "\n",
    "rs_list = {}\n",
    "\n",
    "for i,mom in enumerate(dep_list):\n",
    "    ct_str = '+'.join([var for var in indep_list_ct])\n",
    "    dc_str = '+C(HHinc)+C(parttime)+C(selfemp)'\n",
    "    model = smf.ols(formula = str(mom)\n",
    "                    +'~ ' + ct_str\n",
    "                    + dc_str,\n",
    "                    data = SCEM)\n",
    "    rs_list[i] = model.fit()\n",
    "    #print(rs_list[i].summary())\n",
    "    \n",
    "## combine different specifications \n",
    "\n",
    "rs_names = [rs_list[i] for i in range(len(rs_list))]\n",
    "dfoutput = summary_col(rs_names,\n",
    "                       float_format='%0.2f',\n",
    "                       stars = True,\n",
    "                       info_dict={'N':lambda x: \"{0:d}\".format(int(x.nobs)),\n",
    "                                  'R2':lambda x: \"{:.2f}\".format(x.rsquared)})\n",
    "dfoutput.title = 'perceived income risks'\n",
    "#print(dfoutput)"
   ]
  },
  {
   "cell_type": "code",
   "execution_count": 14,
   "metadata": {
    "code_folding": []
   },
   "outputs": [],
   "source": [
    "## output tables \n",
    "\n",
    "beginningtex = \"\"\"\\\\documentclass{report}\n",
    "\\\\usepackage{booktabs}\n",
    "\\\\begin{document}\n",
    "\\\\begin{table}\"\"\"\n",
    "\n",
    "endtex = \"\\end{table}\\end{document}\"\n",
    "\n",
    "\n",
    "to_drop = ['Intercept']\n"
   ]
  },
  {
   "cell_type": "code",
   "execution_count": 15,
   "metadata": {
    "code_folding": [
     36
    ]
   },
   "outputs": [
    {
     "name": "stdout",
     "output_type": "stream",
     "text": [
      "                                              perceived income risks\n",
      "==================================================================================================================\n",
      "                   Q24_var I Q24_var II Q24_var III Q24_var IIII Q24_rvar I Q24_rvar II Q24_rvar III Q24_rvar IIII\n",
      "------------------------------------------------------------------------------------------------------------------\n",
      "C(HHinc)[T.10.0]                        -4.32***                                        -13.64***                 \n",
      "                                        (0.54)                                          (1.08)                    \n",
      "C(HHinc)[T.11.0]                        -2.23***                                        -11.70***                 \n",
      "                                        (0.55)                                          (1.10)                    \n",
      "C(HHinc)[T.2.0]                         -1.25**                                         -3.52***                  \n",
      "                                        (0.59)                                          (1.18)                    \n",
      "C(HHinc)[T.3.0]                         -1.63***                                        -2.67**                   \n",
      "                                        (0.55)                                          (1.09)                    \n",
      "C(HHinc)[T.4.0]                         -2.27***                                        -4.56***                  \n",
      "                                        (0.55)                                          (1.09)                    \n",
      "C(HHinc)[T.5.0]                         -3.61***                                        -8.25***                  \n",
      "                                        (0.54)                                          (1.08)                    \n",
      "C(HHinc)[T.6.0]                         -3.70***                                        -8.55***                  \n",
      "                                        (0.54)                                          (1.08)                    \n",
      "C(HHinc)[T.7.0]                         -4.15***                                        -10.43***                 \n",
      "                                        (0.53)                                          (1.06)                    \n",
      "C(HHinc)[T.8.0]                         -4.24***                                        -11.33***                 \n",
      "                                        (0.53)                                          (1.05)                    \n",
      "C(HHinc)[T.9.0]                         -4.47***                                        -12.91***                 \n",
      "                                        (0.53)                                          (1.05)                    \n",
      "C(gender)[T.male]                                   -0.88***                                         4.47***      \n",
      "                                                    (0.29)                                           (0.57)       \n",
      "C(parttime)[T.yes] -0.19     -0.01      -0.81***                 0.91***    1.28***     -1.53***                  \n",
      "                   (0.13)    (0.13)     (0.15)                   (0.25)     (0.27)      (0.29)                    \n",
      "C(selfemp)[T.yes]  7.36***   -0.00***   0.00***                  6.16***    0.00***     -0.00***                  \n",
      "                   (0.15)    (0.00)     (0.00)                   (0.29)     (0.00)      (0.00)                    \n",
      "Intercept          4.66***   4.03***    7.58***     8.04***      12.54***   14.07***    23.09***     25.91***     \n",
      "                   (0.06)    (0.11)     (0.52)      (0.49)       (0.11)     (0.23)      (1.04)       (0.97)       \n",
      "Stkprob                      0.01**     0.01***                             -0.05***    -0.04***                  \n",
      "                             (0.00)     (0.00)                              (0.00)      (0.00)                    \n",
      "UEprobInd                    0.03***    0.03***                             0.06***     0.05***                   \n",
      "                             (0.00)     (0.00)                              (0.01)      (0.01)                    \n",
      "educ                                                -0.25**                                          -2.09***     \n",
      "                                                    (0.10)                                           (0.19)       \n",
      "N                  46027     39868      34475       6872         43237      37397       32614        6165         \n",
      "R2                 0.05      0.00       0.01        0.00         0.01       0.01        0.04         0.03         \n",
      "==================================================================================================================\n",
      "Standard errors in parentheses.\n",
      "* p<.1, ** p<.05, ***p<.01\n"
     ]
    }
   ],
   "source": [
    "## full-table \n",
    "\n",
    "rs_list = {}  ## list to store results \n",
    "nb_spc = 4  ## number of specifications \n",
    "\n",
    "for i,mom in enumerate(dep_list):\n",
    "    ## model 1 \n",
    "    model = smf.ols(formula = str(mom)\n",
    "                    +'~ C(parttime)+C(selfemp)',\n",
    "                    data = SCEM)\n",
    "    rs_list[nb_spc*i] = model.fit()\n",
    "    \n",
    "    ## model 2\n",
    "    ct_str = '+'.join([var for var in indep_list_ct])\n",
    "    model2 = smf.ols(formula = str(mom)\n",
    "                    +'~ C(parttime)+C(selfemp) + '\n",
    "                     + ct_str,\n",
    "                    data = SCEM)\n",
    "    rs_list[nb_spc*i+1] = model2.fit()\n",
    "    \n",
    "    ## model 3 \n",
    "    model3 = smf.ols(formula = str(mom)\n",
    "                    +'~ C(parttime) + C(selfemp) + C(HHinc) +'\n",
    "                     + ct_str,\n",
    "                    data = SCEM)\n",
    "    rs_list[nb_spc*i+2] = model3.fit()\n",
    "    \n",
    "    ## model 4 \n",
    "    model4 = smf.ols(formula = str(mom)\n",
    "                    +'~ C(gender)+ educ',\n",
    "                    data = SCEM)\n",
    "    rs_list[nb_spc*i+3] = model4.fit()\n",
    "    \n",
    "    \n",
    "rs_names2 = [rs_list[i] for i in range(len(rs_list))]\n",
    "\n",
    "dfoutput2 = summary_col(rs_names2,\n",
    "                        float_format='%0.2f',\n",
    "                        stars = True,\n",
    "                        info_dict={'N':lambda x: \"{0:d}\".format(int(x.nobs)),\n",
    "                                  'R2':lambda x: \"{:.2f}\".format(x.rsquared)})\n",
    "dfoutput2.title = 'perceived income risks'\n",
    "print(dfoutput2)"
   ]
  },
  {
   "cell_type": "code",
   "execution_count": 16,
   "metadata": {
    "code_folding": []
   },
   "outputs": [],
   "source": [
    "## write to latex \n",
    "f = open('../Tables/latex/micro_reg.tex', 'w')\n",
    "f.write(beginningtex)\n",
    "tb = dfoutput2.tables[0].drop(index = to_drop)\n",
    "tb_ltx = tb.to_latex()\n",
    "#print(tb)\n",
    "f.write(tb_ltx)\n",
    "f.write(endtex)\n",
    "f.close()\n"
   ]
  },
  {
   "cell_type": "code",
   "execution_count": 25,
   "metadata": {},
   "outputs": [],
   "source": [
    "## write to excel \n",
    "\n",
    "tb.to_excel('../Tables/micro_reg.xlsx')"
   ]
  }
 ],
 "metadata": {
  "kernelspec": {
   "display_name": "Python 3",
   "language": "python",
   "name": "python3"
  },
  "language_info": {
   "codemirror_mode": {
    "name": "ipython",
    "version": 3
   },
   "file_extension": ".py",
   "mimetype": "text/x-python",
   "name": "python",
   "nbconvert_exporter": "python",
   "pygments_lexer": "ipython3",
   "version": "3.7.3"
  }
 },
 "nbformat": 4,
 "nbformat_minor": 2
}
