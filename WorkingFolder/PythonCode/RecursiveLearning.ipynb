{
 "cells": [
  {
   "cell_type": "markdown",
   "metadata": {},
   "source": [
    "## Recursive Learning "
   ]
  },
  {
   "cell_type": "markdown",
   "metadata": {},
   "source": [
    "- The least square learning can be written in a recurive form. \n",
    "- Both the estimator and the forecast uncertainty "
   ]
  },
  {
   "cell_type": "markdown",
   "metadata": {},
   "source": [
    "### A Generic Example\n",
    "\n",
    "We define that the variable of interest income $y_{i,t}$ consists of a deterministic component that is predictable by wknown factors $X_{i,t}$ and a stochastic component that embodies shocks of different nature, aggregate/idiosyncratic, or permanent and transitory. \n",
    "\n",
    "\\begin{equation}\n",
    " y_{i,t} = \\beta X_{i,t} + \\epsilon_{i,t}\n",
    "\\end{equation} \n",
    "\n",
    "The agent $i$ need to learn about model parameter vector $\\beta$ (sized k) from historical data based on his/her specification of the nature of the shocks. There is a cross-sectional variation across different agents in the sample within each period of the time. Assume the sample size is $N$. \n",
    "\n",
    "The learning takes the form of least square and we can write it in a recursive form. \n",
    "\n",
    "\\begin{equation}\n",
    "\\begin{split}\n",
    " \\tilde \\beta_{i,t} = \\tilde \\beta_{i,t-1} + \\gamma_{i,t}R^{-1}_{i,t} (Y_{t}- \\tilde \\beta_{i,t-1}X_{i,t}) \\\\\n",
    " R_{i,t} = R_{i,t-1} + \\gamma_{i,t} (X_tX_t' - R_{i,t-1})\n",
    "\\end{split}\n",
    "\\end{equation} \n",
    "\n",
    "\n"
   ]
  },
  {
   "cell_type": "code",
   "execution_count": null,
   "metadata": {},
   "outputs": [],
   "source": []
  }
 ],
 "metadata": {
  "kernelspec": {
   "display_name": "Python 3",
   "language": "python",
   "name": "python3"
  },
  "language_info": {
   "codemirror_mode": {
    "name": "ipython",
    "version": 3
   },
   "file_extension": ".py",
   "mimetype": "text/x-python",
   "name": "python",
   "nbconvert_exporter": "python",
   "pygments_lexer": "ipython3",
   "version": "3.7.3"
  }
 },
 "nbformat": 4,
 "nbformat_minor": 4
}
