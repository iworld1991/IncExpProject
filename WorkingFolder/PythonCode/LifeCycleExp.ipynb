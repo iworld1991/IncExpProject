{
 "cells": [
  {
   "cell_type": "markdown",
   "metadata": {},
   "source": [
    "## A life-cycle model of consumption/saving with experience-based income expectations and risk perceptions \n",
    "\n",
    "- This life-cycle model is an extension of Gourinchas and Parker (2002) in two following dimensions\n",
    "\n",
    "  - Instead of taking the size of permanent and transitory income risks as given as assumed by the economists, agents endogenously learn about the income risks and form income expectations based on their past experiences. Therefore, income expectations/variances are age-cohort specific \n",
    "    - Depending on if there is subjective attribution, the income expectations and risk perceptions will be state-dependent. \n",
    "    - From the point view of solving the dynamic problem, this means that the mean/variance of the perceived income at any given time $t$ become other two state variables, in addition to asset and saving. \n",
    "      - They are exogeous state in the sense that agents' decision will not affect the law of the motion. Also, there will not be feed-back loop from the market outcome.\n",
    "    \n",
    "  - Instead of partial equilibrium, I explore the general equilibrium and its distributional features in the presence of heterogeneous agents in terms of age, experiences, and beliefs. \n",
    "  \n",
    "  \n",
    "- In terms of the implementation, since the heterogenous perceptions are exogenous states that depend on the cross-sectional distributions of income realizations in the past, we can separate the perception formation problem from the standard life-cycle decision problem. \n",
    "\n",
    "  - We need to solve the life-cycle problem for a list of possible grids of \"perceived\" parameters. For each of this problem, the policies functions are still only dependent on the age and assets. \n",
    "  - Then we simulate the income realizations for a cross-sectional sample of N agents over a life cycle.\n",
    "     - There can be either idiosyncratic or aggregate risks.  \n",
    "  - The simulated histories will produce \n",
    "      - life-cycle perception profiles of each individual based on the past income realizations. \n",
    "      - then, the life-cycle profiles of consumption and assets of each individuals and its aggregate distributions using the perception-specific policy function solved from the begining.   \n",
    "      \n",
    "      - this gives us the aggregate consumption/savings, that may be potentially used to solve general equilibrium models. "
   ]
  },
  {
   "cell_type": "code",
   "execution_count": null,
   "metadata": {},
   "outputs": [],
   "source": []
  }
 ],
 "metadata": {
  "kernelspec": {
   "display_name": "Python 3",
   "language": "python",
   "name": "python3"
  },
  "language_info": {
   "codemirror_mode": {
    "name": "ipython",
    "version": 3
   },
   "file_extension": ".py",
   "mimetype": "text/x-python",
   "name": "python",
   "nbconvert_exporter": "python",
   "pygments_lexer": "ipython3",
   "version": "3.7.3"
  }
 },
 "nbformat": 4,
 "nbformat_minor": 4
}
